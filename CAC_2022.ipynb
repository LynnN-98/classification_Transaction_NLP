{
  "cells": [
    {
      "cell_type": "markdown",
      "source": [
        "# Import Datasets"
      ],
      "metadata": {
        "id": "yyCfds9CP9KZ"
      },
      "id": "yyCfds9CP9KZ"
    },
    {
      "cell_type": "code",
      "execution_count": null,
      "id": "7bd4a7ee",
      "metadata": {
        "id": "7bd4a7ee"
      },
      "outputs": [],
      "source": [
        "import pandas as pd\n",
        "import numpy as np \n",
        "from IPython.core.interactiveshell import InteractiveShell\n",
        "InteractiveShell.ast_node_interactivity = \"all\"\n",
        "\n",
        "import matplotlib.pyplot as plt\n",
        "%matplotlib inline\n",
        "import seaborn as sns\n",
        "\n",
        "from sklearn.preprocessing import LabelEncoder\n",
        "from sklearn.model_selection import train_test_split\n",
        "\n",
        "# For generating TF-IDF feature vectors\n",
        "from sklearn.feature_extraction.text import TfidfVectorizer\n",
        "from sklearn import metrics\n",
        "import scipy.sparse as sp \n",
        "from sklearn.model_selection import cross_validate, GridSearchCV\n",
        "from sklearn.model_selection import train_test_split\n",
        "# Related global settings\n",
        "pd.set_option('display.max_columns', None)\n",
        "sns.set()"
      ]
    },
    {
      "cell_type": "code",
      "execution_count": null,
      "id": "f1c122b5",
      "metadata": {
        "id": "f1c122b5"
      },
      "outputs": [],
      "source": [
        "train_path = 'dbb4c4ff1f31-CAC+2022_Training+Data+Set+New (1).xlsx'\n",
        "test_path = 'dbb4c4ff1f31-CAC+2022_Test+Data+Set+New.xlsx'\n",
        "data_train = pd.read_excel(train_path)\n",
        "data_test = pd.read_excel(test_path)"
      ]
    },
    {
      "cell_type": "markdown",
      "source": [
        "# Exploratory Data Analysis"
      ],
      "metadata": {
        "id": "JMrrSy5-GwJu"
      },
      "id": "JMrrSy5-GwJu"
    },
    {
      "cell_type": "markdown",
      "id": "f663dc91",
      "metadata": {
        "id": "f663dc91"
      },
      "source": [
        "## Data Load & Information Retrieving "
      ]
    },
    {
      "cell_type": "code",
      "execution_count": null,
      "id": "4ff28e1e",
      "metadata": {
        "scrolled": true,
        "colab": {
          "base_uri": "https://localhost:8080/",
          "height": 1000
        },
        "id": "4ff28e1e",
        "outputId": "3425a552-b5e8-4657-dc42-c12912f32dfd"
      },
      "outputs": [
        {
          "output_type": "execute_result",
          "data": {
            "text/plain": [
              "      sor                cdf_seq_no  \\\n",
              "0      HH        T20110701260061756   \n",
              "1      HH       T201302289909010349   \n",
              "2      HH  T20130726991361190114550   \n",
              "3      BK       T201207095780929968   \n",
              "4      HH  T20131230990558080004939   \n",
              "39995  HH  T20130726991321130015959   \n",
              "39996  HH       T201208319925685298   \n",
              "39997  HH        T20111004560028307   \n",
              "39998  HH        T20110601320040304   \n",
              "39999  HH       T201208319925581644   \n",
              "\n",
              "                                              trans_desc  merchant_cat_code  \\\n",
              "0      RECUR DEBIT CRD PMT11/11 DELTA DENTAL OF A11 O...             6300.0   \n",
              "1      CHECK CRD PURCHASE 11/11 SURETY SOLUTIONS,    ...                NaN   \n",
              "2      CHECK CRD PURCHASE 11/11 THE COPY STOP        ...                NaN   \n",
              "3               MARKET ALERT INC         111-111-1111 TX             7375.0   \n",
              "4      CHECK CRD PURCHASE 11/11 PERT- NER PERFECT    ...                NaN   \n",
              "39995  CHECK CRD PURCHASE 11/11 ALLIED FIDELITY SE   ...                NaN   \n",
              "39996  CHECK CRD PURCHASE 11/11 FOREMOST INSURANCE   ...                NaN   \n",
              "39997  CHECK CRD PURCHASE 11/11 PROPAY USA- ProPay, I...             7399.0   \n",
              "39998  CHECK CRD PURCHASE 11/11 COWBOY FINANCE LLC   ...             6051.0   \n",
              "39999  CHECK CRD PURCHASE 11/11 JONJON DELI GROCER   ...                NaN   \n",
              "\n",
              "          amt db_cr_cd payment_reporting_category payment_category  \\\n",
              "0       58.34        D                       Card       Debit Card   \n",
              "1      103.00        D                       Card       Check Card   \n",
              "2       22.44        D                       Card       Check Card   \n",
              "3       22.44      NaN                       Card      Credit Card   \n",
              "4       66.25        D                       Card       Check Card   \n",
              "39995  100.00        D                       Card       Check Card   \n",
              "39996  184.78        D                       Card       Check Card   \n",
              "39997    9.95        D                       Card       Check Card   \n",
              "39998  250.00        D                       Card       Check Card   \n",
              "39999   14.49        D                       Card       Check Card   \n",
              "\n",
              "       is_international           default_brand  default_location  \\\n",
              "0                 False  DELTA DENTAL OF A11 OF    111-1111111 AR   \n",
              "1                 False       SURETY SOLUTIONS,   111-111-1111 OR   \n",
              "2                 False           THE COPY STOP  SALT LAKE CIT UT   \n",
              "3                 False        MARKET ALERT INC   111-111-1111 TX   \n",
              "4                 False       PERT- NER PERFECT  THE WOODLANDS TX   \n",
              "39995             False      ALLIED FIDELITY SE   111-111-1111 KS   \n",
              "39996             False      FOREMOST INSURANCE    111-1111111 MI   \n",
              "39997             False  PROPAY USA- ProPay, In    111-1111111 UT   \n",
              "39998             False      COWBOY FINANCE LLC    111-1111111 NM   \n",
              "39999             False      JONJON DELI GROCER          BRONX NY   \n",
              "\n",
              "                      qrated_brand              coalesced_brand Category  \n",
              "0                     Delta Dental                 Delta Dental  Finance  \n",
              "1                 Surety Solutions             Surety Solutions  Finance  \n",
              "2                    The Copy Stop                The Copy Stop  Finance  \n",
              "3                     Market Alert                 Market Alert  Finance  \n",
              "4      Hometown Insurance Partners  Hometown Insurance Partners  Finance  \n",
              "39995         Fidelity Investments         Fidelity Investments  Finance  \n",
              "39996           Foremost Insurance           Foremost Insurance  Finance  \n",
              "39997                       Propay                       Propay  Finance  \n",
              "39998               Cowboy Finance               Cowboy Finance  Finance  \n",
              "39999                  Deli Grocer                  Deli Grocer  Finance  "
            ],
            "text/html": [
              "\n",
              "  <div id=\"df-08129caa-efb0-451b-a2f2-fea0add443f2\">\n",
              "    <div class=\"colab-df-container\">\n",
              "      <div>\n",
              "<style scoped>\n",
              "    .dataframe tbody tr th:only-of-type {\n",
              "        vertical-align: middle;\n",
              "    }\n",
              "\n",
              "    .dataframe tbody tr th {\n",
              "        vertical-align: top;\n",
              "    }\n",
              "\n",
              "    .dataframe thead th {\n",
              "        text-align: right;\n",
              "    }\n",
              "</style>\n",
              "<table border=\"1\" class=\"dataframe\">\n",
              "  <thead>\n",
              "    <tr style=\"text-align: right;\">\n",
              "      <th></th>\n",
              "      <th>sor</th>\n",
              "      <th>cdf_seq_no</th>\n",
              "      <th>trans_desc</th>\n",
              "      <th>merchant_cat_code</th>\n",
              "      <th>amt</th>\n",
              "      <th>db_cr_cd</th>\n",
              "      <th>payment_reporting_category</th>\n",
              "      <th>payment_category</th>\n",
              "      <th>is_international</th>\n",
              "      <th>default_brand</th>\n",
              "      <th>default_location</th>\n",
              "      <th>qrated_brand</th>\n",
              "      <th>coalesced_brand</th>\n",
              "      <th>Category</th>\n",
              "    </tr>\n",
              "  </thead>\n",
              "  <tbody>\n",
              "    <tr>\n",
              "      <th>0</th>\n",
              "      <td>HH</td>\n",
              "      <td>T20110701260061756</td>\n",
              "      <td>RECUR DEBIT CRD PMT11/11 DELTA DENTAL OF A11 O...</td>\n",
              "      <td>6300.0</td>\n",
              "      <td>58.34</td>\n",
              "      <td>D</td>\n",
              "      <td>Card</td>\n",
              "      <td>Debit Card</td>\n",
              "      <td>False</td>\n",
              "      <td>DELTA DENTAL OF A11 OF</td>\n",
              "      <td>111-1111111 AR</td>\n",
              "      <td>Delta Dental</td>\n",
              "      <td>Delta Dental</td>\n",
              "      <td>Finance</td>\n",
              "    </tr>\n",
              "    <tr>\n",
              "      <th>1</th>\n",
              "      <td>HH</td>\n",
              "      <td>T201302289909010349</td>\n",
              "      <td>CHECK CRD PURCHASE 11/11 SURETY SOLUTIONS,    ...</td>\n",
              "      <td>NaN</td>\n",
              "      <td>103.00</td>\n",
              "      <td>D</td>\n",
              "      <td>Card</td>\n",
              "      <td>Check Card</td>\n",
              "      <td>False</td>\n",
              "      <td>SURETY SOLUTIONS,</td>\n",
              "      <td>111-111-1111 OR</td>\n",
              "      <td>Surety Solutions</td>\n",
              "      <td>Surety Solutions</td>\n",
              "      <td>Finance</td>\n",
              "    </tr>\n",
              "    <tr>\n",
              "      <th>2</th>\n",
              "      <td>HH</td>\n",
              "      <td>T20130726991361190114550</td>\n",
              "      <td>CHECK CRD PURCHASE 11/11 THE COPY STOP        ...</td>\n",
              "      <td>NaN</td>\n",
              "      <td>22.44</td>\n",
              "      <td>D</td>\n",
              "      <td>Card</td>\n",
              "      <td>Check Card</td>\n",
              "      <td>False</td>\n",
              "      <td>THE COPY STOP</td>\n",
              "      <td>SALT LAKE CIT UT</td>\n",
              "      <td>The Copy Stop</td>\n",
              "      <td>The Copy Stop</td>\n",
              "      <td>Finance</td>\n",
              "    </tr>\n",
              "    <tr>\n",
              "      <th>3</th>\n",
              "      <td>BK</td>\n",
              "      <td>T201207095780929968</td>\n",
              "      <td>MARKET ALERT INC         111-111-1111 TX</td>\n",
              "      <td>7375.0</td>\n",
              "      <td>22.44</td>\n",
              "      <td>NaN</td>\n",
              "      <td>Card</td>\n",
              "      <td>Credit Card</td>\n",
              "      <td>False</td>\n",
              "      <td>MARKET ALERT INC</td>\n",
              "      <td>111-111-1111 TX</td>\n",
              "      <td>Market Alert</td>\n",
              "      <td>Market Alert</td>\n",
              "      <td>Finance</td>\n",
              "    </tr>\n",
              "    <tr>\n",
              "      <th>4</th>\n",
              "      <td>HH</td>\n",
              "      <td>T20131230990558080004939</td>\n",
              "      <td>CHECK CRD PURCHASE 11/11 PERT- NER PERFECT    ...</td>\n",
              "      <td>NaN</td>\n",
              "      <td>66.25</td>\n",
              "      <td>D</td>\n",
              "      <td>Card</td>\n",
              "      <td>Check Card</td>\n",
              "      <td>False</td>\n",
              "      <td>PERT- NER PERFECT</td>\n",
              "      <td>THE WOODLANDS TX</td>\n",
              "      <td>Hometown Insurance Partners</td>\n",
              "      <td>Hometown Insurance Partners</td>\n",
              "      <td>Finance</td>\n",
              "    </tr>\n",
              "    <tr>\n",
              "      <th>39995</th>\n",
              "      <td>HH</td>\n",
              "      <td>T20130726991321130015959</td>\n",
              "      <td>CHECK CRD PURCHASE 11/11 ALLIED FIDELITY SE   ...</td>\n",
              "      <td>NaN</td>\n",
              "      <td>100.00</td>\n",
              "      <td>D</td>\n",
              "      <td>Card</td>\n",
              "      <td>Check Card</td>\n",
              "      <td>False</td>\n",
              "      <td>ALLIED FIDELITY SE</td>\n",
              "      <td>111-111-1111 KS</td>\n",
              "      <td>Fidelity Investments</td>\n",
              "      <td>Fidelity Investments</td>\n",
              "      <td>Finance</td>\n",
              "    </tr>\n",
              "    <tr>\n",
              "      <th>39996</th>\n",
              "      <td>HH</td>\n",
              "      <td>T201208319925685298</td>\n",
              "      <td>CHECK CRD PURCHASE 11/11 FOREMOST INSURANCE   ...</td>\n",
              "      <td>NaN</td>\n",
              "      <td>184.78</td>\n",
              "      <td>D</td>\n",
              "      <td>Card</td>\n",
              "      <td>Check Card</td>\n",
              "      <td>False</td>\n",
              "      <td>FOREMOST INSURANCE</td>\n",
              "      <td>111-1111111 MI</td>\n",
              "      <td>Foremost Insurance</td>\n",
              "      <td>Foremost Insurance</td>\n",
              "      <td>Finance</td>\n",
              "    </tr>\n",
              "    <tr>\n",
              "      <th>39997</th>\n",
              "      <td>HH</td>\n",
              "      <td>T20111004560028307</td>\n",
              "      <td>CHECK CRD PURCHASE 11/11 PROPAY USA- ProPay, I...</td>\n",
              "      <td>7399.0</td>\n",
              "      <td>9.95</td>\n",
              "      <td>D</td>\n",
              "      <td>Card</td>\n",
              "      <td>Check Card</td>\n",
              "      <td>False</td>\n",
              "      <td>PROPAY USA- ProPay, In</td>\n",
              "      <td>111-1111111 UT</td>\n",
              "      <td>Propay</td>\n",
              "      <td>Propay</td>\n",
              "      <td>Finance</td>\n",
              "    </tr>\n",
              "    <tr>\n",
              "      <th>39998</th>\n",
              "      <td>HH</td>\n",
              "      <td>T20110601320040304</td>\n",
              "      <td>CHECK CRD PURCHASE 11/11 COWBOY FINANCE LLC   ...</td>\n",
              "      <td>6051.0</td>\n",
              "      <td>250.00</td>\n",
              "      <td>D</td>\n",
              "      <td>Card</td>\n",
              "      <td>Check Card</td>\n",
              "      <td>False</td>\n",
              "      <td>COWBOY FINANCE LLC</td>\n",
              "      <td>111-1111111 NM</td>\n",
              "      <td>Cowboy Finance</td>\n",
              "      <td>Cowboy Finance</td>\n",
              "      <td>Finance</td>\n",
              "    </tr>\n",
              "    <tr>\n",
              "      <th>39999</th>\n",
              "      <td>HH</td>\n",
              "      <td>T201208319925581644</td>\n",
              "      <td>CHECK CRD PURCHASE 11/11 JONJON DELI GROCER   ...</td>\n",
              "      <td>NaN</td>\n",
              "      <td>14.49</td>\n",
              "      <td>D</td>\n",
              "      <td>Card</td>\n",
              "      <td>Check Card</td>\n",
              "      <td>False</td>\n",
              "      <td>JONJON DELI GROCER</td>\n",
              "      <td>BRONX NY</td>\n",
              "      <td>Deli Grocer</td>\n",
              "      <td>Deli Grocer</td>\n",
              "      <td>Finance</td>\n",
              "    </tr>\n",
              "  </tbody>\n",
              "</table>\n",
              "</div>\n",
              "      <button class=\"colab-df-convert\" onclick=\"convertToInteractive('df-08129caa-efb0-451b-a2f2-fea0add443f2')\"\n",
              "              title=\"Convert this dataframe to an interactive table.\"\n",
              "              style=\"display:none;\">\n",
              "        \n",
              "  <svg xmlns=\"http://www.w3.org/2000/svg\" height=\"24px\"viewBox=\"0 0 24 24\"\n",
              "       width=\"24px\">\n",
              "    <path d=\"M0 0h24v24H0V0z\" fill=\"none\"/>\n",
              "    <path d=\"M18.56 5.44l.94 2.06.94-2.06 2.06-.94-2.06-.94-.94-2.06-.94 2.06-2.06.94zm-11 1L8.5 8.5l.94-2.06 2.06-.94-2.06-.94L8.5 2.5l-.94 2.06-2.06.94zm10 10l.94 2.06.94-2.06 2.06-.94-2.06-.94-.94-2.06-.94 2.06-2.06.94z\"/><path d=\"M17.41 7.96l-1.37-1.37c-.4-.4-.92-.59-1.43-.59-.52 0-1.04.2-1.43.59L10.3 9.45l-7.72 7.72c-.78.78-.78 2.05 0 2.83L4 21.41c.39.39.9.59 1.41.59.51 0 1.02-.2 1.41-.59l7.78-7.78 2.81-2.81c.8-.78.8-2.07 0-2.86zM5.41 20L4 18.59l7.72-7.72 1.47 1.35L5.41 20z\"/>\n",
              "  </svg>\n",
              "      </button>\n",
              "      \n",
              "  <style>\n",
              "    .colab-df-container {\n",
              "      display:flex;\n",
              "      flex-wrap:wrap;\n",
              "      gap: 12px;\n",
              "    }\n",
              "\n",
              "    .colab-df-convert {\n",
              "      background-color: #E8F0FE;\n",
              "      border: none;\n",
              "      border-radius: 50%;\n",
              "      cursor: pointer;\n",
              "      display: none;\n",
              "      fill: #1967D2;\n",
              "      height: 32px;\n",
              "      padding: 0 0 0 0;\n",
              "      width: 32px;\n",
              "    }\n",
              "\n",
              "    .colab-df-convert:hover {\n",
              "      background-color: #E2EBFA;\n",
              "      box-shadow: 0px 1px 2px rgba(60, 64, 67, 0.3), 0px 1px 3px 1px rgba(60, 64, 67, 0.15);\n",
              "      fill: #174EA6;\n",
              "    }\n",
              "\n",
              "    [theme=dark] .colab-df-convert {\n",
              "      background-color: #3B4455;\n",
              "      fill: #D2E3FC;\n",
              "    }\n",
              "\n",
              "    [theme=dark] .colab-df-convert:hover {\n",
              "      background-color: #434B5C;\n",
              "      box-shadow: 0px 1px 3px 1px rgba(0, 0, 0, 0.15);\n",
              "      filter: drop-shadow(0px 1px 2px rgba(0, 0, 0, 0.3));\n",
              "      fill: #FFFFFF;\n",
              "    }\n",
              "  </style>\n",
              "\n",
              "      <script>\n",
              "        const buttonEl =\n",
              "          document.querySelector('#df-08129caa-efb0-451b-a2f2-fea0add443f2 button.colab-df-convert');\n",
              "        buttonEl.style.display =\n",
              "          google.colab.kernel.accessAllowed ? 'block' : 'none';\n",
              "\n",
              "        async function convertToInteractive(key) {\n",
              "          const element = document.querySelector('#df-08129caa-efb0-451b-a2f2-fea0add443f2');\n",
              "          const dataTable =\n",
              "            await google.colab.kernel.invokeFunction('convertToInteractive',\n",
              "                                                     [key], {});\n",
              "          if (!dataTable) return;\n",
              "\n",
              "          const docLinkHtml = 'Like what you see? Visit the ' +\n",
              "            '<a target=\"_blank\" href=https://colab.research.google.com/notebooks/data_table.ipynb>data table notebook</a>'\n",
              "            + ' to learn more about interactive tables.';\n",
              "          element.innerHTML = '';\n",
              "          dataTable['output_type'] = 'display_data';\n",
              "          await google.colab.output.renderOutput(dataTable, element);\n",
              "          const docLink = document.createElement('div');\n",
              "          docLink.innerHTML = docLinkHtml;\n",
              "          element.appendChild(docLink);\n",
              "        }\n",
              "      </script>\n",
              "    </div>\n",
              "  </div>\n",
              "  "
            ]
          },
          "metadata": {},
          "execution_count": 3
        },
        {
          "output_type": "execute_result",
          "data": {
            "text/plain": [
              "       merchant_cat_code           amt\n",
              "count       24691.000000  40000.000000\n",
              "mean         6263.878134     75.870519\n",
              "std          1217.403683    254.587351\n",
              "min             0.000000      0.010000\n",
              "25%          5699.000000     14.007500\n",
              "50%          5814.000000     29.990000\n",
              "75%          7230.000000     63.650000\n",
              "max          9405.000000  23313.800000"
            ],
            "text/html": [
              "\n",
              "  <div id=\"df-1aeb940d-c839-4341-96ec-e6b76ccfaf80\">\n",
              "    <div class=\"colab-df-container\">\n",
              "      <div>\n",
              "<style scoped>\n",
              "    .dataframe tbody tr th:only-of-type {\n",
              "        vertical-align: middle;\n",
              "    }\n",
              "\n",
              "    .dataframe tbody tr th {\n",
              "        vertical-align: top;\n",
              "    }\n",
              "\n",
              "    .dataframe thead th {\n",
              "        text-align: right;\n",
              "    }\n",
              "</style>\n",
              "<table border=\"1\" class=\"dataframe\">\n",
              "  <thead>\n",
              "    <tr style=\"text-align: right;\">\n",
              "      <th></th>\n",
              "      <th>merchant_cat_code</th>\n",
              "      <th>amt</th>\n",
              "    </tr>\n",
              "  </thead>\n",
              "  <tbody>\n",
              "    <tr>\n",
              "      <th>count</th>\n",
              "      <td>24691.000000</td>\n",
              "      <td>40000.000000</td>\n",
              "    </tr>\n",
              "    <tr>\n",
              "      <th>mean</th>\n",
              "      <td>6263.878134</td>\n",
              "      <td>75.870519</td>\n",
              "    </tr>\n",
              "    <tr>\n",
              "      <th>std</th>\n",
              "      <td>1217.403683</td>\n",
              "      <td>254.587351</td>\n",
              "    </tr>\n",
              "    <tr>\n",
              "      <th>min</th>\n",
              "      <td>0.000000</td>\n",
              "      <td>0.010000</td>\n",
              "    </tr>\n",
              "    <tr>\n",
              "      <th>25%</th>\n",
              "      <td>5699.000000</td>\n",
              "      <td>14.007500</td>\n",
              "    </tr>\n",
              "    <tr>\n",
              "      <th>50%</th>\n",
              "      <td>5814.000000</td>\n",
              "      <td>29.990000</td>\n",
              "    </tr>\n",
              "    <tr>\n",
              "      <th>75%</th>\n",
              "      <td>7230.000000</td>\n",
              "      <td>63.650000</td>\n",
              "    </tr>\n",
              "    <tr>\n",
              "      <th>max</th>\n",
              "      <td>9405.000000</td>\n",
              "      <td>23313.800000</td>\n",
              "    </tr>\n",
              "  </tbody>\n",
              "</table>\n",
              "</div>\n",
              "      <button class=\"colab-df-convert\" onclick=\"convertToInteractive('df-1aeb940d-c839-4341-96ec-e6b76ccfaf80')\"\n",
              "              title=\"Convert this dataframe to an interactive table.\"\n",
              "              style=\"display:none;\">\n",
              "        \n",
              "  <svg xmlns=\"http://www.w3.org/2000/svg\" height=\"24px\"viewBox=\"0 0 24 24\"\n",
              "       width=\"24px\">\n",
              "    <path d=\"M0 0h24v24H0V0z\" fill=\"none\"/>\n",
              "    <path d=\"M18.56 5.44l.94 2.06.94-2.06 2.06-.94-2.06-.94-.94-2.06-.94 2.06-2.06.94zm-11 1L8.5 8.5l.94-2.06 2.06-.94-2.06-.94L8.5 2.5l-.94 2.06-2.06.94zm10 10l.94 2.06.94-2.06 2.06-.94-2.06-.94-.94-2.06-.94 2.06-2.06.94z\"/><path d=\"M17.41 7.96l-1.37-1.37c-.4-.4-.92-.59-1.43-.59-.52 0-1.04.2-1.43.59L10.3 9.45l-7.72 7.72c-.78.78-.78 2.05 0 2.83L4 21.41c.39.39.9.59 1.41.59.51 0 1.02-.2 1.41-.59l7.78-7.78 2.81-2.81c.8-.78.8-2.07 0-2.86zM5.41 20L4 18.59l7.72-7.72 1.47 1.35L5.41 20z\"/>\n",
              "  </svg>\n",
              "      </button>\n",
              "      \n",
              "  <style>\n",
              "    .colab-df-container {\n",
              "      display:flex;\n",
              "      flex-wrap:wrap;\n",
              "      gap: 12px;\n",
              "    }\n",
              "\n",
              "    .colab-df-convert {\n",
              "      background-color: #E8F0FE;\n",
              "      border: none;\n",
              "      border-radius: 50%;\n",
              "      cursor: pointer;\n",
              "      display: none;\n",
              "      fill: #1967D2;\n",
              "      height: 32px;\n",
              "      padding: 0 0 0 0;\n",
              "      width: 32px;\n",
              "    }\n",
              "\n",
              "    .colab-df-convert:hover {\n",
              "      background-color: #E2EBFA;\n",
              "      box-shadow: 0px 1px 2px rgba(60, 64, 67, 0.3), 0px 1px 3px 1px rgba(60, 64, 67, 0.15);\n",
              "      fill: #174EA6;\n",
              "    }\n",
              "\n",
              "    [theme=dark] .colab-df-convert {\n",
              "      background-color: #3B4455;\n",
              "      fill: #D2E3FC;\n",
              "    }\n",
              "\n",
              "    [theme=dark] .colab-df-convert:hover {\n",
              "      background-color: #434B5C;\n",
              "      box-shadow: 0px 1px 3px 1px rgba(0, 0, 0, 0.15);\n",
              "      filter: drop-shadow(0px 1px 2px rgba(0, 0, 0, 0.3));\n",
              "      fill: #FFFFFF;\n",
              "    }\n",
              "  </style>\n",
              "\n",
              "      <script>\n",
              "        const buttonEl =\n",
              "          document.querySelector('#df-1aeb940d-c839-4341-96ec-e6b76ccfaf80 button.colab-df-convert');\n",
              "        buttonEl.style.display =\n",
              "          google.colab.kernel.accessAllowed ? 'block' : 'none';\n",
              "\n",
              "        async function convertToInteractive(key) {\n",
              "          const element = document.querySelector('#df-1aeb940d-c839-4341-96ec-e6b76ccfaf80');\n",
              "          const dataTable =\n",
              "            await google.colab.kernel.invokeFunction('convertToInteractive',\n",
              "                                                     [key], {});\n",
              "          if (!dataTable) return;\n",
              "\n",
              "          const docLinkHtml = 'Like what you see? Visit the ' +\n",
              "            '<a target=\"_blank\" href=https://colab.research.google.com/notebooks/data_table.ipynb>data table notebook</a>'\n",
              "            + ' to learn more about interactive tables.';\n",
              "          element.innerHTML = '';\n",
              "          dataTable['output_type'] = 'display_data';\n",
              "          await google.colab.output.renderOutput(dataTable, element);\n",
              "          const docLink = document.createElement('div');\n",
              "          docLink.innerHTML = docLinkHtml;\n",
              "          element.appendChild(docLink);\n",
              "        }\n",
              "      </script>\n",
              "    </div>\n",
              "  </div>\n",
              "  "
            ]
          },
          "metadata": {},
          "execution_count": 3
        },
        {
          "output_type": "stream",
          "name": "stdout",
          "text": [
            "<class 'pandas.core.frame.DataFrame'>\n",
            "RangeIndex: 40000 entries, 0 to 39999\n",
            "Data columns (total 14 columns):\n",
            " #   Column                      Non-Null Count  Dtype  \n",
            "---  ------                      --------------  -----  \n",
            " 0   sor                         40000 non-null  object \n",
            " 1   cdf_seq_no                  40000 non-null  object \n",
            " 2   trans_desc                  40000 non-null  object \n",
            " 3   merchant_cat_code           24691 non-null  float64\n",
            " 4   amt                         40000 non-null  float64\n",
            " 5   db_cr_cd                    39688 non-null  object \n",
            " 6   payment_reporting_category  40000 non-null  object \n",
            " 7   payment_category            40000 non-null  object \n",
            " 8   is_international            40000 non-null  bool   \n",
            " 9   default_brand               40000 non-null  object \n",
            " 10  default_location            39994 non-null  object \n",
            " 11  qrated_brand                36673 non-null  object \n",
            " 12  coalesced_brand             40000 non-null  object \n",
            " 13  Category                    40000 non-null  object \n",
            "dtypes: bool(1), float64(2), object(11)\n",
            "memory usage: 4.0+ MB\n"
          ]
        }
      ],
      "source": [
        "data_train.head().append(data_train.tail())\n",
        "# check the extreme value, mean and variance of data\n",
        "data_train.describe()\n",
        "# check the type and amount of data\n",
        "data_train.info()"
      ]
    },
    {
      "cell_type": "markdown",
      "id": "5534da18",
      "metadata": {
        "id": "5534da18"
      },
      "source": [
        "## Dataframe Data Conclusion"
      ]
    },
    {
      "cell_type": "code",
      "execution_count": null,
      "id": "7d3c144e",
      "metadata": {
        "colab": {
          "base_uri": "https://localhost:8080/",
          "height": 206
        },
        "id": "7d3c144e",
        "outputId": "8e28c23b-7bbb-4f7e-da27-98d35499c687"
      },
      "outputs": [
        {
          "output_type": "execute_result",
          "data": {
            "text/plain": [
              "   merchant_cat_code     amt\n",
              "0             6300.0   58.34\n",
              "1                NaN  103.00\n",
              "2                NaN   22.44\n",
              "3             7375.0   22.44\n",
              "4                NaN   66.25"
            ],
            "text/html": [
              "\n",
              "  <div id=\"df-bcfbd519-27cb-4a89-b0fb-29964d43184c\">\n",
              "    <div class=\"colab-df-container\">\n",
              "      <div>\n",
              "<style scoped>\n",
              "    .dataframe tbody tr th:only-of-type {\n",
              "        vertical-align: middle;\n",
              "    }\n",
              "\n",
              "    .dataframe tbody tr th {\n",
              "        vertical-align: top;\n",
              "    }\n",
              "\n",
              "    .dataframe thead th {\n",
              "        text-align: right;\n",
              "    }\n",
              "</style>\n",
              "<table border=\"1\" class=\"dataframe\">\n",
              "  <thead>\n",
              "    <tr style=\"text-align: right;\">\n",
              "      <th></th>\n",
              "      <th>merchant_cat_code</th>\n",
              "      <th>amt</th>\n",
              "    </tr>\n",
              "  </thead>\n",
              "  <tbody>\n",
              "    <tr>\n",
              "      <th>0</th>\n",
              "      <td>6300.0</td>\n",
              "      <td>58.34</td>\n",
              "    </tr>\n",
              "    <tr>\n",
              "      <th>1</th>\n",
              "      <td>NaN</td>\n",
              "      <td>103.00</td>\n",
              "    </tr>\n",
              "    <tr>\n",
              "      <th>2</th>\n",
              "      <td>NaN</td>\n",
              "      <td>22.44</td>\n",
              "    </tr>\n",
              "    <tr>\n",
              "      <th>3</th>\n",
              "      <td>7375.0</td>\n",
              "      <td>22.44</td>\n",
              "    </tr>\n",
              "    <tr>\n",
              "      <th>4</th>\n",
              "      <td>NaN</td>\n",
              "      <td>66.25</td>\n",
              "    </tr>\n",
              "  </tbody>\n",
              "</table>\n",
              "</div>\n",
              "      <button class=\"colab-df-convert\" onclick=\"convertToInteractive('df-bcfbd519-27cb-4a89-b0fb-29964d43184c')\"\n",
              "              title=\"Convert this dataframe to an interactive table.\"\n",
              "              style=\"display:none;\">\n",
              "        \n",
              "  <svg xmlns=\"http://www.w3.org/2000/svg\" height=\"24px\"viewBox=\"0 0 24 24\"\n",
              "       width=\"24px\">\n",
              "    <path d=\"M0 0h24v24H0V0z\" fill=\"none\"/>\n",
              "    <path d=\"M18.56 5.44l.94 2.06.94-2.06 2.06-.94-2.06-.94-.94-2.06-.94 2.06-2.06.94zm-11 1L8.5 8.5l.94-2.06 2.06-.94-2.06-.94L8.5 2.5l-.94 2.06-2.06.94zm10 10l.94 2.06.94-2.06 2.06-.94-2.06-.94-.94-2.06-.94 2.06-2.06.94z\"/><path d=\"M17.41 7.96l-1.37-1.37c-.4-.4-.92-.59-1.43-.59-.52 0-1.04.2-1.43.59L10.3 9.45l-7.72 7.72c-.78.78-.78 2.05 0 2.83L4 21.41c.39.39.9.59 1.41.59.51 0 1.02-.2 1.41-.59l7.78-7.78 2.81-2.81c.8-.78.8-2.07 0-2.86zM5.41 20L4 18.59l7.72-7.72 1.47 1.35L5.41 20z\"/>\n",
              "  </svg>\n",
              "      </button>\n",
              "      \n",
              "  <style>\n",
              "    .colab-df-container {\n",
              "      display:flex;\n",
              "      flex-wrap:wrap;\n",
              "      gap: 12px;\n",
              "    }\n",
              "\n",
              "    .colab-df-convert {\n",
              "      background-color: #E8F0FE;\n",
              "      border: none;\n",
              "      border-radius: 50%;\n",
              "      cursor: pointer;\n",
              "      display: none;\n",
              "      fill: #1967D2;\n",
              "      height: 32px;\n",
              "      padding: 0 0 0 0;\n",
              "      width: 32px;\n",
              "    }\n",
              "\n",
              "    .colab-df-convert:hover {\n",
              "      background-color: #E2EBFA;\n",
              "      box-shadow: 0px 1px 2px rgba(60, 64, 67, 0.3), 0px 1px 3px 1px rgba(60, 64, 67, 0.15);\n",
              "      fill: #174EA6;\n",
              "    }\n",
              "\n",
              "    [theme=dark] .colab-df-convert {\n",
              "      background-color: #3B4455;\n",
              "      fill: #D2E3FC;\n",
              "    }\n",
              "\n",
              "    [theme=dark] .colab-df-convert:hover {\n",
              "      background-color: #434B5C;\n",
              "      box-shadow: 0px 1px 3px 1px rgba(0, 0, 0, 0.15);\n",
              "      filter: drop-shadow(0px 1px 2px rgba(0, 0, 0, 0.3));\n",
              "      fill: #FFFFFF;\n",
              "    }\n",
              "  </style>\n",
              "\n",
              "      <script>\n",
              "        const buttonEl =\n",
              "          document.querySelector('#df-bcfbd519-27cb-4a89-b0fb-29964d43184c button.colab-df-convert');\n",
              "        buttonEl.style.display =\n",
              "          google.colab.kernel.accessAllowed ? 'block' : 'none';\n",
              "\n",
              "        async function convertToInteractive(key) {\n",
              "          const element = document.querySelector('#df-bcfbd519-27cb-4a89-b0fb-29964d43184c');\n",
              "          const dataTable =\n",
              "            await google.colab.kernel.invokeFunction('convertToInteractive',\n",
              "                                                     [key], {});\n",
              "          if (!dataTable) return;\n",
              "\n",
              "          const docLinkHtml = 'Like what you see? Visit the ' +\n",
              "            '<a target=\"_blank\" href=https://colab.research.google.com/notebooks/data_table.ipynb>data table notebook</a>'\n",
              "            + ' to learn more about interactive tables.';\n",
              "          element.innerHTML = '';\n",
              "          dataTable['output_type'] = 'display_data';\n",
              "          await google.colab.output.renderOutput(dataTable, element);\n",
              "          const docLink = document.createElement('div');\n",
              "          docLink.innerHTML = docLinkHtml;\n",
              "          element.appendChild(docLink);\n",
              "        }\n",
              "      </script>\n",
              "    </div>\n",
              "  </div>\n",
              "  "
            ]
          },
          "metadata": {},
          "execution_count": 4
        }
      ],
      "source": [
        "# Numerical variables\n",
        "numeric_features = data_train.select_dtypes(include=[np.number])\n",
        "numeric_features.head()"
      ]
    },
    {
      "cell_type": "code",
      "execution_count": null,
      "id": "ea1171df",
      "metadata": {
        "colab": {
          "base_uri": "https://localhost:8080/",
          "height": 687
        },
        "id": "ea1171df",
        "outputId": "4c8f792c-3f6e-4067-822b-e0c112dac24d"
      },
      "outputs": [
        {
          "output_type": "stream",
          "name": "stderr",
          "text": [
            "/usr/local/lib/python3.7/dist-packages/ipykernel_launcher.py:2: DeprecationWarning: `np.object` is a deprecated alias for the builtin `object`. To silence this warning, use `object` by itself. Doing this will not modify any behavior and is safe. \n",
            "Deprecated in NumPy 1.20; for more details and guidance: https://numpy.org/devdocs/release/1.20.0-notes.html#deprecations\n",
            "  \n"
          ]
        },
        {
          "output_type": "execute_result",
          "data": {
            "text/plain": [
              "  sor                cdf_seq_no  \\\n",
              "0  HH        T20110701260061756   \n",
              "1  HH       T201302289909010349   \n",
              "2  HH  T20130726991361190114550   \n",
              "3  BK       T201207095780929968   \n",
              "4  HH  T20131230990558080004939   \n",
              "\n",
              "                                          trans_desc db_cr_cd  \\\n",
              "0  RECUR DEBIT CRD PMT11/11 DELTA DENTAL OF A11 O...        D   \n",
              "1  CHECK CRD PURCHASE 11/11 SURETY SOLUTIONS,    ...        D   \n",
              "2  CHECK CRD PURCHASE 11/11 THE COPY STOP        ...        D   \n",
              "3           MARKET ALERT INC         111-111-1111 TX      NaN   \n",
              "4  CHECK CRD PURCHASE 11/11 PERT- NER PERFECT    ...        D   \n",
              "\n",
              "  payment_reporting_category payment_category           default_brand  \\\n",
              "0                       Card       Debit Card  DELTA DENTAL OF A11 OF   \n",
              "1                       Card       Check Card       SURETY SOLUTIONS,   \n",
              "2                       Card       Check Card           THE COPY STOP   \n",
              "3                       Card      Credit Card        MARKET ALERT INC   \n",
              "4                       Card       Check Card       PERT- NER PERFECT   \n",
              "\n",
              "   default_location                 qrated_brand              coalesced_brand  \\\n",
              "0    111-1111111 AR                 Delta Dental                 Delta Dental   \n",
              "1   111-111-1111 OR             Surety Solutions             Surety Solutions   \n",
              "2  SALT LAKE CIT UT                The Copy Stop                The Copy Stop   \n",
              "3   111-111-1111 TX                 Market Alert                 Market Alert   \n",
              "4  THE WOODLANDS TX  Hometown Insurance Partners  Hometown Insurance Partners   \n",
              "\n",
              "  Category  \n",
              "0  Finance  \n",
              "1  Finance  \n",
              "2  Finance  \n",
              "3  Finance  \n",
              "4  Finance  "
            ],
            "text/html": [
              "\n",
              "  <div id=\"df-972d4541-90a3-49f7-8345-bed61f6d4be7\">\n",
              "    <div class=\"colab-df-container\">\n",
              "      <div>\n",
              "<style scoped>\n",
              "    .dataframe tbody tr th:only-of-type {\n",
              "        vertical-align: middle;\n",
              "    }\n",
              "\n",
              "    .dataframe tbody tr th {\n",
              "        vertical-align: top;\n",
              "    }\n",
              "\n",
              "    .dataframe thead th {\n",
              "        text-align: right;\n",
              "    }\n",
              "</style>\n",
              "<table border=\"1\" class=\"dataframe\">\n",
              "  <thead>\n",
              "    <tr style=\"text-align: right;\">\n",
              "      <th></th>\n",
              "      <th>sor</th>\n",
              "      <th>cdf_seq_no</th>\n",
              "      <th>trans_desc</th>\n",
              "      <th>db_cr_cd</th>\n",
              "      <th>payment_reporting_category</th>\n",
              "      <th>payment_category</th>\n",
              "      <th>default_brand</th>\n",
              "      <th>default_location</th>\n",
              "      <th>qrated_brand</th>\n",
              "      <th>coalesced_brand</th>\n",
              "      <th>Category</th>\n",
              "    </tr>\n",
              "  </thead>\n",
              "  <tbody>\n",
              "    <tr>\n",
              "      <th>0</th>\n",
              "      <td>HH</td>\n",
              "      <td>T20110701260061756</td>\n",
              "      <td>RECUR DEBIT CRD PMT11/11 DELTA DENTAL OF A11 O...</td>\n",
              "      <td>D</td>\n",
              "      <td>Card</td>\n",
              "      <td>Debit Card</td>\n",
              "      <td>DELTA DENTAL OF A11 OF</td>\n",
              "      <td>111-1111111 AR</td>\n",
              "      <td>Delta Dental</td>\n",
              "      <td>Delta Dental</td>\n",
              "      <td>Finance</td>\n",
              "    </tr>\n",
              "    <tr>\n",
              "      <th>1</th>\n",
              "      <td>HH</td>\n",
              "      <td>T201302289909010349</td>\n",
              "      <td>CHECK CRD PURCHASE 11/11 SURETY SOLUTIONS,    ...</td>\n",
              "      <td>D</td>\n",
              "      <td>Card</td>\n",
              "      <td>Check Card</td>\n",
              "      <td>SURETY SOLUTIONS,</td>\n",
              "      <td>111-111-1111 OR</td>\n",
              "      <td>Surety Solutions</td>\n",
              "      <td>Surety Solutions</td>\n",
              "      <td>Finance</td>\n",
              "    </tr>\n",
              "    <tr>\n",
              "      <th>2</th>\n",
              "      <td>HH</td>\n",
              "      <td>T20130726991361190114550</td>\n",
              "      <td>CHECK CRD PURCHASE 11/11 THE COPY STOP        ...</td>\n",
              "      <td>D</td>\n",
              "      <td>Card</td>\n",
              "      <td>Check Card</td>\n",
              "      <td>THE COPY STOP</td>\n",
              "      <td>SALT LAKE CIT UT</td>\n",
              "      <td>The Copy Stop</td>\n",
              "      <td>The Copy Stop</td>\n",
              "      <td>Finance</td>\n",
              "    </tr>\n",
              "    <tr>\n",
              "      <th>3</th>\n",
              "      <td>BK</td>\n",
              "      <td>T201207095780929968</td>\n",
              "      <td>MARKET ALERT INC         111-111-1111 TX</td>\n",
              "      <td>NaN</td>\n",
              "      <td>Card</td>\n",
              "      <td>Credit Card</td>\n",
              "      <td>MARKET ALERT INC</td>\n",
              "      <td>111-111-1111 TX</td>\n",
              "      <td>Market Alert</td>\n",
              "      <td>Market Alert</td>\n",
              "      <td>Finance</td>\n",
              "    </tr>\n",
              "    <tr>\n",
              "      <th>4</th>\n",
              "      <td>HH</td>\n",
              "      <td>T20131230990558080004939</td>\n",
              "      <td>CHECK CRD PURCHASE 11/11 PERT- NER PERFECT    ...</td>\n",
              "      <td>D</td>\n",
              "      <td>Card</td>\n",
              "      <td>Check Card</td>\n",
              "      <td>PERT- NER PERFECT</td>\n",
              "      <td>THE WOODLANDS TX</td>\n",
              "      <td>Hometown Insurance Partners</td>\n",
              "      <td>Hometown Insurance Partners</td>\n",
              "      <td>Finance</td>\n",
              "    </tr>\n",
              "  </tbody>\n",
              "</table>\n",
              "</div>\n",
              "      <button class=\"colab-df-convert\" onclick=\"convertToInteractive('df-972d4541-90a3-49f7-8345-bed61f6d4be7')\"\n",
              "              title=\"Convert this dataframe to an interactive table.\"\n",
              "              style=\"display:none;\">\n",
              "        \n",
              "  <svg xmlns=\"http://www.w3.org/2000/svg\" height=\"24px\"viewBox=\"0 0 24 24\"\n",
              "       width=\"24px\">\n",
              "    <path d=\"M0 0h24v24H0V0z\" fill=\"none\"/>\n",
              "    <path d=\"M18.56 5.44l.94 2.06.94-2.06 2.06-.94-2.06-.94-.94-2.06-.94 2.06-2.06.94zm-11 1L8.5 8.5l.94-2.06 2.06-.94-2.06-.94L8.5 2.5l-.94 2.06-2.06.94zm10 10l.94 2.06.94-2.06 2.06-.94-2.06-.94-.94-2.06-.94 2.06-2.06.94z\"/><path d=\"M17.41 7.96l-1.37-1.37c-.4-.4-.92-.59-1.43-.59-.52 0-1.04.2-1.43.59L10.3 9.45l-7.72 7.72c-.78.78-.78 2.05 0 2.83L4 21.41c.39.39.9.59 1.41.59.51 0 1.02-.2 1.41-.59l7.78-7.78 2.81-2.81c.8-.78.8-2.07 0-2.86zM5.41 20L4 18.59l7.72-7.72 1.47 1.35L5.41 20z\"/>\n",
              "  </svg>\n",
              "      </button>\n",
              "      \n",
              "  <style>\n",
              "    .colab-df-container {\n",
              "      display:flex;\n",
              "      flex-wrap:wrap;\n",
              "      gap: 12px;\n",
              "    }\n",
              "\n",
              "    .colab-df-convert {\n",
              "      background-color: #E8F0FE;\n",
              "      border: none;\n",
              "      border-radius: 50%;\n",
              "      cursor: pointer;\n",
              "      display: none;\n",
              "      fill: #1967D2;\n",
              "      height: 32px;\n",
              "      padding: 0 0 0 0;\n",
              "      width: 32px;\n",
              "    }\n",
              "\n",
              "    .colab-df-convert:hover {\n",
              "      background-color: #E2EBFA;\n",
              "      box-shadow: 0px 1px 2px rgba(60, 64, 67, 0.3), 0px 1px 3px 1px rgba(60, 64, 67, 0.15);\n",
              "      fill: #174EA6;\n",
              "    }\n",
              "\n",
              "    [theme=dark] .colab-df-convert {\n",
              "      background-color: #3B4455;\n",
              "      fill: #D2E3FC;\n",
              "    }\n",
              "\n",
              "    [theme=dark] .colab-df-convert:hover {\n",
              "      background-color: #434B5C;\n",
              "      box-shadow: 0px 1px 3px 1px rgba(0, 0, 0, 0.15);\n",
              "      filter: drop-shadow(0px 1px 2px rgba(0, 0, 0, 0.3));\n",
              "      fill: #FFFFFF;\n",
              "    }\n",
              "  </style>\n",
              "\n",
              "      <script>\n",
              "        const buttonEl =\n",
              "          document.querySelector('#df-972d4541-90a3-49f7-8345-bed61f6d4be7 button.colab-df-convert');\n",
              "        buttonEl.style.display =\n",
              "          google.colab.kernel.accessAllowed ? 'block' : 'none';\n",
              "\n",
              "        async function convertToInteractive(key) {\n",
              "          const element = document.querySelector('#df-972d4541-90a3-49f7-8345-bed61f6d4be7');\n",
              "          const dataTable =\n",
              "            await google.colab.kernel.invokeFunction('convertToInteractive',\n",
              "                                                     [key], {});\n",
              "          if (!dataTable) return;\n",
              "\n",
              "          const docLinkHtml = 'Like what you see? Visit the ' +\n",
              "            '<a target=\"_blank\" href=https://colab.research.google.com/notebooks/data_table.ipynb>data table notebook</a>'\n",
              "            + ' to learn more about interactive tables.';\n",
              "          element.innerHTML = '';\n",
              "          dataTable['output_type'] = 'display_data';\n",
              "          await google.colab.output.renderOutput(dataTable, element);\n",
              "          const docLink = document.createElement('div');\n",
              "          docLink.innerHTML = docLinkHtml;\n",
              "          element.appendChild(docLink);\n",
              "        }\n",
              "      </script>\n",
              "    </div>\n",
              "  </div>\n",
              "  "
            ]
          },
          "metadata": {},
          "execution_count": 5
        }
      ],
      "source": [
        "# Categorical variables\n",
        "cate_features = data_train.select_dtypes(include=[np.object])\n",
        "cate_features.head()"
      ]
    },
    {
      "cell_type": "code",
      "execution_count": null,
      "id": "83b1681c",
      "metadata": {
        "colab": {
          "base_uri": "https://localhost:8080/",
          "height": 206
        },
        "id": "83b1681c",
        "outputId": "c5986d05-7cfd-4bf0-96c5-0a82fe009823"
      },
      "outputs": [
        {
          "output_type": "execute_result",
          "data": {
            "text/plain": [
              "   is_international\n",
              "0             False\n",
              "1             False\n",
              "2             False\n",
              "3             False\n",
              "4             False"
            ],
            "text/html": [
              "\n",
              "  <div id=\"df-aff23cfe-5312-4e99-bcd2-417859678a0f\">\n",
              "    <div class=\"colab-df-container\">\n",
              "      <div>\n",
              "<style scoped>\n",
              "    .dataframe tbody tr th:only-of-type {\n",
              "        vertical-align: middle;\n",
              "    }\n",
              "\n",
              "    .dataframe tbody tr th {\n",
              "        vertical-align: top;\n",
              "    }\n",
              "\n",
              "    .dataframe thead th {\n",
              "        text-align: right;\n",
              "    }\n",
              "</style>\n",
              "<table border=\"1\" class=\"dataframe\">\n",
              "  <thead>\n",
              "    <tr style=\"text-align: right;\">\n",
              "      <th></th>\n",
              "      <th>is_international</th>\n",
              "    </tr>\n",
              "  </thead>\n",
              "  <tbody>\n",
              "    <tr>\n",
              "      <th>0</th>\n",
              "      <td>False</td>\n",
              "    </tr>\n",
              "    <tr>\n",
              "      <th>1</th>\n",
              "      <td>False</td>\n",
              "    </tr>\n",
              "    <tr>\n",
              "      <th>2</th>\n",
              "      <td>False</td>\n",
              "    </tr>\n",
              "    <tr>\n",
              "      <th>3</th>\n",
              "      <td>False</td>\n",
              "    </tr>\n",
              "    <tr>\n",
              "      <th>4</th>\n",
              "      <td>False</td>\n",
              "    </tr>\n",
              "  </tbody>\n",
              "</table>\n",
              "</div>\n",
              "      <button class=\"colab-df-convert\" onclick=\"convertToInteractive('df-aff23cfe-5312-4e99-bcd2-417859678a0f')\"\n",
              "              title=\"Convert this dataframe to an interactive table.\"\n",
              "              style=\"display:none;\">\n",
              "        \n",
              "  <svg xmlns=\"http://www.w3.org/2000/svg\" height=\"24px\"viewBox=\"0 0 24 24\"\n",
              "       width=\"24px\">\n",
              "    <path d=\"M0 0h24v24H0V0z\" fill=\"none\"/>\n",
              "    <path d=\"M18.56 5.44l.94 2.06.94-2.06 2.06-.94-2.06-.94-.94-2.06-.94 2.06-2.06.94zm-11 1L8.5 8.5l.94-2.06 2.06-.94-2.06-.94L8.5 2.5l-.94 2.06-2.06.94zm10 10l.94 2.06.94-2.06 2.06-.94-2.06-.94-.94-2.06-.94 2.06-2.06.94z\"/><path d=\"M17.41 7.96l-1.37-1.37c-.4-.4-.92-.59-1.43-.59-.52 0-1.04.2-1.43.59L10.3 9.45l-7.72 7.72c-.78.78-.78 2.05 0 2.83L4 21.41c.39.39.9.59 1.41.59.51 0 1.02-.2 1.41-.59l7.78-7.78 2.81-2.81c.8-.78.8-2.07 0-2.86zM5.41 20L4 18.59l7.72-7.72 1.47 1.35L5.41 20z\"/>\n",
              "  </svg>\n",
              "      </button>\n",
              "      \n",
              "  <style>\n",
              "    .colab-df-container {\n",
              "      display:flex;\n",
              "      flex-wrap:wrap;\n",
              "      gap: 12px;\n",
              "    }\n",
              "\n",
              "    .colab-df-convert {\n",
              "      background-color: #E8F0FE;\n",
              "      border: none;\n",
              "      border-radius: 50%;\n",
              "      cursor: pointer;\n",
              "      display: none;\n",
              "      fill: #1967D2;\n",
              "      height: 32px;\n",
              "      padding: 0 0 0 0;\n",
              "      width: 32px;\n",
              "    }\n",
              "\n",
              "    .colab-df-convert:hover {\n",
              "      background-color: #E2EBFA;\n",
              "      box-shadow: 0px 1px 2px rgba(60, 64, 67, 0.3), 0px 1px 3px 1px rgba(60, 64, 67, 0.15);\n",
              "      fill: #174EA6;\n",
              "    }\n",
              "\n",
              "    [theme=dark] .colab-df-convert {\n",
              "      background-color: #3B4455;\n",
              "      fill: #D2E3FC;\n",
              "    }\n",
              "\n",
              "    [theme=dark] .colab-df-convert:hover {\n",
              "      background-color: #434B5C;\n",
              "      box-shadow: 0px 1px 3px 1px rgba(0, 0, 0, 0.15);\n",
              "      filter: drop-shadow(0px 1px 2px rgba(0, 0, 0, 0.3));\n",
              "      fill: #FFFFFF;\n",
              "    }\n",
              "  </style>\n",
              "\n",
              "      <script>\n",
              "        const buttonEl =\n",
              "          document.querySelector('#df-aff23cfe-5312-4e99-bcd2-417859678a0f button.colab-df-convert');\n",
              "        buttonEl.style.display =\n",
              "          google.colab.kernel.accessAllowed ? 'block' : 'none';\n",
              "\n",
              "        async function convertToInteractive(key) {\n",
              "          const element = document.querySelector('#df-aff23cfe-5312-4e99-bcd2-417859678a0f');\n",
              "          const dataTable =\n",
              "            await google.colab.kernel.invokeFunction('convertToInteractive',\n",
              "                                                     [key], {});\n",
              "          if (!dataTable) return;\n",
              "\n",
              "          const docLinkHtml = 'Like what you see? Visit the ' +\n",
              "            '<a target=\"_blank\" href=https://colab.research.google.com/notebooks/data_table.ipynb>data table notebook</a>'\n",
              "            + ' to learn more about interactive tables.';\n",
              "          element.innerHTML = '';\n",
              "          dataTable['output_type'] = 'display_data';\n",
              "          await google.colab.output.renderOutput(dataTable, element);\n",
              "          const docLink = document.createElement('div');\n",
              "          docLink.innerHTML = docLinkHtml;\n",
              "          element.appendChild(docLink);\n",
              "        }\n",
              "      </script>\n",
              "    </div>\n",
              "  </div>\n",
              "  "
            ]
          },
          "metadata": {},
          "execution_count": 6
        }
      ],
      "source": [
        "# Bool features\n",
        "bool_features = data_train.select_dtypes(include='bool')\n",
        "bool_features.head()"
      ]
    },
    {
      "cell_type": "code",
      "execution_count": null,
      "id": "964987ef",
      "metadata": {
        "colab": {
          "base_uri": "https://localhost:8080/"
        },
        "id": "964987ef",
        "outputId": "66897207-de0c-426e-d006-6e072f9abafd"
      },
      "outputs": [
        {
          "output_type": "stream",
          "name": "stdout",
          "text": [
            "Numerical:  ['merchant_cat_code', 'amt']\n",
            "Categorical:  ['sor', 'cdf_seq_no', 'trans_desc', 'db_cr_cd', 'payment_reporting_category', 'payment_category', 'default_brand', 'default_location', 'qrated_brand', 'coalesced_brand', 'Category']\n",
            "Bool:  ['is_international']\n"
          ]
        }
      ],
      "source": [
        "# Column names by feature types\n",
        "num_cols = numeric_features.columns.tolist()\n",
        "print('Numerical: ' ,num_cols)\n",
        "\n",
        "cate_cols = cate_features.columns.tolist()\n",
        "print('Categorical: ' ,cate_cols)\n",
        "\n",
        "bool_cols = bool_features .columns.tolist()\n",
        "print('Bool: ', bool_cols)"
      ]
    },
    {
      "cell_type": "markdown",
      "source": [
        "## Preliminary Data Cleaning"
      ],
      "metadata": {
        "id": "RHYjBZXVRUwJ"
      },
      "id": "RHYjBZXVRUwJ"
    },
    {
      "cell_type": "markdown",
      "id": "8ee22eb4",
      "metadata": {
        "id": "8ee22eb4"
      },
      "source": [
        "**Drop columns:**\n",
        "1.  `qrated_brand` : This features is highly consistent with `coalesced_brand`. And its missing rate is 8.33%.\n",
        "2.   `merchant_cat_code` : The missing rate of this feature is 38.04%.\n",
        "3.  `sor`, `cdf_seq_no`, and `payment_reporting_category`: The category distributions of these features are extremely skewed"
      ]
    },
    {
      "cell_type": "markdown",
      "source": [
        "**Drop rows:**\n",
        "\n",
        "There are only 6 rows in training set with null `default_location`, so these rows are dropped."
      ],
      "metadata": {
        "id": "E5_qo2mySWot"
      },
      "id": "E5_qo2mySWot"
    },
    {
      "cell_type": "markdown",
      "source": [
        "**Clean up through regex**:\n",
        "\n",
        " The `trans_desc` feaure includes the content of `default_location` and `default_brand`, so the duplicate info is removed"
      ],
      "metadata": {
        "id": "SqP77u8ESsfF"
      },
      "id": "SqP77u8ESsfF"
    },
    {
      "cell_type": "code",
      "execution_count": null,
      "id": "9992c15c",
      "metadata": {
        "colab": {
          "base_uri": "https://localhost:8080/",
          "height": 488
        },
        "id": "9992c15c",
        "outputId": "867490a4-bc2e-4069-a0e0-b24eb49465aa"
      },
      "outputs": [
        {
          "output_type": "execute_result",
          "data": {
            "text/plain": [
              "                            count  missing_rate  nunique\n",
              "is_international            50000       0.00000        2\n",
              "sor                         50000       0.00000        2\n",
              "cdf_seq_no                  50000       0.00000    50000\n",
              "trans_desc                  50000       0.00000    50000\n",
              "db_cr_cd                    49622       0.00756        2\n",
              "payment_reporting_category  50000       0.00000        1\n",
              "payment_category            50000       0.00000        5\n",
              "default_brand               50000       0.00000    49671\n",
              "default_location            49994       0.00012     9340\n",
              "qrated_brand                45836       0.08328    41814\n",
              "coalesced_brand             50000       0.00000    45922\n",
              "Category                    40000       0.20000       10\n",
              "merchant_cat_code           30978       0.38044      407\n",
              "amt                         50000       0.00000    12416"
            ],
            "text/html": [
              "\n",
              "  <div id=\"df-85027199-12a9-4a2f-a4dd-7ae9e7baa062\">\n",
              "    <div class=\"colab-df-container\">\n",
              "      <div>\n",
              "<style scoped>\n",
              "    .dataframe tbody tr th:only-of-type {\n",
              "        vertical-align: middle;\n",
              "    }\n",
              "\n",
              "    .dataframe tbody tr th {\n",
              "        vertical-align: top;\n",
              "    }\n",
              "\n",
              "    .dataframe thead th {\n",
              "        text-align: right;\n",
              "    }\n",
              "</style>\n",
              "<table border=\"1\" class=\"dataframe\">\n",
              "  <thead>\n",
              "    <tr style=\"text-align: right;\">\n",
              "      <th></th>\n",
              "      <th>count</th>\n",
              "      <th>missing_rate</th>\n",
              "      <th>nunique</th>\n",
              "    </tr>\n",
              "  </thead>\n",
              "  <tbody>\n",
              "    <tr>\n",
              "      <th>is_international</th>\n",
              "      <td>50000</td>\n",
              "      <td>0.00000</td>\n",
              "      <td>2</td>\n",
              "    </tr>\n",
              "    <tr>\n",
              "      <th>sor</th>\n",
              "      <td>50000</td>\n",
              "      <td>0.00000</td>\n",
              "      <td>2</td>\n",
              "    </tr>\n",
              "    <tr>\n",
              "      <th>cdf_seq_no</th>\n",
              "      <td>50000</td>\n",
              "      <td>0.00000</td>\n",
              "      <td>50000</td>\n",
              "    </tr>\n",
              "    <tr>\n",
              "      <th>trans_desc</th>\n",
              "      <td>50000</td>\n",
              "      <td>0.00000</td>\n",
              "      <td>50000</td>\n",
              "    </tr>\n",
              "    <tr>\n",
              "      <th>db_cr_cd</th>\n",
              "      <td>49622</td>\n",
              "      <td>0.00756</td>\n",
              "      <td>2</td>\n",
              "    </tr>\n",
              "    <tr>\n",
              "      <th>payment_reporting_category</th>\n",
              "      <td>50000</td>\n",
              "      <td>0.00000</td>\n",
              "      <td>1</td>\n",
              "    </tr>\n",
              "    <tr>\n",
              "      <th>payment_category</th>\n",
              "      <td>50000</td>\n",
              "      <td>0.00000</td>\n",
              "      <td>5</td>\n",
              "    </tr>\n",
              "    <tr>\n",
              "      <th>default_brand</th>\n",
              "      <td>50000</td>\n",
              "      <td>0.00000</td>\n",
              "      <td>49671</td>\n",
              "    </tr>\n",
              "    <tr>\n",
              "      <th>default_location</th>\n",
              "      <td>49994</td>\n",
              "      <td>0.00012</td>\n",
              "      <td>9340</td>\n",
              "    </tr>\n",
              "    <tr>\n",
              "      <th>qrated_brand</th>\n",
              "      <td>45836</td>\n",
              "      <td>0.08328</td>\n",
              "      <td>41814</td>\n",
              "    </tr>\n",
              "    <tr>\n",
              "      <th>coalesced_brand</th>\n",
              "      <td>50000</td>\n",
              "      <td>0.00000</td>\n",
              "      <td>45922</td>\n",
              "    </tr>\n",
              "    <tr>\n",
              "      <th>Category</th>\n",
              "      <td>40000</td>\n",
              "      <td>0.20000</td>\n",
              "      <td>10</td>\n",
              "    </tr>\n",
              "    <tr>\n",
              "      <th>merchant_cat_code</th>\n",
              "      <td>30978</td>\n",
              "      <td>0.38044</td>\n",
              "      <td>407</td>\n",
              "    </tr>\n",
              "    <tr>\n",
              "      <th>amt</th>\n",
              "      <td>50000</td>\n",
              "      <td>0.00000</td>\n",
              "      <td>12416</td>\n",
              "    </tr>\n",
              "  </tbody>\n",
              "</table>\n",
              "</div>\n",
              "      <button class=\"colab-df-convert\" onclick=\"convertToInteractive('df-85027199-12a9-4a2f-a4dd-7ae9e7baa062')\"\n",
              "              title=\"Convert this dataframe to an interactive table.\"\n",
              "              style=\"display:none;\">\n",
              "        \n",
              "  <svg xmlns=\"http://www.w3.org/2000/svg\" height=\"24px\"viewBox=\"0 0 24 24\"\n",
              "       width=\"24px\">\n",
              "    <path d=\"M0 0h24v24H0V0z\" fill=\"none\"/>\n",
              "    <path d=\"M18.56 5.44l.94 2.06.94-2.06 2.06-.94-2.06-.94-.94-2.06-.94 2.06-2.06.94zm-11 1L8.5 8.5l.94-2.06 2.06-.94-2.06-.94L8.5 2.5l-.94 2.06-2.06.94zm10 10l.94 2.06.94-2.06 2.06-.94-2.06-.94-.94-2.06-.94 2.06-2.06.94z\"/><path d=\"M17.41 7.96l-1.37-1.37c-.4-.4-.92-.59-1.43-.59-.52 0-1.04.2-1.43.59L10.3 9.45l-7.72 7.72c-.78.78-.78 2.05 0 2.83L4 21.41c.39.39.9.59 1.41.59.51 0 1.02-.2 1.41-.59l7.78-7.78 2.81-2.81c.8-.78.8-2.07 0-2.86zM5.41 20L4 18.59l7.72-7.72 1.47 1.35L5.41 20z\"/>\n",
              "  </svg>\n",
              "      </button>\n",
              "      \n",
              "  <style>\n",
              "    .colab-df-container {\n",
              "      display:flex;\n",
              "      flex-wrap:wrap;\n",
              "      gap: 12px;\n",
              "    }\n",
              "\n",
              "    .colab-df-convert {\n",
              "      background-color: #E8F0FE;\n",
              "      border: none;\n",
              "      border-radius: 50%;\n",
              "      cursor: pointer;\n",
              "      display: none;\n",
              "      fill: #1967D2;\n",
              "      height: 32px;\n",
              "      padding: 0 0 0 0;\n",
              "      width: 32px;\n",
              "    }\n",
              "\n",
              "    .colab-df-convert:hover {\n",
              "      background-color: #E2EBFA;\n",
              "      box-shadow: 0px 1px 2px rgba(60, 64, 67, 0.3), 0px 1px 3px 1px rgba(60, 64, 67, 0.15);\n",
              "      fill: #174EA6;\n",
              "    }\n",
              "\n",
              "    [theme=dark] .colab-df-convert {\n",
              "      background-color: #3B4455;\n",
              "      fill: #D2E3FC;\n",
              "    }\n",
              "\n",
              "    [theme=dark] .colab-df-convert:hover {\n",
              "      background-color: #434B5C;\n",
              "      box-shadow: 0px 1px 3px 1px rgba(0, 0, 0, 0.15);\n",
              "      filter: drop-shadow(0px 1px 2px rgba(0, 0, 0, 0.3));\n",
              "      fill: #FFFFFF;\n",
              "    }\n",
              "  </style>\n",
              "\n",
              "      <script>\n",
              "        const buttonEl =\n",
              "          document.querySelector('#df-85027199-12a9-4a2f-a4dd-7ae9e7baa062 button.colab-df-convert');\n",
              "        buttonEl.style.display =\n",
              "          google.colab.kernel.accessAllowed ? 'block' : 'none';\n",
              "\n",
              "        async function convertToInteractive(key) {\n",
              "          const element = document.querySelector('#df-85027199-12a9-4a2f-a4dd-7ae9e7baa062');\n",
              "          const dataTable =\n",
              "            await google.colab.kernel.invokeFunction('convertToInteractive',\n",
              "                                                     [key], {});\n",
              "          if (!dataTable) return;\n",
              "\n",
              "          const docLinkHtml = 'Like what you see? Visit the ' +\n",
              "            '<a target=\"_blank\" href=https://colab.research.google.com/notebooks/data_table.ipynb>data table notebook</a>'\n",
              "            + ' to learn more about interactive tables.';\n",
              "          element.innerHTML = '';\n",
              "          dataTable['output_type'] = 'display_data';\n",
              "          await google.colab.output.renderOutput(dataTable, element);\n",
              "          const docLink = document.createElement('div');\n",
              "          docLink.innerHTML = docLinkHtml;\n",
              "          element.appendChild(docLink);\n",
              "        }\n",
              "      </script>\n",
              "    </div>\n",
              "  </div>\n",
              "  "
            ]
          },
          "metadata": {},
          "execution_count": 8
        }
      ],
      "source": [
        "# check number of entries, missing, and distinct values\n",
        "data = pd.concat([data_train, data_test])\n",
        "cols = bool_cols + cate_cols + num_cols\n",
        "tmp = pd.DataFrame()\n",
        "tmp['count'] = data[cols].count().values\n",
        "tmp['missing_rate'] = (data.shape[0] - tmp['count']) / data.shape[0]\n",
        "tmp['nunique'] = data[cols].nunique().values\n",
        "tmp.index = cols\n",
        "tmp"
      ]
    },
    {
      "cell_type": "code",
      "execution_count": null,
      "id": "8b1b0b5f",
      "metadata": {
        "colab": {
          "base_uri": "https://localhost:8080/",
          "height": 1000
        },
        "id": "8b1b0b5f",
        "outputId": "0d272c8a-80e0-47e2-90a3-56ab2596b56f"
      },
      "outputs": [
        {
          "output_type": "execute_result",
          "data": {
            "text/plain": [
              "'sor'"
            ],
            "application/vnd.google.colaboratory.intrinsic+json": {
              "type": "string"
            }
          },
          "metadata": {},
          "execution_count": 9
        },
        {
          "output_type": "execute_result",
          "data": {
            "text/plain": [
              "HH    39688\n",
              "BK      312\n",
              "Name: sor, dtype: int64"
            ]
          },
          "metadata": {},
          "execution_count": 9
        },
        {
          "output_type": "execute_result",
          "data": {
            "text/plain": [
              "'cdf_seq_no'"
            ],
            "application/vnd.google.colaboratory.intrinsic+json": {
              "type": "string"
            }
          },
          "metadata": {},
          "execution_count": 9
        },
        {
          "output_type": "execute_result",
          "data": {
            "text/plain": [
              "T20110701260061756         1\n",
              "T20110705320051436         1\n",
              "T201302289909027524        1\n",
              "T201302289919046401        1\n",
              "T20110906320071328         1\n",
              "                          ..\n",
              "T20111101320064628         1\n",
              "T20110706320108518         1\n",
              "T20120106320069590         1\n",
              "T2013072699009380111414    1\n",
              "T201208319925581644        1\n",
              "Name: cdf_seq_no, Length: 40000, dtype: int64"
            ]
          },
          "metadata": {},
          "execution_count": 9
        },
        {
          "output_type": "execute_result",
          "data": {
            "text/plain": [
              "'trans_desc'"
            ],
            "application/vnd.google.colaboratory.intrinsic+json": {
              "type": "string"
            }
          },
          "metadata": {},
          "execution_count": 9
        },
        {
          "output_type": "execute_result",
          "data": {
            "text/plain": [
              "RECUR DEBIT CRD PMT11/11 DELTA DENTAL OF A11 OF  111-1111111   AR 111111XXXXXX1111 111111111111111                               ?MCC=1111 11    1\n",
              "CHECK CRD PURCHASE 11/11 HOTEL WINDSOR SAVOIA    ASSISI        IT 111111XXXXXX1111 111111111111111                               ?MCC=1111 11    1\n",
              "CHECK CRD PURCHASE 11/11 POINT ARENA GENERA      POINT ARENA   CA 111111XXXXXX1111 111111111111111                               ?MCC=1111       1\n",
              "CHECK CRD PURCHASE 11/11 Daily Grind             STILLWATER    MN 111111XXXXXX1111 111111111111111                               ?MCC=1111       1\n",
              "CHECK CRD PURCHASE 11/11 MT FUJI JAPANESE S      DENVER        CO 111111XXXXXX1111 111111111111111                               ?MCC=1111 11    1\n",
              "                                                                                                                                                ..\n",
              "CHECK CRD PURCHASE 11/11 PARLOR NEWS COFFEE SHO  111-1111111   WY 111111XXXXXX1111 111111111111111                               ?MCC=1111 11    1\n",
              "CHECK CRD PURCHASE 11/11 IKE AND SONS TRANSMISS  CRAIG         CO 111111XXXXXX1111 111111111111111                               ?MCC=1111 11    1\n",
              "CHECK CRD PURCHASE 11/11 MONARCH RECOVERY MGMT   111-1111111   PA 111111XXXXXX1111 111111111111111                               ?MCC=1111 11    1\n",
              "CHECK CRD PURCHASE 11/11 DREYERS GRAND ICE       LAUGHLIN      NV 111111XXXXXX1111 111111111111111                               ?MCC=1111       1\n",
              "CHECK CRD PURCHASE 11/11 JONJON DELI GROCER      BRONX         NY 111111XXXXXX1111 111111111111111                               ?MCC=1111       1\n",
              "Name: trans_desc, Length: 40000, dtype: int64"
            ]
          },
          "metadata": {},
          "execution_count": 9
        },
        {
          "output_type": "execute_result",
          "data": {
            "text/plain": [
              "'db_cr_cd'"
            ],
            "application/vnd.google.colaboratory.intrinsic+json": {
              "type": "string"
            }
          },
          "metadata": {},
          "execution_count": 9
        },
        {
          "output_type": "execute_result",
          "data": {
            "text/plain": [
              "D    37962\n",
              "C     1726\n",
              "Name: db_cr_cd, dtype: int64"
            ]
          },
          "metadata": {},
          "execution_count": 9
        },
        {
          "output_type": "execute_result",
          "data": {
            "text/plain": [
              "'payment_reporting_category'"
            ],
            "application/vnd.google.colaboratory.intrinsic+json": {
              "type": "string"
            }
          },
          "metadata": {},
          "execution_count": 9
        },
        {
          "output_type": "execute_result",
          "data": {
            "text/plain": [
              "Card    40000\n",
              "Name: payment_reporting_category, dtype: int64"
            ]
          },
          "metadata": {},
          "execution_count": 9
        },
        {
          "output_type": "execute_result",
          "data": {
            "text/plain": [
              "'payment_category'"
            ],
            "application/vnd.google.colaboratory.intrinsic+json": {
              "type": "string"
            }
          },
          "metadata": {},
          "execution_count": 9
        },
        {
          "output_type": "execute_result",
          "data": {
            "text/plain": [
              "Check Card     36986\n",
              "Debit Card      2303\n",
              "HSA Card         382\n",
              "Credit Card      312\n",
              "Card              17\n",
              "Name: payment_category, dtype: int64"
            ]
          },
          "metadata": {},
          "execution_count": 9
        },
        {
          "output_type": "execute_result",
          "data": {
            "text/plain": [
              "'default_brand'"
            ],
            "application/vnd.google.colaboratory.intrinsic+json": {
              "type": "string"
            }
          },
          "metadata": {},
          "execution_count": 9
        },
        {
          "output_type": "execute_result",
          "data": {
            "text/plain": [
              "LIVINGSOCIAL*             3\n",
              "WALGREENS #1111           3\n",
              "CVS PHARMACY #1111        3\n",
              "CHERRY CREEK MEDICAL W    2\n",
              "SANTA FE KINO             2\n",
              "                         ..\n",
              "SAGOLA MINI MART          1\n",
              "EL FRIDA PRODUCE          1\n",
              "REDBARN GUY               1\n",
              "BON-TON-GALLERIA #        1\n",
              "JONJON DELI GROCER        1\n",
              "Name: default_brand, Length: 39791, dtype: int64"
            ]
          },
          "metadata": {},
          "execution_count": 9
        },
        {
          "output_type": "execute_result",
          "data": {
            "text/plain": [
              "'default_location'"
            ],
            "application/vnd.google.colaboratory.intrinsic+json": {
              "type": "string"
            }
          },
          "metadata": {},
          "execution_count": 9
        },
        {
          "output_type": "execute_result",
          "data": {
            "text/plain": [
              "111-111-1111 CA    860\n",
              "PHOENIX AZ         664\n",
              "111-1111111 CA     500\n",
              "TUCSON AZ          479\n",
              "111-111-1111 AZ    454\n",
              "                  ... \n",
              "CARBONDALE IL        1\n",
              "Concord CA           1\n",
              "NEW CASTLE CO        1\n",
              "Lewiston ID          1\n",
              "FAIRVIEW NJ          1\n",
              "Name: default_location, Length: 8201, dtype: int64"
            ]
          },
          "metadata": {},
          "execution_count": 9
        },
        {
          "output_type": "execute_result",
          "data": {
            "text/plain": [
              "'qrated_brand'"
            ],
            "application/vnd.google.colaboratory.intrinsic+json": {
              "type": "string"
            }
          },
          "metadata": {},
          "execution_count": 9
        },
        {
          "output_type": "execute_result",
          "data": {
            "text/plain": [
              "Bp                       78\n",
              "Ace Hardware             74\n",
              "Google.com               73\n",
              "Kfc                      46\n",
              "Amazon                   46\n",
              "                         ..\n",
              "Vintropolis               1\n",
              "Matts Classic Bowties     1\n",
              "Valsan Sales              1\n",
              "Concepts Hair Salon       1\n",
              "Deli Grocer               1\n",
              "Name: qrated_brand, Length: 33763, dtype: int64"
            ]
          },
          "metadata": {},
          "execution_count": 9
        },
        {
          "output_type": "execute_result",
          "data": {
            "text/plain": [
              "'coalesced_brand'"
            ],
            "application/vnd.google.colaboratory.intrinsic+json": {
              "type": "string"
            }
          },
          "metadata": {},
          "execution_count": 9
        },
        {
          "output_type": "execute_result",
          "data": {
            "text/plain": [
              "Bp                             78\n",
              "Ace Hardware                   74\n",
              "Google.com                     73\n",
              "Amazon                         46\n",
              "Kfc                            46\n",
              "                               ..\n",
              "Total Eye Care                  1\n",
              "Ds Fitness Designed 4 Women     1\n",
              "My Three Sons                   1\n",
              "Cape                            1\n",
              "Deli Grocer                     1\n",
              "Name: coalesced_brand, Length: 37050, dtype: int64"
            ]
          },
          "metadata": {},
          "execution_count": 9
        },
        {
          "output_type": "execute_result",
          "data": {
            "text/plain": [
              "'Category'"
            ],
            "application/vnd.google.colaboratory.intrinsic+json": {
              "type": "string"
            }
          },
          "metadata": {},
          "execution_count": 9
        },
        {
          "output_type": "execute_result",
          "data": {
            "text/plain": [
              "Retail Trade                                 13500\n",
              "Entertainment                                11255\n",
              "Trade, Professional and Personal Services     5275\n",
              "Health and Community Services                 4157\n",
              "Services to Transport                         2317\n",
              "Travel                                        1489\n",
              "Property and Business Services                1095\n",
              "Education                                      445\n",
              "Communication Services                         282\n",
              "Finance                                        185\n",
              "Name: Category, dtype: int64"
            ]
          },
          "metadata": {},
          "execution_count": 9
        }
      ],
      "source": [
        "# Data distribution for cate_cols\n",
        "for col in cate_cols:\n",
        "    col\n",
        "    data_train[col].value_counts()"
      ]
    },
    {
      "cell_type": "code",
      "execution_count": null,
      "id": "01861618",
      "metadata": {
        "colab": {
          "base_uri": "https://localhost:8080/",
          "height": 562
        },
        "id": "01861618",
        "outputId": "f5772cb9-ef37-42e7-bdd2-3cc549c69372"
      },
      "outputs": [
        {
          "output_type": "execute_result",
          "data": {
            "text/plain": [
              "<matplotlib.axes._subplots.AxesSubplot at 0x7fb281c2f090>"
            ]
          },
          "metadata": {},
          "execution_count": 10
        },
        {
          "output_type": "display_data",
          "data": {
            "text/plain": [
              "<Figure size 864x648 with 2 Axes>"
            ],
            "image/png": "[encoded data removed]"
          },
          "metadata": {
            "needs_background": "light"
          }
        }
      ],
      "source": [
        "# Convariance Matrix for num_cols\n",
        "corrmat = data_train.corr()\n",
        "f, ax = plt.subplots(figsize=(12, 9))\n",
        "sns.heatmap(corrmat, vmax=.8, square=True)"
      ]
    },
    {
      "cell_type": "code",
      "execution_count": null,
      "id": "4ec3749b",
      "metadata": {
        "colab": {
          "base_uri": "https://localhost:8080/",
          "height": 953
        },
        "id": "4ec3749b",
        "outputId": "2f896a98-d93d-428b-9424-745b60c0de50"
      },
      "outputs": [
        {
          "output_type": "execute_result",
          "data": {
            "text/plain": [
              "                                              trans_desc     amt db_cr_cd  \\\n",
              "0      RECUR DEBIT CRD PMT11/11 DELTA DENTAL OF A11 O...   58.34        D   \n",
              "1      CHECK CRD PURCHASE 11/11 SURETY SOLUTIONS,    ...  103.00        D   \n",
              "2      CHECK CRD PURCHASE 11/11 THE COPY STOP        ...   22.44        D   \n",
              "3               MARKET ALERT INC         111-111-1111 TX   22.44      NaN   \n",
              "4      CHECK CRD PURCHASE 11/11 PERT- NER PERFECT    ...   66.25        D   \n",
              "...                                                  ...     ...      ...   \n",
              "39995  CHECK CRD PURCHASE 11/11 ALLIED FIDELITY SE   ...  100.00        D   \n",
              "39996  CHECK CRD PURCHASE 11/11 FOREMOST INSURANCE   ...  184.78        D   \n",
              "39997  CHECK CRD PURCHASE 11/11 PROPAY USA- ProPay, I...    9.95        D   \n",
              "39998  CHECK CRD PURCHASE 11/11 COWBOY FINANCE LLC   ...  250.00        D   \n",
              "39999  CHECK CRD PURCHASE 11/11 JONJON DELI GROCER   ...   14.49        D   \n",
              "\n",
              "      payment_category  is_international           default_brand  \\\n",
              "0           Debit Card             False  DELTA DENTAL OF A11 OF   \n",
              "1           Check Card             False       SURETY SOLUTIONS,   \n",
              "2           Check Card             False           THE COPY STOP   \n",
              "3          Credit Card             False        MARKET ALERT INC   \n",
              "4           Check Card             False       PERT- NER PERFECT   \n",
              "...                ...               ...                     ...   \n",
              "39995       Check Card             False      ALLIED FIDELITY SE   \n",
              "39996       Check Card             False      FOREMOST INSURANCE   \n",
              "39997       Check Card             False  PROPAY USA- ProPay, In   \n",
              "39998       Check Card             False      COWBOY FINANCE LLC   \n",
              "39999       Check Card             False      JONJON DELI GROCER   \n",
              "\n",
              "       default_location              coalesced_brand Category  \n",
              "0        111-1111111 AR                 Delta Dental  Finance  \n",
              "1       111-111-1111 OR             Surety Solutions  Finance  \n",
              "2      SALT LAKE CIT UT                The Copy Stop  Finance  \n",
              "3       111-111-1111 TX                 Market Alert  Finance  \n",
              "4      THE WOODLANDS TX  Hometown Insurance Partners  Finance  \n",
              "...                 ...                          ...      ...  \n",
              "39995   111-111-1111 KS         Fidelity Investments  Finance  \n",
              "39996    111-1111111 MI           Foremost Insurance  Finance  \n",
              "39997    111-1111111 UT                       Propay  Finance  \n",
              "39998    111-1111111 NM               Cowboy Finance  Finance  \n",
              "39999          BRONX NY                  Deli Grocer  Finance  \n",
              "\n",
              "[40000 rows x 9 columns]"
            ],
            "text/html": [
              "\n",
              "  <div id=\"df-0b6c58d3-6a08-4b12-a193-5178aeabaa3c\">\n",
              "    <div class=\"colab-df-container\">\n",
              "      <div>\n",
              "<style scoped>\n",
              "    .dataframe tbody tr th:only-of-type {\n",
              "        vertical-align: middle;\n",
              "    }\n",
              "\n",
              "    .dataframe tbody tr th {\n",
              "        vertical-align: top;\n",
              "    }\n",
              "\n",
              "    .dataframe thead th {\n",
              "        text-align: right;\n",
              "    }\n",
              "</style>\n",
              "<table border=\"1\" class=\"dataframe\">\n",
              "  <thead>\n",
              "    <tr style=\"text-align: right;\">\n",
              "      <th></th>\n",
              "      <th>trans_desc</th>\n",
              "      <th>amt</th>\n",
              "      <th>db_cr_cd</th>\n",
              "      <th>payment_category</th>\n",
              "      <th>is_international</th>\n",
              "      <th>default_brand</th>\n",
              "      <th>default_location</th>\n",
              "      <th>coalesced_brand</th>\n",
              "      <th>Category</th>\n",
              "    </tr>\n",
              "  </thead>\n",
              "  <tbody>\n",
              "    <tr>\n",
              "      <th>0</th>\n",
              "      <td>RECUR DEBIT CRD PMT11/11 DELTA DENTAL OF A11 O...</td>\n",
              "      <td>58.34</td>\n",
              "      <td>D</td>\n",
              "      <td>Debit Card</td>\n",
              "      <td>False</td>\n",
              "      <td>DELTA DENTAL OF A11 OF</td>\n",
              "      <td>111-1111111 AR</td>\n",
              "      <td>Delta Dental</td>\n",
              "      <td>Finance</td>\n",
              "    </tr>\n",
              "    <tr>\n",
              "      <th>1</th>\n",
              "      <td>CHECK CRD PURCHASE 11/11 SURETY SOLUTIONS,    ...</td>\n",
              "      <td>103.00</td>\n",
              "      <td>D</td>\n",
              "      <td>Check Card</td>\n",
              "      <td>False</td>\n",
              "      <td>SURETY SOLUTIONS,</td>\n",
              "      <td>111-111-1111 OR</td>\n",
              "      <td>Surety Solutions</td>\n",
              "      <td>Finance</td>\n",
              "    </tr>\n",
              "    <tr>\n",
              "      <th>2</th>\n",
              "      <td>CHECK CRD PURCHASE 11/11 THE COPY STOP        ...</td>\n",
              "      <td>22.44</td>\n",
              "      <td>D</td>\n",
              "      <td>Check Card</td>\n",
              "      <td>False</td>\n",
              "      <td>THE COPY STOP</td>\n",
              "      <td>SALT LAKE CIT UT</td>\n",
              "      <td>The Copy Stop</td>\n",
              "      <td>Finance</td>\n",
              "    </tr>\n",
              "    <tr>\n",
              "      <th>3</th>\n",
              "      <td>MARKET ALERT INC         111-111-1111 TX</td>\n",
              "      <td>22.44</td>\n",
              "      <td>NaN</td>\n",
              "      <td>Credit Card</td>\n",
              "      <td>False</td>\n",
              "      <td>MARKET ALERT INC</td>\n",
              "      <td>111-111-1111 TX</td>\n",
              "      <td>Market Alert</td>\n",
              "      <td>Finance</td>\n",
              "    </tr>\n",
              "    <tr>\n",
              "      <th>4</th>\n",
              "      <td>CHECK CRD PURCHASE 11/11 PERT- NER PERFECT    ...</td>\n",
              "      <td>66.25</td>\n",
              "      <td>D</td>\n",
              "      <td>Check Card</td>\n",
              "      <td>False</td>\n",
              "      <td>PERT- NER PERFECT</td>\n",
              "      <td>THE WOODLANDS TX</td>\n",
              "      <td>Hometown Insurance Partners</td>\n",
              "      <td>Finance</td>\n",
              "    </tr>\n",
              "    <tr>\n",
              "      <th>...</th>\n",
              "      <td>...</td>\n",
              "      <td>...</td>\n",
              "      <td>...</td>\n",
              "      <td>...</td>\n",
              "      <td>...</td>\n",
              "      <td>...</td>\n",
              "      <td>...</td>\n",
              "      <td>...</td>\n",
              "      <td>...</td>\n",
              "    </tr>\n",
              "    <tr>\n",
              "      <th>39995</th>\n",
              "      <td>CHECK CRD PURCHASE 11/11 ALLIED FIDELITY SE   ...</td>\n",
              "      <td>100.00</td>\n",
              "      <td>D</td>\n",
              "      <td>Check Card</td>\n",
              "      <td>False</td>\n",
              "      <td>ALLIED FIDELITY SE</td>\n",
              "      <td>111-111-1111 KS</td>\n",
              "      <td>Fidelity Investments</td>\n",
              "      <td>Finance</td>\n",
              "    </tr>\n",
              "    <tr>\n",
              "      <th>39996</th>\n",
              "      <td>CHECK CRD PURCHASE 11/11 FOREMOST INSURANCE   ...</td>\n",
              "      <td>184.78</td>\n",
              "      <td>D</td>\n",
              "      <td>Check Card</td>\n",
              "      <td>False</td>\n",
              "      <td>FOREMOST INSURANCE</td>\n",
              "      <td>111-1111111 MI</td>\n",
              "      <td>Foremost Insurance</td>\n",
              "      <td>Finance</td>\n",
              "    </tr>\n",
              "    <tr>\n",
              "      <th>39997</th>\n",
              "      <td>CHECK CRD PURCHASE 11/11 PROPAY USA- ProPay, I...</td>\n",
              "      <td>9.95</td>\n",
              "      <td>D</td>\n",
              "      <td>Check Card</td>\n",
              "      <td>False</td>\n",
              "      <td>PROPAY USA- ProPay, In</td>\n",
              "      <td>111-1111111 UT</td>\n",
              "      <td>Propay</td>\n",
              "      <td>Finance</td>\n",
              "    </tr>\n",
              "    <tr>\n",
              "      <th>39998</th>\n",
              "      <td>CHECK CRD PURCHASE 11/11 COWBOY FINANCE LLC   ...</td>\n",
              "      <td>250.00</td>\n",
              "      <td>D</td>\n",
              "      <td>Check Card</td>\n",
              "      <td>False</td>\n",
              "      <td>COWBOY FINANCE LLC</td>\n",
              "      <td>111-1111111 NM</td>\n",
              "      <td>Cowboy Finance</td>\n",
              "      <td>Finance</td>\n",
              "    </tr>\n",
              "    <tr>\n",
              "      <th>39999</th>\n",
              "      <td>CHECK CRD PURCHASE 11/11 JONJON DELI GROCER   ...</td>\n",
              "      <td>14.49</td>\n",
              "      <td>D</td>\n",
              "      <td>Check Card</td>\n",
              "      <td>False</td>\n",
              "      <td>JONJON DELI GROCER</td>\n",
              "      <td>BRONX NY</td>\n",
              "      <td>Deli Grocer</td>\n",
              "      <td>Finance</td>\n",
              "    </tr>\n",
              "  </tbody>\n",
              "</table>\n",
              "<p>40000 rows × 9 columns</p>\n",
              "</div>\n",
              "      <button class=\"colab-df-convert\" onclick=\"convertToInteractive('df-0b6c58d3-6a08-4b12-a193-5178aeabaa3c')\"\n",
              "              title=\"Convert this dataframe to an interactive table.\"\n",
              "              style=\"display:none;\">\n",
              "        \n",
              "  <svg xmlns=\"http://www.w3.org/2000/svg\" height=\"24px\"viewBox=\"0 0 24 24\"\n",
              "       width=\"24px\">\n",
              "    <path d=\"M0 0h24v24H0V0z\" fill=\"none\"/>\n",
              "    <path d=\"M18.56 5.44l.94 2.06.94-2.06 2.06-.94-2.06-.94-.94-2.06-.94 2.06-2.06.94zm-11 1L8.5 8.5l.94-2.06 2.06-.94-2.06-.94L8.5 2.5l-.94 2.06-2.06.94zm10 10l.94 2.06.94-2.06 2.06-.94-2.06-.94-.94-2.06-.94 2.06-2.06.94z\"/><path d=\"M17.41 7.96l-1.37-1.37c-.4-.4-.92-.59-1.43-.59-.52 0-1.04.2-1.43.59L10.3 9.45l-7.72 7.72c-.78.78-.78 2.05 0 2.83L4 21.41c.39.39.9.59 1.41.59.51 0 1.02-.2 1.41-.59l7.78-7.78 2.81-2.81c.8-.78.8-2.07 0-2.86zM5.41 20L4 18.59l7.72-7.72 1.47 1.35L5.41 20z\"/>\n",
              "  </svg>\n",
              "      </button>\n",
              "      \n",
              "  <style>\n",
              "    .colab-df-container {\n",
              "      display:flex;\n",
              "      flex-wrap:wrap;\n",
              "      gap: 12px;\n",
              "    }\n",
              "\n",
              "    .colab-df-convert {\n",
              "      background-color: #E8F0FE;\n",
              "      border: none;\n",
              "      border-radius: 50%;\n",
              "      cursor: pointer;\n",
              "      display: none;\n",
              "      fill: #1967D2;\n",
              "      height: 32px;\n",
              "      padding: 0 0 0 0;\n",
              "      width: 32px;\n",
              "    }\n",
              "\n",
              "    .colab-df-convert:hover {\n",
              "      background-color: #E2EBFA;\n",
              "      box-shadow: 0px 1px 2px rgba(60, 64, 67, 0.3), 0px 1px 3px 1px rgba(60, 64, 67, 0.15);\n",
              "      fill: #174EA6;\n",
              "    }\n",
              "\n",
              "    [theme=dark] .colab-df-convert {\n",
              "      background-color: #3B4455;\n",
              "      fill: #D2E3FC;\n",
              "    }\n",
              "\n",
              "    [theme=dark] .colab-df-convert:hover {\n",
              "      background-color: #434B5C;\n",
              "      box-shadow: 0px 1px 3px 1px rgba(0, 0, 0, 0.15);\n",
              "      filter: drop-shadow(0px 1px 2px rgba(0, 0, 0, 0.3));\n",
              "      fill: #FFFFFF;\n",
              "    }\n",
              "  </style>\n",
              "\n",
              "      <script>\n",
              "        const buttonEl =\n",
              "          document.querySelector('#df-0b6c58d3-6a08-4b12-a193-5178aeabaa3c button.colab-df-convert');\n",
              "        buttonEl.style.display =\n",
              "          google.colab.kernel.accessAllowed ? 'block' : 'none';\n",
              "\n",
              "        async function convertToInteractive(key) {\n",
              "          const element = document.querySelector('#df-0b6c58d3-6a08-4b12-a193-5178aeabaa3c');\n",
              "          const dataTable =\n",
              "            await google.colab.kernel.invokeFunction('convertToInteractive',\n",
              "                                                     [key], {});\n",
              "          if (!dataTable) return;\n",
              "\n",
              "          const docLinkHtml = 'Like what you see? Visit the ' +\n",
              "            '<a target=\"_blank\" href=https://colab.research.google.com/notebooks/data_table.ipynb>data table notebook</a>'\n",
              "            + ' to learn more about interactive tables.';\n",
              "          element.innerHTML = '';\n",
              "          dataTable['output_type'] = 'display_data';\n",
              "          await google.colab.output.renderOutput(dataTable, element);\n",
              "          const docLink = document.createElement('div');\n",
              "          docLink.innerHTML = docLinkHtml;\n",
              "          element.appendChild(docLink);\n",
              "        }\n",
              "      </script>\n",
              "    </div>\n",
              "  </div>\n",
              "  "
            ]
          },
          "metadata": {},
          "execution_count": 11
        }
      ],
      "source": [
        "# Drop some columns\n",
        "data_train = data_train.drop(labels=['qrated_brand','merchant_cat_code','sor','cdf_seq_no','payment_reporting_category'], axis=1)\n",
        "data_train"
      ]
    },
    {
      "cell_type": "code",
      "execution_count": null,
      "id": "a1a15636",
      "metadata": {
        "colab": {
          "base_uri": "https://localhost:8080/",
          "height": 919
        },
        "id": "a1a15636",
        "outputId": "56ec24fb-1aa1-411c-81be-139a075be8d6"
      },
      "outputs": [
        {
          "output_type": "execute_result",
          "data": {
            "text/plain": [
              "                                             trans_desc     amt db_cr_cd  \\\n",
              "0     CHECK CRD PURCHASE 11/11 PACKAGE EXPRESS      ...   10.35        D   \n",
              "1     RECUR DEBIT CRD PMT11/11 YP *FRMLY AT&T AD    ...   36.00        D   \n",
              "2     CHECK CRD PURCHASE 11/11 NORMAN G JENSEN IN   ...   27.00        D   \n",
              "3     CHECK CRD PUR RTRN 11/11 TWILIO               ...   20.00        C   \n",
              "4     CHECK CRD PURCHASE 11/11 AT&T D11K 1111       ...  325.78        D   \n",
              "...                                                 ...     ...      ...   \n",
              "9995  CHECK CRD PURCHASE 11/11 VOLCANO VILLAGE LO   ...  362.94        D   \n",
              "9996  CHECK CRD PURCHASE 11/11 LA QUINTAPHOENIX     ...  100.00        D   \n",
              "9997  CHECK CRD PURCHASE 11/11 G VALLEY RANCH HOTEL ...   56.48        D   \n",
              "9998  CHECK CRD PURCHASE 11/11 CITY OF ONTARIO-RE   ...  276.95        D   \n",
              "9999  CHECK CRD PURCHASE 11/11 M & B SEDAN          ...   57.00        D   \n",
              "\n",
              "     payment_category  is_international           default_brand  \\\n",
              "0          Check Card             False         PACKAGE EXPRESS   \n",
              "1          Debit Card             False       YP *FRMLY AT&T AD   \n",
              "2          Check Card             False      NORMAN G JENSEN IN   \n",
              "3          Check Card             False                  TWILIO   \n",
              "4          Check Card             False          AT&T D11K 1111   \n",
              "...               ...               ...                     ...   \n",
              "9995       Check Card             False      VOLCANO VILLAGE LO   \n",
              "9996       Check Card             False        LA QUINTAPHOENIX   \n",
              "9997       Check Card             False  G VALLEY RANCH HOTEL F   \n",
              "9998       Check Card             False      CITY OF ONTARIO-RE   \n",
              "9999       Check Card             False             M & B SEDAN   \n",
              "\n",
              "      default_location                           coalesced_brand  Category  \n",
              "0             LACEY WA                           Package Express       NaN  \n",
              "1      111-111-1111 CA                                  At And T       NaN  \n",
              "2       111-1111111 MN                           Norman G Jensen       NaN  \n",
              "3     SAN FARANSICO CA                                    Twilio       NaN  \n",
              "4        FORT WORTH TX                                  At And T       NaN  \n",
              "...                ...                                       ...       ...  \n",
              "9995   111-111-1111 IL                     Volcano Village Lodge       NaN  \n",
              "9996   111-111-1111 AZ       La Quinta By Wyndham Springfield Il       NaN  \n",
              "9997      HENDERSON NV  Green Valley Ranch Resort Spa And Casino       NaN  \n",
              "9998        ONTARIO CA                           City Of Ontario       NaN  \n",
              "9999       FLORENCE AZ                               M & B SEDAN       NaN  \n",
              "\n",
              "[10000 rows x 9 columns]"
            ],
            "text/html": [
              "\n",
              "  <div id=\"df-357c5eb2-90ff-472c-98c9-fca1f9b9c5da\">\n",
              "    <div class=\"colab-df-container\">\n",
              "      <div>\n",
              "<style scoped>\n",
              "    .dataframe tbody tr th:only-of-type {\n",
              "        vertical-align: middle;\n",
              "    }\n",
              "\n",
              "    .dataframe tbody tr th {\n",
              "        vertical-align: top;\n",
              "    }\n",
              "\n",
              "    .dataframe thead th {\n",
              "        text-align: right;\n",
              "    }\n",
              "</style>\n",
              "<table border=\"1\" class=\"dataframe\">\n",
              "  <thead>\n",
              "    <tr style=\"text-align: right;\">\n",
              "      <th></th>\n",
              "      <th>trans_desc</th>\n",
              "      <th>amt</th>\n",
              "      <th>db_cr_cd</th>\n",
              "      <th>payment_category</th>\n",
              "      <th>is_international</th>\n",
              "      <th>default_brand</th>\n",
              "      <th>default_location</th>\n",
              "      <th>coalesced_brand</th>\n",
              "      <th>Category</th>\n",
              "    </tr>\n",
              "  </thead>\n",
              "  <tbody>\n",
              "    <tr>\n",
              "      <th>0</th>\n",
              "      <td>CHECK CRD PURCHASE 11/11 PACKAGE EXPRESS      ...</td>\n",
              "      <td>10.35</td>\n",
              "      <td>D</td>\n",
              "      <td>Check Card</td>\n",
              "      <td>False</td>\n",
              "      <td>PACKAGE EXPRESS</td>\n",
              "      <td>LACEY WA</td>\n",
              "      <td>Package Express</td>\n",
              "      <td>NaN</td>\n",
              "    </tr>\n",
              "    <tr>\n",
              "      <th>1</th>\n",
              "      <td>RECUR DEBIT CRD PMT11/11 YP *FRMLY AT&amp;T AD    ...</td>\n",
              "      <td>36.00</td>\n",
              "      <td>D</td>\n",
              "      <td>Debit Card</td>\n",
              "      <td>False</td>\n",
              "      <td>YP *FRMLY AT&amp;T AD</td>\n",
              "      <td>111-111-1111 CA</td>\n",
              "      <td>At And T</td>\n",
              "      <td>NaN</td>\n",
              "    </tr>\n",
              "    <tr>\n",
              "      <th>2</th>\n",
              "      <td>CHECK CRD PURCHASE 11/11 NORMAN G JENSEN IN   ...</td>\n",
              "      <td>27.00</td>\n",
              "      <td>D</td>\n",
              "      <td>Check Card</td>\n",
              "      <td>False</td>\n",
              "      <td>NORMAN G JENSEN IN</td>\n",
              "      <td>111-1111111 MN</td>\n",
              "      <td>Norman G Jensen</td>\n",
              "      <td>NaN</td>\n",
              "    </tr>\n",
              "    <tr>\n",
              "      <th>3</th>\n",
              "      <td>CHECK CRD PUR RTRN 11/11 TWILIO               ...</td>\n",
              "      <td>20.00</td>\n",
              "      <td>C</td>\n",
              "      <td>Check Card</td>\n",
              "      <td>False</td>\n",
              "      <td>TWILIO</td>\n",
              "      <td>SAN FARANSICO CA</td>\n",
              "      <td>Twilio</td>\n",
              "      <td>NaN</td>\n",
              "    </tr>\n",
              "    <tr>\n",
              "      <th>4</th>\n",
              "      <td>CHECK CRD PURCHASE 11/11 AT&amp;T D11K 1111       ...</td>\n",
              "      <td>325.78</td>\n",
              "      <td>D</td>\n",
              "      <td>Check Card</td>\n",
              "      <td>False</td>\n",
              "      <td>AT&amp;T D11K 1111</td>\n",
              "      <td>FORT WORTH TX</td>\n",
              "      <td>At And T</td>\n",
              "      <td>NaN</td>\n",
              "    </tr>\n",
              "    <tr>\n",
              "      <th>...</th>\n",
              "      <td>...</td>\n",
              "      <td>...</td>\n",
              "      <td>...</td>\n",
              "      <td>...</td>\n",
              "      <td>...</td>\n",
              "      <td>...</td>\n",
              "      <td>...</td>\n",
              "      <td>...</td>\n",
              "      <td>...</td>\n",
              "    </tr>\n",
              "    <tr>\n",
              "      <th>9995</th>\n",
              "      <td>CHECK CRD PURCHASE 11/11 VOLCANO VILLAGE LO   ...</td>\n",
              "      <td>362.94</td>\n",
              "      <td>D</td>\n",
              "      <td>Check Card</td>\n",
              "      <td>False</td>\n",
              "      <td>VOLCANO VILLAGE LO</td>\n",
              "      <td>111-111-1111 IL</td>\n",
              "      <td>Volcano Village Lodge</td>\n",
              "      <td>NaN</td>\n",
              "    </tr>\n",
              "    <tr>\n",
              "      <th>9996</th>\n",
              "      <td>CHECK CRD PURCHASE 11/11 LA QUINTAPHOENIX     ...</td>\n",
              "      <td>100.00</td>\n",
              "      <td>D</td>\n",
              "      <td>Check Card</td>\n",
              "      <td>False</td>\n",
              "      <td>LA QUINTAPHOENIX</td>\n",
              "      <td>111-111-1111 AZ</td>\n",
              "      <td>La Quinta By Wyndham Springfield Il</td>\n",
              "      <td>NaN</td>\n",
              "    </tr>\n",
              "    <tr>\n",
              "      <th>9997</th>\n",
              "      <td>CHECK CRD PURCHASE 11/11 G VALLEY RANCH HOTEL ...</td>\n",
              "      <td>56.48</td>\n",
              "      <td>D</td>\n",
              "      <td>Check Card</td>\n",
              "      <td>False</td>\n",
              "      <td>G VALLEY RANCH HOTEL F</td>\n",
              "      <td>HENDERSON NV</td>\n",
              "      <td>Green Valley Ranch Resort Spa And Casino</td>\n",
              "      <td>NaN</td>\n",
              "    </tr>\n",
              "    <tr>\n",
              "      <th>9998</th>\n",
              "      <td>CHECK CRD PURCHASE 11/11 CITY OF ONTARIO-RE   ...</td>\n",
              "      <td>276.95</td>\n",
              "      <td>D</td>\n",
              "      <td>Check Card</td>\n",
              "      <td>False</td>\n",
              "      <td>CITY OF ONTARIO-RE</td>\n",
              "      <td>ONTARIO CA</td>\n",
              "      <td>City Of Ontario</td>\n",
              "      <td>NaN</td>\n",
              "    </tr>\n",
              "    <tr>\n",
              "      <th>9999</th>\n",
              "      <td>CHECK CRD PURCHASE 11/11 M &amp; B SEDAN          ...</td>\n",
              "      <td>57.00</td>\n",
              "      <td>D</td>\n",
              "      <td>Check Card</td>\n",
              "      <td>False</td>\n",
              "      <td>M &amp; B SEDAN</td>\n",
              "      <td>FLORENCE AZ</td>\n",
              "      <td>M &amp; B SEDAN</td>\n",
              "      <td>NaN</td>\n",
              "    </tr>\n",
              "  </tbody>\n",
              "</table>\n",
              "<p>10000 rows × 9 columns</p>\n",
              "</div>\n",
              "      <button class=\"colab-df-convert\" onclick=\"convertToInteractive('df-357c5eb2-90ff-472c-98c9-fca1f9b9c5da')\"\n",
              "              title=\"Convert this dataframe to an interactive table.\"\n",
              "              style=\"display:none;\">\n",
              "        \n",
              "  <svg xmlns=\"http://www.w3.org/2000/svg\" height=\"24px\"viewBox=\"0 0 24 24\"\n",
              "       width=\"24px\">\n",
              "    <path d=\"M0 0h24v24H0V0z\" fill=\"none\"/>\n",
              "    <path d=\"M18.56 5.44l.94 2.06.94-2.06 2.06-.94-2.06-.94-.94-2.06-.94 2.06-2.06.94zm-11 1L8.5 8.5l.94-2.06 2.06-.94-2.06-.94L8.5 2.5l-.94 2.06-2.06.94zm10 10l.94 2.06.94-2.06 2.06-.94-2.06-.94-.94-2.06-.94 2.06-2.06.94z\"/><path d=\"M17.41 7.96l-1.37-1.37c-.4-.4-.92-.59-1.43-.59-.52 0-1.04.2-1.43.59L10.3 9.45l-7.72 7.72c-.78.78-.78 2.05 0 2.83L4 21.41c.39.39.9.59 1.41.59.51 0 1.02-.2 1.41-.59l7.78-7.78 2.81-2.81c.8-.78.8-2.07 0-2.86zM5.41 20L4 18.59l7.72-7.72 1.47 1.35L5.41 20z\"/>\n",
              "  </svg>\n",
              "      </button>\n",
              "      \n",
              "  <style>\n",
              "    .colab-df-container {\n",
              "      display:flex;\n",
              "      flex-wrap:wrap;\n",
              "      gap: 12px;\n",
              "    }\n",
              "\n",
              "    .colab-df-convert {\n",
              "      background-color: #E8F0FE;\n",
              "      border: none;\n",
              "      border-radius: 50%;\n",
              "      cursor: pointer;\n",
              "      display: none;\n",
              "      fill: #1967D2;\n",
              "      height: 32px;\n",
              "      padding: 0 0 0 0;\n",
              "      width: 32px;\n",
              "    }\n",
              "\n",
              "    .colab-df-convert:hover {\n",
              "      background-color: #E2EBFA;\n",
              "      box-shadow: 0px 1px 2px rgba(60, 64, 67, 0.3), 0px 1px 3px 1px rgba(60, 64, 67, 0.15);\n",
              "      fill: #174EA6;\n",
              "    }\n",
              "\n",
              "    [theme=dark] .colab-df-convert {\n",
              "      background-color: #3B4455;\n",
              "      fill: #D2E3FC;\n",
              "    }\n",
              "\n",
              "    [theme=dark] .colab-df-convert:hover {\n",
              "      background-color: #434B5C;\n",
              "      box-shadow: 0px 1px 3px 1px rgba(0, 0, 0, 0.15);\n",
              "      filter: drop-shadow(0px 1px 2px rgba(0, 0, 0, 0.3));\n",
              "      fill: #FFFFFF;\n",
              "    }\n",
              "  </style>\n",
              "\n",
              "      <script>\n",
              "        const buttonEl =\n",
              "          document.querySelector('#df-357c5eb2-90ff-472c-98c9-fca1f9b9c5da button.colab-df-convert');\n",
              "        buttonEl.style.display =\n",
              "          google.colab.kernel.accessAllowed ? 'block' : 'none';\n",
              "\n",
              "        async function convertToInteractive(key) {\n",
              "          const element = document.querySelector('#df-357c5eb2-90ff-472c-98c9-fca1f9b9c5da');\n",
              "          const dataTable =\n",
              "            await google.colab.kernel.invokeFunction('convertToInteractive',\n",
              "                                                     [key], {});\n",
              "          if (!dataTable) return;\n",
              "\n",
              "          const docLinkHtml = 'Like what you see? Visit the ' +\n",
              "            '<a target=\"_blank\" href=https://colab.research.google.com/notebooks/data_table.ipynb>data table notebook</a>'\n",
              "            + ' to learn more about interactive tables.';\n",
              "          element.innerHTML = '';\n",
              "          dataTable['output_type'] = 'display_data';\n",
              "          await google.colab.output.renderOutput(dataTable, element);\n",
              "          const docLink = document.createElement('div');\n",
              "          docLink.innerHTML = docLinkHtml;\n",
              "          element.appendChild(docLink);\n",
              "        }\n",
              "      </script>\n",
              "    </div>\n",
              "  </div>\n",
              "  "
            ]
          },
          "metadata": {},
          "execution_count": 12
        }
      ],
      "source": [
        "# Do the same thing for testing dataset\n",
        "data_test = data_test.drop(labels=['qrated_brand','merchant_cat_code','sor','cdf_seq_no','payment_reporting_category'], axis=1)\n",
        "data_test"
      ]
    },
    {
      "cell_type": "code",
      "execution_count": null,
      "id": "a25c5448",
      "metadata": {
        "id": "a25c5448"
      },
      "outputs": [],
      "source": [
        "# Drop rows\n",
        "data_train.drop(data_train[data_train['default_location'].isnull()].index, inplace=True)\n",
        "data_test.drop(data_test[data_test['default_location'].isnull()].index, inplace=True)"
      ]
    },
    {
      "cell_type": "code",
      "execution_count": null,
      "id": "86ac0885",
      "metadata": {
        "id": "86ac0885"
      },
      "outputs": [],
      "source": [
        "# Remove duplicate info in trans_desc\n",
        "import re\n",
        "def replace_str(trans_desc, dafault_locatoin):\n",
        "    trans_desc = re.sub('\\s+',' ',trans_desc)\n",
        "#     print(dafault_locatoin)\n",
        "    if str(dafault_locatoin).upper() in trans_desc:\n",
        "        trans_desc = re.sub('\\s+',' ',trans_desc.replace(str(dafault_locatoin).upper(),''))\n",
        "    return trans_desc\n",
        "        \n",
        "    \n",
        "data_train['trans_desc']=data_train.apply(lambda x: replace_str(x['trans_desc'],x['default_location']), axis=1)\n",
        "data_train['trans_desc']=data_train.apply(lambda x: replace_str(x['trans_desc'],x['default_brand']), axis=1)"
      ]
    },
    {
      "cell_type": "code",
      "execution_count": null,
      "id": "669bd4de",
      "metadata": {
        "colab": {
          "base_uri": "https://localhost:8080/",
          "height": 35
        },
        "id": "669bd4de",
        "outputId": "555fc064-6ba4-4b0d-de01-9293c82a199f"
      },
      "outputs": [
        {
          "output_type": "execute_result",
          "data": {
            "text/plain": [
              "'RECUR DEBIT CRD PMT11/11 111111XXXXXX1111 111111111111111 ?MCC=1111 11'"
            ],
            "application/vnd.google.colaboratory.intrinsic+json": {
              "type": "string"
            }
          },
          "metadata": {},
          "execution_count": 15
        }
      ],
      "source": [
        "data_train['trans_desc'][0]"
      ]
    },
    {
      "cell_type": "code",
      "execution_count": null,
      "id": "8696804c",
      "metadata": {
        "id": "8696804c"
      },
      "outputs": [],
      "source": [
        "# Do the same thing for testing dataset\n",
        "data_test['trans_desc']=data_test.apply(lambda x: replace_str(x['trans_desc'],x['default_location']), axis=1)\n",
        "data_test['trans_desc']=data_test.apply(lambda x: replace_str(x['trans_desc'],x['default_brand']), axis=1)"
      ]
    },
    {
      "cell_type": "markdown",
      "id": "38e89613",
      "metadata": {
        "id": "38e89613"
      },
      "source": [
        "##  Check Distribution & Outliers"
      ]
    },
    {
      "cell_type": "markdown",
      "source": [
        "### Labels"
      ],
      "metadata": {
        "id": "lXpsFYaWd-mv"
      },
      "id": "lXpsFYaWd-mv"
    },
    {
      "cell_type": "code",
      "execution_count": null,
      "id": "16e34279",
      "metadata": {
        "colab": {
          "base_uri": "https://localhost:8080/",
          "height": 496
        },
        "id": "16e34279",
        "outputId": "4337a2ce-3804-4e3d-de07-5eeb31ce13b5"
      },
      "outputs": [
        {
          "output_type": "execute_result",
          "data": {
            "text/plain": [
              "                                          trans_desc     amt db_cr_cd  \\\n",
              "0  RECUR DEBIT CRD PMT11/11 111111XXXXXX1111 1111...   58.34        D   \n",
              "1  CHECK CRD PURCHASE 11/11 111111XXXXXX1111 1111...  103.00        D   \n",
              "2  CHECK CRD PURCHASE 11/11 111111XXXXXX1111 1111...   22.44        D   \n",
              "3                                                      22.44      NaN   \n",
              "4  CHECK CRD PURCHASE 11/11 111111XXXXXX1111 1111...   66.25        D   \n",
              "\n",
              "  payment_category  is_international           default_brand  \\\n",
              "0       Debit Card             False  DELTA DENTAL OF A11 OF   \n",
              "1       Check Card             False       SURETY SOLUTIONS,   \n",
              "2       Check Card             False           THE COPY STOP   \n",
              "3      Credit Card             False        MARKET ALERT INC   \n",
              "4       Check Card             False       PERT- NER PERFECT   \n",
              "\n",
              "   default_location              coalesced_brand Category  Category_encoded  \n",
              "0    111-1111111 AR                 Delta Dental  Finance                 3  \n",
              "1   111-111-1111 OR             Surety Solutions  Finance                 3  \n",
              "2  SALT LAKE CIT UT                The Copy Stop  Finance                 3  \n",
              "3   111-111-1111 TX                 Market Alert  Finance                 3  \n",
              "4  THE WOODLANDS TX  Hometown Insurance Partners  Finance                 3  "
            ],
            "text/html": [
              "\n",
              "  <div id=\"df-088bdbcc-03be-4fa7-b19d-d0717507b5e2\">\n",
              "    <div class=\"colab-df-container\">\n",
              "      <div>\n",
              "<style scoped>\n",
              "    .dataframe tbody tr th:only-of-type {\n",
              "        vertical-align: middle;\n",
              "    }\n",
              "\n",
              "    .dataframe tbody tr th {\n",
              "        vertical-align: top;\n",
              "    }\n",
              "\n",
              "    .dataframe thead th {\n",
              "        text-align: right;\n",
              "    }\n",
              "</style>\n",
              "<table border=\"1\" class=\"dataframe\">\n",
              "  <thead>\n",
              "    <tr style=\"text-align: right;\">\n",
              "      <th></th>\n",
              "      <th>trans_desc</th>\n",
              "      <th>amt</th>\n",
              "      <th>db_cr_cd</th>\n",
              "      <th>payment_category</th>\n",
              "      <th>is_international</th>\n",
              "      <th>default_brand</th>\n",
              "      <th>default_location</th>\n",
              "      <th>coalesced_brand</th>\n",
              "      <th>Category</th>\n",
              "      <th>Category_encoded</th>\n",
              "    </tr>\n",
              "  </thead>\n",
              "  <tbody>\n",
              "    <tr>\n",
              "      <th>0</th>\n",
              "      <td>RECUR DEBIT CRD PMT11/11 111111XXXXXX1111 1111...</td>\n",
              "      <td>58.34</td>\n",
              "      <td>D</td>\n",
              "      <td>Debit Card</td>\n",
              "      <td>False</td>\n",
              "      <td>DELTA DENTAL OF A11 OF</td>\n",
              "      <td>111-1111111 AR</td>\n",
              "      <td>Delta Dental</td>\n",
              "      <td>Finance</td>\n",
              "      <td>3</td>\n",
              "    </tr>\n",
              "    <tr>\n",
              "      <th>1</th>\n",
              "      <td>CHECK CRD PURCHASE 11/11 111111XXXXXX1111 1111...</td>\n",
              "      <td>103.00</td>\n",
              "      <td>D</td>\n",
              "      <td>Check Card</td>\n",
              "      <td>False</td>\n",
              "      <td>SURETY SOLUTIONS,</td>\n",
              "      <td>111-111-1111 OR</td>\n",
              "      <td>Surety Solutions</td>\n",
              "      <td>Finance</td>\n",
              "      <td>3</td>\n",
              "    </tr>\n",
              "    <tr>\n",
              "      <th>2</th>\n",
              "      <td>CHECK CRD PURCHASE 11/11 111111XXXXXX1111 1111...</td>\n",
              "      <td>22.44</td>\n",
              "      <td>D</td>\n",
              "      <td>Check Card</td>\n",
              "      <td>False</td>\n",
              "      <td>THE COPY STOP</td>\n",
              "      <td>SALT LAKE CIT UT</td>\n",
              "      <td>The Copy Stop</td>\n",
              "      <td>Finance</td>\n",
              "      <td>3</td>\n",
              "    </tr>\n",
              "    <tr>\n",
              "      <th>3</th>\n",
              "      <td></td>\n",
              "      <td>22.44</td>\n",
              "      <td>NaN</td>\n",
              "      <td>Credit Card</td>\n",
              "      <td>False</td>\n",
              "      <td>MARKET ALERT INC</td>\n",
              "      <td>111-111-1111 TX</td>\n",
              "      <td>Market Alert</td>\n",
              "      <td>Finance</td>\n",
              "      <td>3</td>\n",
              "    </tr>\n",
              "    <tr>\n",
              "      <th>4</th>\n",
              "      <td>CHECK CRD PURCHASE 11/11 111111XXXXXX1111 1111...</td>\n",
              "      <td>66.25</td>\n",
              "      <td>D</td>\n",
              "      <td>Check Card</td>\n",
              "      <td>False</td>\n",
              "      <td>PERT- NER PERFECT</td>\n",
              "      <td>THE WOODLANDS TX</td>\n",
              "      <td>Hometown Insurance Partners</td>\n",
              "      <td>Finance</td>\n",
              "      <td>3</td>\n",
              "    </tr>\n",
              "  </tbody>\n",
              "</table>\n",
              "</div>\n",
              "      <button class=\"colab-df-convert\" onclick=\"convertToInteractive('df-088bdbcc-03be-4fa7-b19d-d0717507b5e2')\"\n",
              "              title=\"Convert this dataframe to an interactive table.\"\n",
              "              style=\"display:none;\">\n",
              "        \n",
              "  <svg xmlns=\"http://www.w3.org/2000/svg\" height=\"24px\"viewBox=\"0 0 24 24\"\n",
              "       width=\"24px\">\n",
              "    <path d=\"M0 0h24v24H0V0z\" fill=\"none\"/>\n",
              "    <path d=\"M18.56 5.44l.94 2.06.94-2.06 2.06-.94-2.06-.94-.94-2.06-.94 2.06-2.06.94zm-11 1L8.5 8.5l.94-2.06 2.06-.94-2.06-.94L8.5 2.5l-.94 2.06-2.06.94zm10 10l.94 2.06.94-2.06 2.06-.94-2.06-.94-.94-2.06-.94 2.06-2.06.94z\"/><path d=\"M17.41 7.96l-1.37-1.37c-.4-.4-.92-.59-1.43-.59-.52 0-1.04.2-1.43.59L10.3 9.45l-7.72 7.72c-.78.78-.78 2.05 0 2.83L4 21.41c.39.39.9.59 1.41.59.51 0 1.02-.2 1.41-.59l7.78-7.78 2.81-2.81c.8-.78.8-2.07 0-2.86zM5.41 20L4 18.59l7.72-7.72 1.47 1.35L5.41 20z\"/>\n",
              "  </svg>\n",
              "      </button>\n",
              "      \n",
              "  <style>\n",
              "    .colab-df-container {\n",
              "      display:flex;\n",
              "      flex-wrap:wrap;\n",
              "      gap: 12px;\n",
              "    }\n",
              "\n",
              "    .colab-df-convert {\n",
              "      background-color: #E8F0FE;\n",
              "      border: none;\n",
              "      border-radius: 50%;\n",
              "      cursor: pointer;\n",
              "      display: none;\n",
              "      fill: #1967D2;\n",
              "      height: 32px;\n",
              "      padding: 0 0 0 0;\n",
              "      width: 32px;\n",
              "    }\n",
              "\n",
              "    .colab-df-convert:hover {\n",
              "      background-color: #E2EBFA;\n",
              "      box-shadow: 0px 1px 2px rgba(60, 64, 67, 0.3), 0px 1px 3px 1px rgba(60, 64, 67, 0.15);\n",
              "      fill: #174EA6;\n",
              "    }\n",
              "\n",
              "    [theme=dark] .colab-df-convert {\n",
              "      background-color: #3B4455;\n",
              "      fill: #D2E3FC;\n",
              "    }\n",
              "\n",
              "    [theme=dark] .colab-df-convert:hover {\n",
              "      background-color: #434B5C;\n",
              "      box-shadow: 0px 1px 3px 1px rgba(0, 0, 0, 0.15);\n",
              "      filter: drop-shadow(0px 1px 2px rgba(0, 0, 0, 0.3));\n",
              "      fill: #FFFFFF;\n",
              "    }\n",
              "  </style>\n",
              "\n",
              "      <script>\n",
              "        const buttonEl =\n",
              "          document.querySelector('#df-088bdbcc-03be-4fa7-b19d-d0717507b5e2 button.colab-df-convert');\n",
              "        buttonEl.style.display =\n",
              "          google.colab.kernel.accessAllowed ? 'block' : 'none';\n",
              "\n",
              "        async function convertToInteractive(key) {\n",
              "          const element = document.querySelector('#df-088bdbcc-03be-4fa7-b19d-d0717507b5e2');\n",
              "          const dataTable =\n",
              "            await google.colab.kernel.invokeFunction('convertToInteractive',\n",
              "                                                     [key], {});\n",
              "          if (!dataTable) return;\n",
              "\n",
              "          const docLinkHtml = 'Like what you see? Visit the ' +\n",
              "            '<a target=\"_blank\" href=https://colab.research.google.com/notebooks/data_table.ipynb>data table notebook</a>'\n",
              "            + ' to learn more about interactive tables.';\n",
              "          element.innerHTML = '';\n",
              "          dataTable['output_type'] = 'display_data';\n",
              "          await google.colab.output.renderOutput(dataTable, element);\n",
              "          const docLink = document.createElement('div');\n",
              "          docLink.innerHTML = docLinkHtml;\n",
              "          element.appendChild(docLink);\n",
              "        }\n",
              "      </script>\n",
              "    </div>\n",
              "  </div>\n",
              "  "
            ]
          },
          "metadata": {},
          "execution_count": 17
        }
      ],
      "source": [
        "encoder=LabelEncoder()\n",
        "y_train = data_train['Category']\n",
        "y_train_encoded = encoder.fit_transform(y_train)\n",
        "data_train['Category_encoded'] = y_train_encoded\n",
        "data_train.head(5)"
      ]
    },
    {
      "cell_type": "code",
      "execution_count": null,
      "id": "5f936b46",
      "metadata": {
        "colab": {
          "base_uri": "https://localhost:8080/",
          "height": 342
        },
        "id": "5f936b46",
        "outputId": "8596e9ef-b30e-4d49-ea4e-ccc056f952a8"
      },
      "outputs": [
        {
          "output_type": "execute_result",
          "data": {
            "text/plain": [
              "<matplotlib.axes._subplots.AxesSubplot at 0x7fb26afaae10>"
            ]
          },
          "metadata": {},
          "execution_count": 18
        },
        {
          "output_type": "execute_result",
          "data": {
            "text/plain": [
              "(array([    0.,  2000.,  4000.,  6000.,  8000., 10000., 12000., 14000.,\n",
              "        16000.]), <a list of 9 Text major ticklabel objects>)"
            ]
          },
          "metadata": {},
          "execution_count": 18
        },
        {
          "output_type": "display_data",
          "data": {
            "text/plain": [
              "<Figure size 432x288 with 1 Axes>"
            ],
            "image/png": "[encoded data removed]"
          },
          "metadata": {
            "needs_background": "light"
          }
        }
      ],
      "source": [
        "# Generate a histplot\n",
        "sns.histplot(y=y_train)\n",
        "plt.xticks(rotation = 45)"
      ]
    },
    {
      "cell_type": "markdown",
      "id": "c7ea1e7c",
      "metadata": {
        "id": "c7ea1e7c"
      },
      "source": [
        "### Numerical Features"
      ]
    },
    {
      "cell_type": "markdown",
      "source": [
        "*   The `merchant_cat_code` has been droppped, so only look into the `amt`.\n",
        "*   Check skewness and kurtosis of the distributions of the training and test set, if they did not match, consider a distribution transformation.\n",
        "*   Skip this step because they show consistency with each other."
      ],
      "metadata": {
        "id": "IKpEFBlmeTxG"
      },
      "id": "IKpEFBlmeTxG"
    },
    {
      "cell_type": "code",
      "execution_count": null,
      "id": "485adafb",
      "metadata": {
        "colab": {
          "base_uri": "https://localhost:8080/",
          "height": 357
        },
        "id": "485adafb",
        "outputId": "0f234175-c180-46eb-b44b-4f1e1b38af15"
      },
      "outputs": [
        {
          "output_type": "stream",
          "name": "stderr",
          "text": [
            "/usr/local/lib/python3.7/dist-packages/seaborn/_decorators.py:43: FutureWarning: Pass the following variable as a keyword arg: x. From version 0.12, the only valid positional argument will be `data`, and passing other arguments without an explicit keyword will result in an error or misinterpretation.\n",
            "  FutureWarning\n"
          ]
        },
        {
          "output_type": "execute_result",
          "data": {
            "text/plain": [
              "<matplotlib.axes._subplots.AxesSubplot at 0x7fb26a6d2f50>"
            ]
          },
          "metadata": {},
          "execution_count": 19
        },
        {
          "output_type": "display_data",
          "data": {
            "text/plain": [
              "<Figure size 432x288 with 1 Axes>"
            ],
            "image/png": "[encoded data removed]"
          },
          "metadata": {
            "needs_background": "light"
          }
        }
      ],
      "source": [
        "# Check the outliers of numerical feature: amt\n",
        "sns.violinplot(np.log(data_train['amt']))"
      ]
    },
    {
      "cell_type": "code",
      "source": [
        "sns.violinplot(np.log(data_test['amt']))"
      ],
      "metadata": {
        "colab": {
          "base_uri": "https://localhost:8080/",
          "height": 357
        },
        "id": "NyttMvGPdenA",
        "outputId": "7a4a9777-7143-4a2f-c0c4-c327c730c220"
      },
      "id": "NyttMvGPdenA",
      "execution_count": null,
      "outputs": [
        {
          "output_type": "stream",
          "name": "stderr",
          "text": [
            "/usr/local/lib/python3.7/dist-packages/seaborn/_decorators.py:43: FutureWarning: Pass the following variable as a keyword arg: x. From version 0.12, the only valid positional argument will be `data`, and passing other arguments without an explicit keyword will result in an error or misinterpretation.\n",
            "  FutureWarning\n"
          ]
        },
        {
          "output_type": "execute_result",
          "data": {
            "text/plain": [
              "<matplotlib.axes._subplots.AxesSubplot at 0x7fb266638a90>"
            ]
          },
          "metadata": {},
          "execution_count": 20
        },
        {
          "output_type": "display_data",
          "data": {
            "text/plain": [
              "<Figure size 432x288 with 1 Axes>"
            ],
            "image/png": "[encoded data removed]"
          },
          "metadata": {
            "needs_background": "light"
          }
        }
      ]
    },
    {
      "cell_type": "code",
      "execution_count": null,
      "id": "30a9e08e",
      "metadata": {
        "id": "30a9e08e"
      },
      "outputs": [],
      "source": [
        "# tmp = pd.DataFrame(index = num_cols)\n",
        "# for col in num_cols:\n",
        "#     tmp.loc[col, 'train_Skewness'] = data_train[col].skew()\n",
        "#     tmp.loc[col, 'test_Skewness'] = data_test[col].skew()\n",
        "#     tmp.loc[col, 'train_Kurtosis'] = data_train[col].kurt()\n",
        "#     tmp.loc[col, 'test_Kurtosis'] = data_test[col].kurt()\n",
        "# tmp"
      ]
    },
    {
      "cell_type": "markdown",
      "id": "20568dc6",
      "metadata": {
        "id": "20568dc6"
      },
      "source": [
        "## Correlation Analysis"
      ]
    },
    {
      "cell_type": "markdown",
      "source": [
        "For feature selection, find features with high correlation with the target variable by generating barplots. It shows that the following features have high correlation with the target: \n",
        "* `amt`: Transaction amount\n",
        "* `is_international`: If it is an international transaction\n",
        "* `payment_category`: Debit Card, HSA Card, Credit Card, or Card    \n",
        "* `trans_desc`: Description text of the transaction (after cleaning)\n",
        "* `default_brand`: Brand name (default) of the transaction\n",
        "* `default_location`: Location of the transaction\n",
        "* `coalesced_brand`: Brand name (coalesced) of the transaction"
      ],
      "metadata": {
        "id": "jbvWoJ52fFwe"
      },
      "id": "jbvWoJ52fFwe"
    },
    {
      "cell_type": "code",
      "execution_count": null,
      "id": "9275be0a",
      "metadata": {
        "colab": {
          "base_uri": "https://localhost:8080/",
          "height": 302
        },
        "id": "9275be0a",
        "outputId": "d3155efe-9f2f-4881-cd5b-313f6fcd4c14"
      },
      "outputs": [
        {
          "output_type": "execute_result",
          "data": {
            "text/plain": [
              "<matplotlib.axes._subplots.AxesSubplot at 0x7fb2664cdc10>"
            ]
          },
          "metadata": {},
          "execution_count": 22
        },
        {
          "output_type": "display_data",
          "data": {
            "text/plain": [
              "<Figure size 432x288 with 1 Axes>"
            ],
            "image/png": "[encoded data removed]"
          },
          "metadata": {
            "needs_background": "light"
          }
        }
      ],
      "source": [
        "sns.barplot(x='amt',y='Category',data=data_train)"
      ]
    },
    {
      "cell_type": "code",
      "execution_count": null,
      "id": "9cf8fb6d",
      "metadata": {
        "colab": {
          "base_uri": "https://localhost:8080/",
          "height": 302
        },
        "id": "9cf8fb6d",
        "outputId": "f55e0b92-75ed-49d6-9a7a-ffe527c8a610"
      },
      "outputs": [
        {
          "output_type": "execute_result",
          "data": {
            "text/plain": [
              "<matplotlib.axes._subplots.AxesSubplot at 0x7fb26b0f9e90>"
            ]
          },
          "metadata": {},
          "execution_count": 23
        },
        {
          "output_type": "display_data",
          "data": {
            "text/plain": [
              "<Figure size 432x288 with 1 Axes>"
            ],
            "image/png": "[encoded data removed]"
          },
          "metadata": {
            "needs_background": "light"
          }
        }
      ],
      "source": [
        "sns.barplot(x='is_international',y='Category',data=data_train)"
      ]
    },
    {
      "cell_type": "code",
      "execution_count": null,
      "id": "e4feb07a",
      "metadata": {
        "colab": {
          "base_uri": "https://localhost:8080/",
          "height": 302
        },
        "id": "e4feb07a",
        "outputId": "ce5193e8-9951-4b6a-b2af-5796efaa4552"
      },
      "outputs": [
        {
          "output_type": "execute_result",
          "data": {
            "text/plain": [
              "<matplotlib.axes._subplots.AxesSubplot at 0x7fb269b25a90>"
            ]
          },
          "metadata": {},
          "execution_count": 24
        },
        {
          "output_type": "display_data",
          "data": {
            "text/plain": [
              "<Figure size 432x288 with 1 Axes>"
            ],
            "image/png": "[encoded data removed]"
          },
          "metadata": {
            "needs_background": "light"
          }
        }
      ],
      "source": [
        "sns.barplot(x='db_cr_cd',y='Category_encoded',data=data_train)"
      ]
    },
    {
      "cell_type": "code",
      "execution_count": null,
      "id": "04781658",
      "metadata": {
        "colab": {
          "base_uri": "https://localhost:8080/",
          "height": 302
        },
        "id": "04781658",
        "outputId": "ea23f800-22a1-4227-d8a8-480ced5e4b22"
      },
      "outputs": [
        {
          "output_type": "execute_result",
          "data": {
            "text/plain": [
              "<matplotlib.axes._subplots.AxesSubplot at 0x7fb269f53910>"
            ]
          },
          "metadata": {},
          "execution_count": 25
        },
        {
          "output_type": "display_data",
          "data": {
            "text/plain": [
              "<Figure size 432x288 with 1 Axes>"
            ],
            "image/png": "[encoded data removed]"
          },
          "metadata": {
            "needs_background": "light"
          }
        }
      ],
      "source": [
        "sns.barplot(x='payment_category',y='Category_encoded',data=data_train)"
      ]
    },
    {
      "cell_type": "code",
      "execution_count": null,
      "id": "5fb040da",
      "metadata": {
        "colab": {
          "base_uri": "https://localhost:8080/",
          "height": 476
        },
        "id": "5fb040da",
        "outputId": "70c68fc4-fe38-441c-8a08-5fa059206be6"
      },
      "outputs": [
        {
          "output_type": "execute_result",
          "data": {
            "text/plain": [
              "      amt  is_international payment_category  \\\n",
              "0   58.34             False       Debit Card   \n",
              "1  103.00             False       Check Card   \n",
              "2   22.44             False       Check Card   \n",
              "3   22.44             False      Credit Card   \n",
              "4   66.25             False       Check Card   \n",
              "\n",
              "                                          trans_desc           default_brand  \\\n",
              "0  RECUR DEBIT CRD PMT11/11 111111XXXXXX1111 1111...  DELTA DENTAL OF A11 OF   \n",
              "1  CHECK CRD PURCHASE 11/11 111111XXXXXX1111 1111...       SURETY SOLUTIONS,   \n",
              "2  CHECK CRD PURCHASE 11/11 111111XXXXXX1111 1111...           THE COPY STOP   \n",
              "3                                                           MARKET ALERT INC   \n",
              "4  CHECK CRD PURCHASE 11/11 111111XXXXXX1111 1111...       PERT- NER PERFECT   \n",
              "\n",
              "   default_location              coalesced_brand  Category_encoded  \n",
              "0    111-1111111 AR                 Delta Dental                 3  \n",
              "1   111-111-1111 OR             Surety Solutions                 3  \n",
              "2  SALT LAKE CIT UT                The Copy Stop                 3  \n",
              "3   111-111-1111 TX                 Market Alert                 3  \n",
              "4  THE WOODLANDS TX  Hometown Insurance Partners                 3  "
            ],
            "text/html": [
              "\n",
              "  <div id=\"df-c548cc8c-601b-407c-b8b9-cab32f535127\">\n",
              "    <div class=\"colab-df-container\">\n",
              "      <div>\n",
              "<style scoped>\n",
              "    .dataframe tbody tr th:only-of-type {\n",
              "        vertical-align: middle;\n",
              "    }\n",
              "\n",
              "    .dataframe tbody tr th {\n",
              "        vertical-align: top;\n",
              "    }\n",
              "\n",
              "    .dataframe thead th {\n",
              "        text-align: right;\n",
              "    }\n",
              "</style>\n",
              "<table border=\"1\" class=\"dataframe\">\n",
              "  <thead>\n",
              "    <tr style=\"text-align: right;\">\n",
              "      <th></th>\n",
              "      <th>amt</th>\n",
              "      <th>is_international</th>\n",
              "      <th>payment_category</th>\n",
              "      <th>trans_desc</th>\n",
              "      <th>default_brand</th>\n",
              "      <th>default_location</th>\n",
              "      <th>coalesced_brand</th>\n",
              "      <th>Category_encoded</th>\n",
              "    </tr>\n",
              "  </thead>\n",
              "  <tbody>\n",
              "    <tr>\n",
              "      <th>0</th>\n",
              "      <td>58.34</td>\n",
              "      <td>False</td>\n",
              "      <td>Debit Card</td>\n",
              "      <td>RECUR DEBIT CRD PMT11/11 111111XXXXXX1111 1111...</td>\n",
              "      <td>DELTA DENTAL OF A11 OF</td>\n",
              "      <td>111-1111111 AR</td>\n",
              "      <td>Delta Dental</td>\n",
              "      <td>3</td>\n",
              "    </tr>\n",
              "    <tr>\n",
              "      <th>1</th>\n",
              "      <td>103.00</td>\n",
              "      <td>False</td>\n",
              "      <td>Check Card</td>\n",
              "      <td>CHECK CRD PURCHASE 11/11 111111XXXXXX1111 1111...</td>\n",
              "      <td>SURETY SOLUTIONS,</td>\n",
              "      <td>111-111-1111 OR</td>\n",
              "      <td>Surety Solutions</td>\n",
              "      <td>3</td>\n",
              "    </tr>\n",
              "    <tr>\n",
              "      <th>2</th>\n",
              "      <td>22.44</td>\n",
              "      <td>False</td>\n",
              "      <td>Check Card</td>\n",
              "      <td>CHECK CRD PURCHASE 11/11 111111XXXXXX1111 1111...</td>\n",
              "      <td>THE COPY STOP</td>\n",
              "      <td>SALT LAKE CIT UT</td>\n",
              "      <td>The Copy Stop</td>\n",
              "      <td>3</td>\n",
              "    </tr>\n",
              "    <tr>\n",
              "      <th>3</th>\n",
              "      <td>22.44</td>\n",
              "      <td>False</td>\n",
              "      <td>Credit Card</td>\n",
              "      <td></td>\n",
              "      <td>MARKET ALERT INC</td>\n",
              "      <td>111-111-1111 TX</td>\n",
              "      <td>Market Alert</td>\n",
              "      <td>3</td>\n",
              "    </tr>\n",
              "    <tr>\n",
              "      <th>4</th>\n",
              "      <td>66.25</td>\n",
              "      <td>False</td>\n",
              "      <td>Check Card</td>\n",
              "      <td>CHECK CRD PURCHASE 11/11 111111XXXXXX1111 1111...</td>\n",
              "      <td>PERT- NER PERFECT</td>\n",
              "      <td>THE WOODLANDS TX</td>\n",
              "      <td>Hometown Insurance Partners</td>\n",
              "      <td>3</td>\n",
              "    </tr>\n",
              "  </tbody>\n",
              "</table>\n",
              "</div>\n",
              "      <button class=\"colab-df-convert\" onclick=\"convertToInteractive('df-c548cc8c-601b-407c-b8b9-cab32f535127')\"\n",
              "              title=\"Convert this dataframe to an interactive table.\"\n",
              "              style=\"display:none;\">\n",
              "        \n",
              "  <svg xmlns=\"http://www.w3.org/2000/svg\" height=\"24px\"viewBox=\"0 0 24 24\"\n",
              "       width=\"24px\">\n",
              "    <path d=\"M0 0h24v24H0V0z\" fill=\"none\"/>\n",
              "    <path d=\"M18.56 5.44l.94 2.06.94-2.06 2.06-.94-2.06-.94-.94-2.06-.94 2.06-2.06.94zm-11 1L8.5 8.5l.94-2.06 2.06-.94-2.06-.94L8.5 2.5l-.94 2.06-2.06.94zm10 10l.94 2.06.94-2.06 2.06-.94-2.06-.94-.94-2.06-.94 2.06-2.06.94z\"/><path d=\"M17.41 7.96l-1.37-1.37c-.4-.4-.92-.59-1.43-.59-.52 0-1.04.2-1.43.59L10.3 9.45l-7.72 7.72c-.78.78-.78 2.05 0 2.83L4 21.41c.39.39.9.59 1.41.59.51 0 1.02-.2 1.41-.59l7.78-7.78 2.81-2.81c.8-.78.8-2.07 0-2.86zM5.41 20L4 18.59l7.72-7.72 1.47 1.35L5.41 20z\"/>\n",
              "  </svg>\n",
              "      </button>\n",
              "      \n",
              "  <style>\n",
              "    .colab-df-container {\n",
              "      display:flex;\n",
              "      flex-wrap:wrap;\n",
              "      gap: 12px;\n",
              "    }\n",
              "\n",
              "    .colab-df-convert {\n",
              "      background-color: #E8F0FE;\n",
              "      border: none;\n",
              "      border-radius: 50%;\n",
              "      cursor: pointer;\n",
              "      display: none;\n",
              "      fill: #1967D2;\n",
              "      height: 32px;\n",
              "      padding: 0 0 0 0;\n",
              "      width: 32px;\n",
              "    }\n",
              "\n",
              "    .colab-df-convert:hover {\n",
              "      background-color: #E2EBFA;\n",
              "      box-shadow: 0px 1px 2px rgba(60, 64, 67, 0.3), 0px 1px 3px 1px rgba(60, 64, 67, 0.15);\n",
              "      fill: #174EA6;\n",
              "    }\n",
              "\n",
              "    [theme=dark] .colab-df-convert {\n",
              "      background-color: #3B4455;\n",
              "      fill: #D2E3FC;\n",
              "    }\n",
              "\n",
              "    [theme=dark] .colab-df-convert:hover {\n",
              "      background-color: #434B5C;\n",
              "      box-shadow: 0px 1px 3px 1px rgba(0, 0, 0, 0.15);\n",
              "      filter: drop-shadow(0px 1px 2px rgba(0, 0, 0, 0.3));\n",
              "      fill: #FFFFFF;\n",
              "    }\n",
              "  </style>\n",
              "\n",
              "      <script>\n",
              "        const buttonEl =\n",
              "          document.querySelector('#df-c548cc8c-601b-407c-b8b9-cab32f535127 button.colab-df-convert');\n",
              "        buttonEl.style.display =\n",
              "          google.colab.kernel.accessAllowed ? 'block' : 'none';\n",
              "\n",
              "        async function convertToInteractive(key) {\n",
              "          const element = document.querySelector('#df-c548cc8c-601b-407c-b8b9-cab32f535127');\n",
              "          const dataTable =\n",
              "            await google.colab.kernel.invokeFunction('convertToInteractive',\n",
              "                                                     [key], {});\n",
              "          if (!dataTable) return;\n",
              "\n",
              "          const docLinkHtml = 'Like what you see? Visit the ' +\n",
              "            '<a target=\"_blank\" href=https://colab.research.google.com/notebooks/data_table.ipynb>data table notebook</a>'\n",
              "            + ' to learn more about interactive tables.';\n",
              "          element.innerHTML = '';\n",
              "          dataTable['output_type'] = 'display_data';\n",
              "          await google.colab.output.renderOutput(dataTable, element);\n",
              "          const docLink = document.createElement('div');\n",
              "          docLink.innerHTML = docLinkHtml;\n",
              "          element.appendChild(docLink);\n",
              "        }\n",
              "      </script>\n",
              "    </div>\n",
              "  </div>\n",
              "  "
            ]
          },
          "metadata": {},
          "execution_count": 26
        }
      ],
      "source": [
        "train = data_train[['amt','is_international','payment_category','trans_desc','default_brand','default_location','coalesced_brand','Category_encoded']]\n",
        "train.head(5)"
      ]
    },
    {
      "cell_type": "code",
      "execution_count": null,
      "id": "1acd6412",
      "metadata": {
        "colab": {
          "base_uri": "https://localhost:8080/",
          "height": 337
        },
        "id": "1acd6412",
        "outputId": "9789f298-d962-4e41-aca4-fdfeb3eb0d5e"
      },
      "outputs": [
        {
          "output_type": "execute_result",
          "data": {
            "text/plain": [
              "      amt  is_international payment_category  \\\n",
              "0   10.35             False       Check Card   \n",
              "1   36.00             False       Debit Card   \n",
              "2   27.00             False       Check Card   \n",
              "3   20.00             False       Check Card   \n",
              "4  325.78             False       Check Card   \n",
              "\n",
              "                                          trans_desc       default_brand  \\\n",
              "0  CHECK CRD PURCHASE 11/11 111111XXXXXX1111 1111...     PACKAGE EXPRESS   \n",
              "1  RECUR DEBIT CRD PMT11/11 111111XXXXXX1111 1111...   YP *FRMLY AT&T AD   \n",
              "2  CHECK CRD PURCHASE 11/11 111111XXXXXX1111 1111...  NORMAN G JENSEN IN   \n",
              "3  CHECK CRD PUR RTRN 11/11 111111XXXXXX1111 1111...              TWILIO   \n",
              "4  CHECK CRD PURCHASE 11/11 111111XXXXXX1111 1111...      AT&T D11K 1111   \n",
              "\n",
              "   default_location  coalesced_brand  \n",
              "0          LACEY WA  Package Express  \n",
              "1   111-111-1111 CA         At And T  \n",
              "2    111-1111111 MN  Norman G Jensen  \n",
              "3  SAN FARANSICO CA           Twilio  \n",
              "4     FORT WORTH TX         At And T  "
            ],
            "text/html": [
              "\n",
              "  <div id=\"df-d7858038-3b99-4549-9963-b3d739c7b5a6\">\n",
              "    <div class=\"colab-df-container\">\n",
              "      <div>\n",
              "<style scoped>\n",
              "    .dataframe tbody tr th:only-of-type {\n",
              "        vertical-align: middle;\n",
              "    }\n",
              "\n",
              "    .dataframe tbody tr th {\n",
              "        vertical-align: top;\n",
              "    }\n",
              "\n",
              "    .dataframe thead th {\n",
              "        text-align: right;\n",
              "    }\n",
              "</style>\n",
              "<table border=\"1\" class=\"dataframe\">\n",
              "  <thead>\n",
              "    <tr style=\"text-align: right;\">\n",
              "      <th></th>\n",
              "      <th>amt</th>\n",
              "      <th>is_international</th>\n",
              "      <th>payment_category</th>\n",
              "      <th>trans_desc</th>\n",
              "      <th>default_brand</th>\n",
              "      <th>default_location</th>\n",
              "      <th>coalesced_brand</th>\n",
              "    </tr>\n",
              "  </thead>\n",
              "  <tbody>\n",
              "    <tr>\n",
              "      <th>0</th>\n",
              "      <td>10.35</td>\n",
              "      <td>False</td>\n",
              "      <td>Check Card</td>\n",
              "      <td>CHECK CRD PURCHASE 11/11 111111XXXXXX1111 1111...</td>\n",
              "      <td>PACKAGE EXPRESS</td>\n",
              "      <td>LACEY WA</td>\n",
              "      <td>Package Express</td>\n",
              "    </tr>\n",
              "    <tr>\n",
              "      <th>1</th>\n",
              "      <td>36.00</td>\n",
              "      <td>False</td>\n",
              "      <td>Debit Card</td>\n",
              "      <td>RECUR DEBIT CRD PMT11/11 111111XXXXXX1111 1111...</td>\n",
              "      <td>YP *FRMLY AT&amp;T AD</td>\n",
              "      <td>111-111-1111 CA</td>\n",
              "      <td>At And T</td>\n",
              "    </tr>\n",
              "    <tr>\n",
              "      <th>2</th>\n",
              "      <td>27.00</td>\n",
              "      <td>False</td>\n",
              "      <td>Check Card</td>\n",
              "      <td>CHECK CRD PURCHASE 11/11 111111XXXXXX1111 1111...</td>\n",
              "      <td>NORMAN G JENSEN IN</td>\n",
              "      <td>111-1111111 MN</td>\n",
              "      <td>Norman G Jensen</td>\n",
              "    </tr>\n",
              "    <tr>\n",
              "      <th>3</th>\n",
              "      <td>20.00</td>\n",
              "      <td>False</td>\n",
              "      <td>Check Card</td>\n",
              "      <td>CHECK CRD PUR RTRN 11/11 111111XXXXXX1111 1111...</td>\n",
              "      <td>TWILIO</td>\n",
              "      <td>SAN FARANSICO CA</td>\n",
              "      <td>Twilio</td>\n",
              "    </tr>\n",
              "    <tr>\n",
              "      <th>4</th>\n",
              "      <td>325.78</td>\n",
              "      <td>False</td>\n",
              "      <td>Check Card</td>\n",
              "      <td>CHECK CRD PURCHASE 11/11 111111XXXXXX1111 1111...</td>\n",
              "      <td>AT&amp;T D11K 1111</td>\n",
              "      <td>FORT WORTH TX</td>\n",
              "      <td>At And T</td>\n",
              "    </tr>\n",
              "  </tbody>\n",
              "</table>\n",
              "</div>\n",
              "      <button class=\"colab-df-convert\" onclick=\"convertToInteractive('df-d7858038-3b99-4549-9963-b3d739c7b5a6')\"\n",
              "              title=\"Convert this dataframe to an interactive table.\"\n",
              "              style=\"display:none;\">\n",
              "        \n",
              "  <svg xmlns=\"http://www.w3.org/2000/svg\" height=\"24px\"viewBox=\"0 0 24 24\"\n",
              "       width=\"24px\">\n",
              "    <path d=\"M0 0h24v24H0V0z\" fill=\"none\"/>\n",
              "    <path d=\"M18.56 5.44l.94 2.06.94-2.06 2.06-.94-2.06-.94-.94-2.06-.94 2.06-2.06.94zm-11 1L8.5 8.5l.94-2.06 2.06-.94-2.06-.94L8.5 2.5l-.94 2.06-2.06.94zm10 10l.94 2.06.94-2.06 2.06-.94-2.06-.94-.94-2.06-.94 2.06-2.06.94z\"/><path d=\"M17.41 7.96l-1.37-1.37c-.4-.4-.92-.59-1.43-.59-.52 0-1.04.2-1.43.59L10.3 9.45l-7.72 7.72c-.78.78-.78 2.05 0 2.83L4 21.41c.39.39.9.59 1.41.59.51 0 1.02-.2 1.41-.59l7.78-7.78 2.81-2.81c.8-.78.8-2.07 0-2.86zM5.41 20L4 18.59l7.72-7.72 1.47 1.35L5.41 20z\"/>\n",
              "  </svg>\n",
              "      </button>\n",
              "      \n",
              "  <style>\n",
              "    .colab-df-container {\n",
              "      display:flex;\n",
              "      flex-wrap:wrap;\n",
              "      gap: 12px;\n",
              "    }\n",
              "\n",
              "    .colab-df-convert {\n",
              "      background-color: #E8F0FE;\n",
              "      border: none;\n",
              "      border-radius: 50%;\n",
              "      cursor: pointer;\n",
              "      display: none;\n",
              "      fill: #1967D2;\n",
              "      height: 32px;\n",
              "      padding: 0 0 0 0;\n",
              "      width: 32px;\n",
              "    }\n",
              "\n",
              "    .colab-df-convert:hover {\n",
              "      background-color: #E2EBFA;\n",
              "      box-shadow: 0px 1px 2px rgba(60, 64, 67, 0.3), 0px 1px 3px 1px rgba(60, 64, 67, 0.15);\n",
              "      fill: #174EA6;\n",
              "    }\n",
              "\n",
              "    [theme=dark] .colab-df-convert {\n",
              "      background-color: #3B4455;\n",
              "      fill: #D2E3FC;\n",
              "    }\n",
              "\n",
              "    [theme=dark] .colab-df-convert:hover {\n",
              "      background-color: #434B5C;\n",
              "      box-shadow: 0px 1px 3px 1px rgba(0, 0, 0, 0.15);\n",
              "      filter: drop-shadow(0px 1px 2px rgba(0, 0, 0, 0.3));\n",
              "      fill: #FFFFFF;\n",
              "    }\n",
              "  </style>\n",
              "\n",
              "      <script>\n",
              "        const buttonEl =\n",
              "          document.querySelector('#df-d7858038-3b99-4549-9963-b3d739c7b5a6 button.colab-df-convert');\n",
              "        buttonEl.style.display =\n",
              "          google.colab.kernel.accessAllowed ? 'block' : 'none';\n",
              "\n",
              "        async function convertToInteractive(key) {\n",
              "          const element = document.querySelector('#df-d7858038-3b99-4549-9963-b3d739c7b5a6');\n",
              "          const dataTable =\n",
              "            await google.colab.kernel.invokeFunction('convertToInteractive',\n",
              "                                                     [key], {});\n",
              "          if (!dataTable) return;\n",
              "\n",
              "          const docLinkHtml = 'Like what you see? Visit the ' +\n",
              "            '<a target=\"_blank\" href=https://colab.research.google.com/notebooks/data_table.ipynb>data table notebook</a>'\n",
              "            + ' to learn more about interactive tables.';\n",
              "          element.innerHTML = '';\n",
              "          dataTable['output_type'] = 'display_data';\n",
              "          await google.colab.output.renderOutput(dataTable, element);\n",
              "          const docLink = document.createElement('div');\n",
              "          docLink.innerHTML = docLinkHtml;\n",
              "          element.appendChild(docLink);\n",
              "        }\n",
              "      </script>\n",
              "    </div>\n",
              "  </div>\n",
              "  "
            ]
          },
          "metadata": {},
          "execution_count": 27
        }
      ],
      "source": [
        "test = data_test[['amt','is_international','payment_category','trans_desc','default_brand','default_location','coalesced_brand']]\n",
        "test.head(5)"
      ]
    },
    {
      "cell_type": "markdown",
      "source": [
        "# Feature Engineering"
      ],
      "metadata": {
        "id": "WkbtoH4JHeb-"
      },
      "id": "WkbtoH4JHeb-"
    },
    {
      "cell_type": "markdown",
      "source": [
        "## Check Missing Values"
      ],
      "metadata": {
        "id": "A8EPU-7xqXMX"
      },
      "id": "A8EPU-7xqXMX"
    },
    {
      "cell_type": "code",
      "execution_count": null,
      "id": "b9be571a",
      "metadata": {
        "colab": {
          "base_uri": "https://localhost:8080/",
          "height": 269
        },
        "id": "b9be571a",
        "outputId": "4f5ed987-46f3-4934-e393-4d360e9681af"
      },
      "outputs": [
        {
          "output_type": "execute_result",
          "data": {
            "text/plain": [
              "                  count  missing_rate  nunique\n",
              "amt               49994           0.0    12415\n",
              "is_international  49994           0.0        2\n",
              "payment_category  49994           0.0        5\n",
              "trans_desc        49994           0.0     2524\n",
              "default_brand     49994           0.0    49665\n",
              "default_location  49994           0.0     9340\n",
              "coalesced_brand   49994           0.0    45919"
            ],
            "text/html": [
              "\n",
              "  <div id=\"df-43cce005-36a2-483e-ab51-04d10f921328\">\n",
              "    <div class=\"colab-df-container\">\n",
              "      <div>\n",
              "<style scoped>\n",
              "    .dataframe tbody tr th:only-of-type {\n",
              "        vertical-align: middle;\n",
              "    }\n",
              "\n",
              "    .dataframe tbody tr th {\n",
              "        vertical-align: top;\n",
              "    }\n",
              "\n",
              "    .dataframe thead th {\n",
              "        text-align: right;\n",
              "    }\n",
              "</style>\n",
              "<table border=\"1\" class=\"dataframe\">\n",
              "  <thead>\n",
              "    <tr style=\"text-align: right;\">\n",
              "      <th></th>\n",
              "      <th>count</th>\n",
              "      <th>missing_rate</th>\n",
              "      <th>nunique</th>\n",
              "    </tr>\n",
              "  </thead>\n",
              "  <tbody>\n",
              "    <tr>\n",
              "      <th>amt</th>\n",
              "      <td>49994</td>\n",
              "      <td>0.0</td>\n",
              "      <td>12415</td>\n",
              "    </tr>\n",
              "    <tr>\n",
              "      <th>is_international</th>\n",
              "      <td>49994</td>\n",
              "      <td>0.0</td>\n",
              "      <td>2</td>\n",
              "    </tr>\n",
              "    <tr>\n",
              "      <th>payment_category</th>\n",
              "      <td>49994</td>\n",
              "      <td>0.0</td>\n",
              "      <td>5</td>\n",
              "    </tr>\n",
              "    <tr>\n",
              "      <th>trans_desc</th>\n",
              "      <td>49994</td>\n",
              "      <td>0.0</td>\n",
              "      <td>2524</td>\n",
              "    </tr>\n",
              "    <tr>\n",
              "      <th>default_brand</th>\n",
              "      <td>49994</td>\n",
              "      <td>0.0</td>\n",
              "      <td>49665</td>\n",
              "    </tr>\n",
              "    <tr>\n",
              "      <th>default_location</th>\n",
              "      <td>49994</td>\n",
              "      <td>0.0</td>\n",
              "      <td>9340</td>\n",
              "    </tr>\n",
              "    <tr>\n",
              "      <th>coalesced_brand</th>\n",
              "      <td>49994</td>\n",
              "      <td>0.0</td>\n",
              "      <td>45919</td>\n",
              "    </tr>\n",
              "  </tbody>\n",
              "</table>\n",
              "</div>\n",
              "      <button class=\"colab-df-convert\" onclick=\"convertToInteractive('df-43cce005-36a2-483e-ab51-04d10f921328')\"\n",
              "              title=\"Convert this dataframe to an interactive table.\"\n",
              "              style=\"display:none;\">\n",
              "        \n",
              "  <svg xmlns=\"http://www.w3.org/2000/svg\" height=\"24px\"viewBox=\"0 0 24 24\"\n",
              "       width=\"24px\">\n",
              "    <path d=\"M0 0h24v24H0V0z\" fill=\"none\"/>\n",
              "    <path d=\"M18.56 5.44l.94 2.06.94-2.06 2.06-.94-2.06-.94-.94-2.06-.94 2.06-2.06.94zm-11 1L8.5 8.5l.94-2.06 2.06-.94-2.06-.94L8.5 2.5l-.94 2.06-2.06.94zm10 10l.94 2.06.94-2.06 2.06-.94-2.06-.94-.94-2.06-.94 2.06-2.06.94z\"/><path d=\"M17.41 7.96l-1.37-1.37c-.4-.4-.92-.59-1.43-.59-.52 0-1.04.2-1.43.59L10.3 9.45l-7.72 7.72c-.78.78-.78 2.05 0 2.83L4 21.41c.39.39.9.59 1.41.59.51 0 1.02-.2 1.41-.59l7.78-7.78 2.81-2.81c.8-.78.8-2.07 0-2.86zM5.41 20L4 18.59l7.72-7.72 1.47 1.35L5.41 20z\"/>\n",
              "  </svg>\n",
              "      </button>\n",
              "      \n",
              "  <style>\n",
              "    .colab-df-container {\n",
              "      display:flex;\n",
              "      flex-wrap:wrap;\n",
              "      gap: 12px;\n",
              "    }\n",
              "\n",
              "    .colab-df-convert {\n",
              "      background-color: #E8F0FE;\n",
              "      border: none;\n",
              "      border-radius: 50%;\n",
              "      cursor: pointer;\n",
              "      display: none;\n",
              "      fill: #1967D2;\n",
              "      height: 32px;\n",
              "      padding: 0 0 0 0;\n",
              "      width: 32px;\n",
              "    }\n",
              "\n",
              "    .colab-df-convert:hover {\n",
              "      background-color: #E2EBFA;\n",
              "      box-shadow: 0px 1px 2px rgba(60, 64, 67, 0.3), 0px 1px 3px 1px rgba(60, 64, 67, 0.15);\n",
              "      fill: #174EA6;\n",
              "    }\n",
              "\n",
              "    [theme=dark] .colab-df-convert {\n",
              "      background-color: #3B4455;\n",
              "      fill: #D2E3FC;\n",
              "    }\n",
              "\n",
              "    [theme=dark] .colab-df-convert:hover {\n",
              "      background-color: #434B5C;\n",
              "      box-shadow: 0px 1px 3px 1px rgba(0, 0, 0, 0.15);\n",
              "      filter: drop-shadow(0px 1px 2px rgba(0, 0, 0, 0.3));\n",
              "      fill: #FFFFFF;\n",
              "    }\n",
              "  </style>\n",
              "\n",
              "      <script>\n",
              "        const buttonEl =\n",
              "          document.querySelector('#df-43cce005-36a2-483e-ab51-04d10f921328 button.colab-df-convert');\n",
              "        buttonEl.style.display =\n",
              "          google.colab.kernel.accessAllowed ? 'block' : 'none';\n",
              "\n",
              "        async function convertToInteractive(key) {\n",
              "          const element = document.querySelector('#df-43cce005-36a2-483e-ab51-04d10f921328');\n",
              "          const dataTable =\n",
              "            await google.colab.kernel.invokeFunction('convertToInteractive',\n",
              "                                                     [key], {});\n",
              "          if (!dataTable) return;\n",
              "\n",
              "          const docLinkHtml = 'Like what you see? Visit the ' +\n",
              "            '<a target=\"_blank\" href=https://colab.research.google.com/notebooks/data_table.ipynb>data table notebook</a>'\n",
              "            + ' to learn more about interactive tables.';\n",
              "          element.innerHTML = '';\n",
              "          dataTable['output_type'] = 'display_data';\n",
              "          await google.colab.output.renderOutput(dataTable, element);\n",
              "          const docLink = document.createElement('div');\n",
              "          docLink.innerHTML = docLinkHtml;\n",
              "          element.appendChild(docLink);\n",
              "        }\n",
              "      </script>\n",
              "    </div>\n",
              "  </div>\n",
              "  "
            ]
          },
          "metadata": {},
          "execution_count": 28
        }
      ],
      "source": [
        "data1 = pd.concat([train, test])\n",
        "cols = ['amt','is_international','payment_category','trans_desc','default_brand','default_location','coalesced_brand']\n",
        "tmp1 = pd.DataFrame()\n",
        "tmp1['count'] = data1[cols].count().values\n",
        "tmp1['missing_rate'] = (data1.shape[0] - tmp1['count']) / data1.shape[0]\n",
        "tmp1['nunique'] = data1[cols].nunique().values\n",
        "tmp1.index = cols\n",
        "tmp1"
      ]
    },
    {
      "cell_type": "markdown",
      "source": [
        "## Feature Encoding"
      ],
      "metadata": {
        "id": "FwTrH_HuqpHe"
      },
      "id": "FwTrH_HuqpHe"
    },
    {
      "cell_type": "markdown",
      "source": [
        "### Boolean Features"
      ],
      "metadata": {
        "id": "-Zx869t3vHdg"
      },
      "id": "-Zx869t3vHdg"
    },
    {
      "cell_type": "code",
      "execution_count": null,
      "id": "72c75c61",
      "metadata": {
        "colab": {
          "base_uri": "https://localhost:8080/"
        },
        "id": "72c75c61",
        "outputId": "c2f79ba1-ea0b-49ed-b29b-b937f0b1f2bc"
      },
      "outputs": [
        {
          "output_type": "stream",
          "name": "stderr",
          "text": [
            "/usr/local/lib/python3.7/dist-packages/ipykernel_launcher.py:2: SettingWithCopyWarning: \n",
            "A value is trying to be set on a copy of a slice from a DataFrame.\n",
            "Try using .loc[row_indexer,col_indexer] = value instead\n",
            "\n",
            "See the caveats in the documentation: https://pandas.pydata.org/pandas-docs/stable/user_guide/indexing.html#returning-a-view-versus-a-copy\n",
            "  \n"
          ]
        }
      ],
      "source": [
        "m1 = {False:0,True:1}\n",
        "train['is_international']=train['is_international'].apply(lambda x:m1[x])"
      ]
    },
    {
      "cell_type": "code",
      "execution_count": null,
      "id": "be17ac3b",
      "metadata": {
        "colab": {
          "base_uri": "https://localhost:8080/"
        },
        "id": "be17ac3b",
        "outputId": "c9732d81-97c8-4695-8b11-7a0697d96114"
      },
      "outputs": [
        {
          "output_type": "stream",
          "name": "stderr",
          "text": [
            "/usr/local/lib/python3.7/dist-packages/ipykernel_launcher.py:1: SettingWithCopyWarning: \n",
            "A value is trying to be set on a copy of a slice from a DataFrame.\n",
            "Try using .loc[row_indexer,col_indexer] = value instead\n",
            "\n",
            "See the caveats in the documentation: https://pandas.pydata.org/pandas-docs/stable/user_guide/indexing.html#returning-a-view-versus-a-copy\n",
            "  \"\"\"Entry point for launching an IPython kernel.\n"
          ]
        }
      ],
      "source": [
        "test['is_international']=test['is_international'].apply(lambda x:m1[x])"
      ]
    },
    {
      "cell_type": "code",
      "execution_count": null,
      "id": "e08d00b3",
      "metadata": {
        "colab": {
          "base_uri": "https://localhost:8080/",
          "height": 292
        },
        "id": "e08d00b3",
        "outputId": "106cda52-08fa-4bba-fbce-3a985b3ff6d0"
      },
      "outputs": [
        {
          "output_type": "execute_result",
          "data": {
            "text/plain": [
              "      amt  is_international payment_category  \\\n",
              "0   58.34                 0       Debit Card   \n",
              "1  103.00                 0       Check Card   \n",
              "2   22.44                 0       Check Card   \n",
              "\n",
              "                                          trans_desc           default_brand  \\\n",
              "0  RECUR DEBIT CRD PMT11/11 111111XXXXXX1111 1111...  DELTA DENTAL OF A11 OF   \n",
              "1  CHECK CRD PURCHASE 11/11 111111XXXXXX1111 1111...       SURETY SOLUTIONS,   \n",
              "2  CHECK CRD PURCHASE 11/11 111111XXXXXX1111 1111...           THE COPY STOP   \n",
              "\n",
              "   default_location   coalesced_brand  Category_encoded  \n",
              "0    111-1111111 AR      Delta Dental                 3  \n",
              "1   111-111-1111 OR  Surety Solutions                 3  \n",
              "2  SALT LAKE CIT UT     The Copy Stop                 3  "
            ],
            "text/html": [
              "\n",
              "  <div id=\"df-c9c5cca3-afe2-4e21-b628-dde6920208c4\">\n",
              "    <div class=\"colab-df-container\">\n",
              "      <div>\n",
              "<style scoped>\n",
              "    .dataframe tbody tr th:only-of-type {\n",
              "        vertical-align: middle;\n",
              "    }\n",
              "\n",
              "    .dataframe tbody tr th {\n",
              "        vertical-align: top;\n",
              "    }\n",
              "\n",
              "    .dataframe thead th {\n",
              "        text-align: right;\n",
              "    }\n",
              "</style>\n",
              "<table border=\"1\" class=\"dataframe\">\n",
              "  <thead>\n",
              "    <tr style=\"text-align: right;\">\n",
              "      <th></th>\n",
              "      <th>amt</th>\n",
              "      <th>is_international</th>\n",
              "      <th>payment_category</th>\n",
              "      <th>trans_desc</th>\n",
              "      <th>default_brand</th>\n",
              "      <th>default_location</th>\n",
              "      <th>coalesced_brand</th>\n",
              "      <th>Category_encoded</th>\n",
              "    </tr>\n",
              "  </thead>\n",
              "  <tbody>\n",
              "    <tr>\n",
              "      <th>0</th>\n",
              "      <td>58.34</td>\n",
              "      <td>0</td>\n",
              "      <td>Debit Card</td>\n",
              "      <td>RECUR DEBIT CRD PMT11/11 111111XXXXXX1111 1111...</td>\n",
              "      <td>DELTA DENTAL OF A11 OF</td>\n",
              "      <td>111-1111111 AR</td>\n",
              "      <td>Delta Dental</td>\n",
              "      <td>3</td>\n",
              "    </tr>\n",
              "    <tr>\n",
              "      <th>1</th>\n",
              "      <td>103.00</td>\n",
              "      <td>0</td>\n",
              "      <td>Check Card</td>\n",
              "      <td>CHECK CRD PURCHASE 11/11 111111XXXXXX1111 1111...</td>\n",
              "      <td>SURETY SOLUTIONS,</td>\n",
              "      <td>111-111-1111 OR</td>\n",
              "      <td>Surety Solutions</td>\n",
              "      <td>3</td>\n",
              "    </tr>\n",
              "    <tr>\n",
              "      <th>2</th>\n",
              "      <td>22.44</td>\n",
              "      <td>0</td>\n",
              "      <td>Check Card</td>\n",
              "      <td>CHECK CRD PURCHASE 11/11 111111XXXXXX1111 1111...</td>\n",
              "      <td>THE COPY STOP</td>\n",
              "      <td>SALT LAKE CIT UT</td>\n",
              "      <td>The Copy Stop</td>\n",
              "      <td>3</td>\n",
              "    </tr>\n",
              "  </tbody>\n",
              "</table>\n",
              "</div>\n",
              "      <button class=\"colab-df-convert\" onclick=\"convertToInteractive('df-c9c5cca3-afe2-4e21-b628-dde6920208c4')\"\n",
              "              title=\"Convert this dataframe to an interactive table.\"\n",
              "              style=\"display:none;\">\n",
              "        \n",
              "  <svg xmlns=\"http://www.w3.org/2000/svg\" height=\"24px\"viewBox=\"0 0 24 24\"\n",
              "       width=\"24px\">\n",
              "    <path d=\"M0 0h24v24H0V0z\" fill=\"none\"/>\n",
              "    <path d=\"M18.56 5.44l.94 2.06.94-2.06 2.06-.94-2.06-.94-.94-2.06-.94 2.06-2.06.94zm-11 1L8.5 8.5l.94-2.06 2.06-.94-2.06-.94L8.5 2.5l-.94 2.06-2.06.94zm10 10l.94 2.06.94-2.06 2.06-.94-2.06-.94-.94-2.06-.94 2.06-2.06.94z\"/><path d=\"M17.41 7.96l-1.37-1.37c-.4-.4-.92-.59-1.43-.59-.52 0-1.04.2-1.43.59L10.3 9.45l-7.72 7.72c-.78.78-.78 2.05 0 2.83L4 21.41c.39.39.9.59 1.41.59.51 0 1.02-.2 1.41-.59l7.78-7.78 2.81-2.81c.8-.78.8-2.07 0-2.86zM5.41 20L4 18.59l7.72-7.72 1.47 1.35L5.41 20z\"/>\n",
              "  </svg>\n",
              "      </button>\n",
              "      \n",
              "  <style>\n",
              "    .colab-df-container {\n",
              "      display:flex;\n",
              "      flex-wrap:wrap;\n",
              "      gap: 12px;\n",
              "    }\n",
              "\n",
              "    .colab-df-convert {\n",
              "      background-color: #E8F0FE;\n",
              "      border: none;\n",
              "      border-radius: 50%;\n",
              "      cursor: pointer;\n",
              "      display: none;\n",
              "      fill: #1967D2;\n",
              "      height: 32px;\n",
              "      padding: 0 0 0 0;\n",
              "      width: 32px;\n",
              "    }\n",
              "\n",
              "    .colab-df-convert:hover {\n",
              "      background-color: #E2EBFA;\n",
              "      box-shadow: 0px 1px 2px rgba(60, 64, 67, 0.3), 0px 1px 3px 1px rgba(60, 64, 67, 0.15);\n",
              "      fill: #174EA6;\n",
              "    }\n",
              "\n",
              "    [theme=dark] .colab-df-convert {\n",
              "      background-color: #3B4455;\n",
              "      fill: #D2E3FC;\n",
              "    }\n",
              "\n",
              "    [theme=dark] .colab-df-convert:hover {\n",
              "      background-color: #434B5C;\n",
              "      box-shadow: 0px 1px 3px 1px rgba(0, 0, 0, 0.15);\n",
              "      filter: drop-shadow(0px 1px 2px rgba(0, 0, 0, 0.3));\n",
              "      fill: #FFFFFF;\n",
              "    }\n",
              "  </style>\n",
              "\n",
              "      <script>\n",
              "        const buttonEl =\n",
              "          document.querySelector('#df-c9c5cca3-afe2-4e21-b628-dde6920208c4 button.colab-df-convert');\n",
              "        buttonEl.style.display =\n",
              "          google.colab.kernel.accessAllowed ? 'block' : 'none';\n",
              "\n",
              "        async function convertToInteractive(key) {\n",
              "          const element = document.querySelector('#df-c9c5cca3-afe2-4e21-b628-dde6920208c4');\n",
              "          const dataTable =\n",
              "            await google.colab.kernel.invokeFunction('convertToInteractive',\n",
              "                                                     [key], {});\n",
              "          if (!dataTable) return;\n",
              "\n",
              "          const docLinkHtml = 'Like what you see? Visit the ' +\n",
              "            '<a target=\"_blank\" href=https://colab.research.google.com/notebooks/data_table.ipynb>data table notebook</a>'\n",
              "            + ' to learn more about interactive tables.';\n",
              "          element.innerHTML = '';\n",
              "          dataTable['output_type'] = 'display_data';\n",
              "          await google.colab.output.renderOutput(dataTable, element);\n",
              "          const docLink = document.createElement('div');\n",
              "          docLink.innerHTML = docLinkHtml;\n",
              "          element.appendChild(docLink);\n",
              "        }\n",
              "      </script>\n",
              "    </div>\n",
              "  </div>\n",
              "  "
            ]
          },
          "metadata": {},
          "execution_count": 31
        }
      ],
      "source": [
        "train.head(3)"
      ]
    },
    {
      "cell_type": "markdown",
      "source": [
        "### Categorical Features"
      ],
      "metadata": {
        "id": "CMnF9nWlvTwB"
      },
      "id": "CMnF9nWlvTwB"
    },
    {
      "cell_type": "code",
      "execution_count": null,
      "id": "19c850fd",
      "metadata": {
        "colab": {
          "base_uri": "https://localhost:8080/",
          "height": 517
        },
        "id": "19c850fd",
        "outputId": "c7eb9a7a-31f7-4aa9-cb91-6debdf6c9699"
      },
      "outputs": [
        {
          "output_type": "stream",
          "name": "stdout",
          "text": [
            "{'Card': 0, 'Check Card': 1, 'Credit Card': 2, 'Debit Card': 3, 'HSA Card': 4}\n"
          ]
        },
        {
          "output_type": "stream",
          "name": "stderr",
          "text": [
            "/usr/local/lib/python3.7/dist-packages/ipykernel_launcher.py:3: SettingWithCopyWarning: \n",
            "A value is trying to be set on a copy of a slice from a DataFrame.\n",
            "Try using .loc[row_indexer,col_indexer] = value instead\n",
            "\n",
            "See the caveats in the documentation: https://pandas.pydata.org/pandas-docs/stable/user_guide/indexing.html#returning-a-view-versus-a-copy\n",
            "  This is separate from the ipykernel package so we can avoid doing imports until\n",
            "/usr/local/lib/python3.7/dist-packages/ipykernel_launcher.py:4: SettingWithCopyWarning: \n",
            "A value is trying to be set on a copy of a slice from a DataFrame.\n",
            "Try using .loc[row_indexer,col_indexer] = value instead\n",
            "\n",
            "See the caveats in the documentation: https://pandas.pydata.org/pandas-docs/stable/user_guide/indexing.html#returning-a-view-versus-a-copy\n",
            "  after removing the cwd from sys.path.\n"
          ]
        },
        {
          "output_type": "execute_result",
          "data": {
            "text/plain": [
              "      amt  is_international  payment_category  \\\n",
              "0   58.34                 0                 3   \n",
              "1  103.00                 0                 1   \n",
              "2   22.44                 0                 1   \n",
              "\n",
              "                                          trans_desc           default_brand  \\\n",
              "0  RECUR DEBIT CRD PMT11/11 111111XXXXXX1111 1111...  DELTA DENTAL OF A11 OF   \n",
              "1  CHECK CRD PURCHASE 11/11 111111XXXXXX1111 1111...       SURETY SOLUTIONS,   \n",
              "2  CHECK CRD PURCHASE 11/11 111111XXXXXX1111 1111...           THE COPY STOP   \n",
              "\n",
              "   default_location   coalesced_brand  Category_encoded  \n",
              "0    111-1111111 AR      Delta Dental                 3  \n",
              "1   111-111-1111 OR  Surety Solutions                 3  \n",
              "2  SALT LAKE CIT UT     The Copy Stop                 3  "
            ],
            "text/html": [
              "\n",
              "  <div id=\"df-c76a2af7-177c-40d3-bd95-d2117098abf9\">\n",
              "    <div class=\"colab-df-container\">\n",
              "      <div>\n",
              "<style scoped>\n",
              "    .dataframe tbody tr th:only-of-type {\n",
              "        vertical-align: middle;\n",
              "    }\n",
              "\n",
              "    .dataframe tbody tr th {\n",
              "        vertical-align: top;\n",
              "    }\n",
              "\n",
              "    .dataframe thead th {\n",
              "        text-align: right;\n",
              "    }\n",
              "</style>\n",
              "<table border=\"1\" class=\"dataframe\">\n",
              "  <thead>\n",
              "    <tr style=\"text-align: right;\">\n",
              "      <th></th>\n",
              "      <th>amt</th>\n",
              "      <th>is_international</th>\n",
              "      <th>payment_category</th>\n",
              "      <th>trans_desc</th>\n",
              "      <th>default_brand</th>\n",
              "      <th>default_location</th>\n",
              "      <th>coalesced_brand</th>\n",
              "      <th>Category_encoded</th>\n",
              "    </tr>\n",
              "  </thead>\n",
              "  <tbody>\n",
              "    <tr>\n",
              "      <th>0</th>\n",
              "      <td>58.34</td>\n",
              "      <td>0</td>\n",
              "      <td>3</td>\n",
              "      <td>RECUR DEBIT CRD PMT11/11 111111XXXXXX1111 1111...</td>\n",
              "      <td>DELTA DENTAL OF A11 OF</td>\n",
              "      <td>111-1111111 AR</td>\n",
              "      <td>Delta Dental</td>\n",
              "      <td>3</td>\n",
              "    </tr>\n",
              "    <tr>\n",
              "      <th>1</th>\n",
              "      <td>103.00</td>\n",
              "      <td>0</td>\n",
              "      <td>1</td>\n",
              "      <td>CHECK CRD PURCHASE 11/11 111111XXXXXX1111 1111...</td>\n",
              "      <td>SURETY SOLUTIONS,</td>\n",
              "      <td>111-111-1111 OR</td>\n",
              "      <td>Surety Solutions</td>\n",
              "      <td>3</td>\n",
              "    </tr>\n",
              "    <tr>\n",
              "      <th>2</th>\n",
              "      <td>22.44</td>\n",
              "      <td>0</td>\n",
              "      <td>1</td>\n",
              "      <td>CHECK CRD PURCHASE 11/11 111111XXXXXX1111 1111...</td>\n",
              "      <td>THE COPY STOP</td>\n",
              "      <td>SALT LAKE CIT UT</td>\n",
              "      <td>The Copy Stop</td>\n",
              "      <td>3</td>\n",
              "    </tr>\n",
              "  </tbody>\n",
              "</table>\n",
              "</div>\n",
              "      <button class=\"colab-df-convert\" onclick=\"convertToInteractive('df-c76a2af7-177c-40d3-bd95-d2117098abf9')\"\n",
              "              title=\"Convert this dataframe to an interactive table.\"\n",
              "              style=\"display:none;\">\n",
              "        \n",
              "  <svg xmlns=\"http://www.w3.org/2000/svg\" height=\"24px\"viewBox=\"0 0 24 24\"\n",
              "       width=\"24px\">\n",
              "    <path d=\"M0 0h24v24H0V0z\" fill=\"none\"/>\n",
              "    <path d=\"M18.56 5.44l.94 2.06.94-2.06 2.06-.94-2.06-.94-.94-2.06-.94 2.06-2.06.94zm-11 1L8.5 8.5l.94-2.06 2.06-.94-2.06-.94L8.5 2.5l-.94 2.06-2.06.94zm10 10l.94 2.06.94-2.06 2.06-.94-2.06-.94-.94-2.06-.94 2.06-2.06.94z\"/><path d=\"M17.41 7.96l-1.37-1.37c-.4-.4-.92-.59-1.43-.59-.52 0-1.04.2-1.43.59L10.3 9.45l-7.72 7.72c-.78.78-.78 2.05 0 2.83L4 21.41c.39.39.9.59 1.41.59.51 0 1.02-.2 1.41-.59l7.78-7.78 2.81-2.81c.8-.78.8-2.07 0-2.86zM5.41 20L4 18.59l7.72-7.72 1.47 1.35L5.41 20z\"/>\n",
              "  </svg>\n",
              "      </button>\n",
              "      \n",
              "  <style>\n",
              "    .colab-df-container {\n",
              "      display:flex;\n",
              "      flex-wrap:wrap;\n",
              "      gap: 12px;\n",
              "    }\n",
              "\n",
              "    .colab-df-convert {\n",
              "      background-color: #E8F0FE;\n",
              "      border: none;\n",
              "      border-radius: 50%;\n",
              "      cursor: pointer;\n",
              "      display: none;\n",
              "      fill: #1967D2;\n",
              "      height: 32px;\n",
              "      padding: 0 0 0 0;\n",
              "      width: 32px;\n",
              "    }\n",
              "\n",
              "    .colab-df-convert:hover {\n",
              "      background-color: #E2EBFA;\n",
              "      box-shadow: 0px 1px 2px rgba(60, 64, 67, 0.3), 0px 1px 3px 1px rgba(60, 64, 67, 0.15);\n",
              "      fill: #174EA6;\n",
              "    }\n",
              "\n",
              "    [theme=dark] .colab-df-convert {\n",
              "      background-color: #3B4455;\n",
              "      fill: #D2E3FC;\n",
              "    }\n",
              "\n",
              "    [theme=dark] .colab-df-convert:hover {\n",
              "      background-color: #434B5C;\n",
              "      box-shadow: 0px 1px 3px 1px rgba(0, 0, 0, 0.15);\n",
              "      filter: drop-shadow(0px 1px 2px rgba(0, 0, 0, 0.3));\n",
              "      fill: #FFFFFF;\n",
              "    }\n",
              "  </style>\n",
              "\n",
              "      <script>\n",
              "        const buttonEl =\n",
              "          document.querySelector('#df-c76a2af7-177c-40d3-bd95-d2117098abf9 button.colab-df-convert');\n",
              "        buttonEl.style.display =\n",
              "          google.colab.kernel.accessAllowed ? 'block' : 'none';\n",
              "\n",
              "        async function convertToInteractive(key) {\n",
              "          const element = document.querySelector('#df-c76a2af7-177c-40d3-bd95-d2117098abf9');\n",
              "          const dataTable =\n",
              "            await google.colab.kernel.invokeFunction('convertToInteractive',\n",
              "                                                     [key], {});\n",
              "          if (!dataTable) return;\n",
              "\n",
              "          const docLinkHtml = 'Like what you see? Visit the ' +\n",
              "            '<a target=\"_blank\" href=https://colab.research.google.com/notebooks/data_table.ipynb>data table notebook</a>'\n",
              "            + ' to learn more about interactive tables.';\n",
              "          element.innerHTML = '';\n",
              "          dataTable['output_type'] = 'display_data';\n",
              "          await google.colab.output.renderOutput(dataTable, element);\n",
              "          const docLink = document.createElement('div');\n",
              "          docLink.innerHTML = docLinkHtml;\n",
              "          element.appendChild(docLink);\n",
              "        }\n",
              "      </script>\n",
              "    </div>\n",
              "  </div>\n",
              "  "
            ]
          },
          "metadata": {},
          "execution_count": 32
        }
      ],
      "source": [
        "m2 = {label: idx for idx, label in enumerate(np.unique(train['payment_category']))}\n",
        "print(m2)\n",
        "train['payment_category']=train['payment_category'].apply(lambda x:m2[x])\n",
        "test['payment_category']=test['payment_category'].apply(lambda x:m2[x])\n",
        "train.head(3)"
      ]
    },
    {
      "cell_type": "markdown",
      "source": [
        "## Text Data Cleaning"
      ],
      "metadata": {
        "id": "B2z6ArdHvbKP"
      },
      "id": "B2z6ArdHvbKP"
    },
    {
      "cell_type": "markdown",
      "source": [
        "Observing the data, there exists `111111XXXXXX1111 111111111111111 ?MCC=1111 11` for every records of the `trans_desc` column, so we remove the meaningless text."
      ],
      "metadata": {
        "id": "VKyrGRn_vhjs"
      },
      "id": "VKyrGRn_vhjs"
    },
    {
      "cell_type": "code",
      "execution_count": null,
      "id": "281208de",
      "metadata": {
        "colab": {
          "base_uri": "https://localhost:8080/"
        },
        "id": "281208de",
        "outputId": "d5c5bbc9-e878-457d-9d46-f1760f8726b7"
      },
      "outputs": [
        {
          "output_type": "stream",
          "name": "stderr",
          "text": [
            "/usr/local/lib/python3.7/dist-packages/ipykernel_launcher.py:1: SettingWithCopyWarning: \n",
            "A value is trying to be set on a copy of a slice from a DataFrame.\n",
            "Try using .loc[row_indexer,col_indexer] = value instead\n",
            "\n",
            "See the caveats in the documentation: https://pandas.pydata.org/pandas-docs/stable/user_guide/indexing.html#returning-a-view-versus-a-copy\n",
            "  \"\"\"Entry point for launching an IPython kernel.\n",
            "/usr/local/lib/python3.7/dist-packages/ipykernel_launcher.py:2: SettingWithCopyWarning: \n",
            "A value is trying to be set on a copy of a slice from a DataFrame.\n",
            "Try using .loc[row_indexer,col_indexer] = value instead\n",
            "\n",
            "See the caveats in the documentation: https://pandas.pydata.org/pandas-docs/stable/user_guide/indexing.html#returning-a-view-versus-a-copy\n",
            "  \n"
          ]
        }
      ],
      "source": [
        "train['trans_desc'] = train['trans_desc'].apply(lambda x:str(x).replace('111111XXXXXX1111 111111111111111 ?MCC=1111',''))\n",
        "test['trans_desc']=train['trans_desc'].apply(lambda x:str(x).replace('111111XXXXXX1111 111111111111111 ?MCC=1111 11',''))"
      ]
    },
    {
      "cell_type": "code",
      "execution_count": null,
      "id": "2ab7890e",
      "metadata": {
        "colab": {
          "base_uri": "https://localhost:8080/",
          "height": 239
        },
        "id": "2ab7890e",
        "outputId": "e98a1f99-0f5e-4de9-c53b-1fa7eb8c6f19"
      },
      "outputs": [
        {
          "output_type": "execute_result",
          "data": {
            "text/plain": [
              "      amt  is_international  payment_category                    trans_desc  \\\n",
              "0   58.34                 0                 3  RECUR DEBIT CRD PMT11/11  11   \n",
              "1  103.00                 0                 1     CHECK CRD PURCHASE 11/11    \n",
              "2   22.44                 0                 1     CHECK CRD PURCHASE 11/11    \n",
              "\n",
              "            default_brand  default_location   coalesced_brand  \\\n",
              "0  DELTA DENTAL OF A11 OF    111-1111111 AR      Delta Dental   \n",
              "1       SURETY SOLUTIONS,   111-111-1111 OR  Surety Solutions   \n",
              "2           THE COPY STOP  SALT LAKE CIT UT     The Copy Stop   \n",
              "\n",
              "   Category_encoded  \n",
              "0                 3  \n",
              "1                 3  \n",
              "2                 3  "
            ],
            "text/html": [
              "\n",
              "  <div id=\"df-d608224f-9390-4ca5-aeda-e23933630684\">\n",
              "    <div class=\"colab-df-container\">\n",
              "      <div>\n",
              "<style scoped>\n",
              "    .dataframe tbody tr th:only-of-type {\n",
              "        vertical-align: middle;\n",
              "    }\n",
              "\n",
              "    .dataframe tbody tr th {\n",
              "        vertical-align: top;\n",
              "    }\n",
              "\n",
              "    .dataframe thead th {\n",
              "        text-align: right;\n",
              "    }\n",
              "</style>\n",
              "<table border=\"1\" class=\"dataframe\">\n",
              "  <thead>\n",
              "    <tr style=\"text-align: right;\">\n",
              "      <th></th>\n",
              "      <th>amt</th>\n",
              "      <th>is_international</th>\n",
              "      <th>payment_category</th>\n",
              "      <th>trans_desc</th>\n",
              "      <th>default_brand</th>\n",
              "      <th>default_location</th>\n",
              "      <th>coalesced_brand</th>\n",
              "      <th>Category_encoded</th>\n",
              "    </tr>\n",
              "  </thead>\n",
              "  <tbody>\n",
              "    <tr>\n",
              "      <th>0</th>\n",
              "      <td>58.34</td>\n",
              "      <td>0</td>\n",
              "      <td>3</td>\n",
              "      <td>RECUR DEBIT CRD PMT11/11  11</td>\n",
              "      <td>DELTA DENTAL OF A11 OF</td>\n",
              "      <td>111-1111111 AR</td>\n",
              "      <td>Delta Dental</td>\n",
              "      <td>3</td>\n",
              "    </tr>\n",
              "    <tr>\n",
              "      <th>1</th>\n",
              "      <td>103.00</td>\n",
              "      <td>0</td>\n",
              "      <td>1</td>\n",
              "      <td>CHECK CRD PURCHASE 11/11</td>\n",
              "      <td>SURETY SOLUTIONS,</td>\n",
              "      <td>111-111-1111 OR</td>\n",
              "      <td>Surety Solutions</td>\n",
              "      <td>3</td>\n",
              "    </tr>\n",
              "    <tr>\n",
              "      <th>2</th>\n",
              "      <td>22.44</td>\n",
              "      <td>0</td>\n",
              "      <td>1</td>\n",
              "      <td>CHECK CRD PURCHASE 11/11</td>\n",
              "      <td>THE COPY STOP</td>\n",
              "      <td>SALT LAKE CIT UT</td>\n",
              "      <td>The Copy Stop</td>\n",
              "      <td>3</td>\n",
              "    </tr>\n",
              "  </tbody>\n",
              "</table>\n",
              "</div>\n",
              "      <button class=\"colab-df-convert\" onclick=\"convertToInteractive('df-d608224f-9390-4ca5-aeda-e23933630684')\"\n",
              "              title=\"Convert this dataframe to an interactive table.\"\n",
              "              style=\"display:none;\">\n",
              "        \n",
              "  <svg xmlns=\"http://www.w3.org/2000/svg\" height=\"24px\"viewBox=\"0 0 24 24\"\n",
              "       width=\"24px\">\n",
              "    <path d=\"M0 0h24v24H0V0z\" fill=\"none\"/>\n",
              "    <path d=\"M18.56 5.44l.94 2.06.94-2.06 2.06-.94-2.06-.94-.94-2.06-.94 2.06-2.06.94zm-11 1L8.5 8.5l.94-2.06 2.06-.94-2.06-.94L8.5 2.5l-.94 2.06-2.06.94zm10 10l.94 2.06.94-2.06 2.06-.94-2.06-.94-.94-2.06-.94 2.06-2.06.94z\"/><path d=\"M17.41 7.96l-1.37-1.37c-.4-.4-.92-.59-1.43-.59-.52 0-1.04.2-1.43.59L10.3 9.45l-7.72 7.72c-.78.78-.78 2.05 0 2.83L4 21.41c.39.39.9.59 1.41.59.51 0 1.02-.2 1.41-.59l7.78-7.78 2.81-2.81c.8-.78.8-2.07 0-2.86zM5.41 20L4 18.59l7.72-7.72 1.47 1.35L5.41 20z\"/>\n",
              "  </svg>\n",
              "      </button>\n",
              "      \n",
              "  <style>\n",
              "    .colab-df-container {\n",
              "      display:flex;\n",
              "      flex-wrap:wrap;\n",
              "      gap: 12px;\n",
              "    }\n",
              "\n",
              "    .colab-df-convert {\n",
              "      background-color: #E8F0FE;\n",
              "      border: none;\n",
              "      border-radius: 50%;\n",
              "      cursor: pointer;\n",
              "      display: none;\n",
              "      fill: #1967D2;\n",
              "      height: 32px;\n",
              "      padding: 0 0 0 0;\n",
              "      width: 32px;\n",
              "    }\n",
              "\n",
              "    .colab-df-convert:hover {\n",
              "      background-color: #E2EBFA;\n",
              "      box-shadow: 0px 1px 2px rgba(60, 64, 67, 0.3), 0px 1px 3px 1px rgba(60, 64, 67, 0.15);\n",
              "      fill: #174EA6;\n",
              "    }\n",
              "\n",
              "    [theme=dark] .colab-df-convert {\n",
              "      background-color: #3B4455;\n",
              "      fill: #D2E3FC;\n",
              "    }\n",
              "\n",
              "    [theme=dark] .colab-df-convert:hover {\n",
              "      background-color: #434B5C;\n",
              "      box-shadow: 0px 1px 3px 1px rgba(0, 0, 0, 0.15);\n",
              "      filter: drop-shadow(0px 1px 2px rgba(0, 0, 0, 0.3));\n",
              "      fill: #FFFFFF;\n",
              "    }\n",
              "  </style>\n",
              "\n",
              "      <script>\n",
              "        const buttonEl =\n",
              "          document.querySelector('#df-d608224f-9390-4ca5-aeda-e23933630684 button.colab-df-convert');\n",
              "        buttonEl.style.display =\n",
              "          google.colab.kernel.accessAllowed ? 'block' : 'none';\n",
              "\n",
              "        async function convertToInteractive(key) {\n",
              "          const element = document.querySelector('#df-d608224f-9390-4ca5-aeda-e23933630684');\n",
              "          const dataTable =\n",
              "            await google.colab.kernel.invokeFunction('convertToInteractive',\n",
              "                                                     [key], {});\n",
              "          if (!dataTable) return;\n",
              "\n",
              "          const docLinkHtml = 'Like what you see? Visit the ' +\n",
              "            '<a target=\"_blank\" href=https://colab.research.google.com/notebooks/data_table.ipynb>data table notebook</a>'\n",
              "            + ' to learn more about interactive tables.';\n",
              "          element.innerHTML = '';\n",
              "          dataTable['output_type'] = 'display_data';\n",
              "          await google.colab.output.renderOutput(dataTable, element);\n",
              "          const docLink = document.createElement('div');\n",
              "          docLink.innerHTML = docLinkHtml;\n",
              "          element.appendChild(docLink);\n",
              "        }\n",
              "      </script>\n",
              "    </div>\n",
              "  </div>\n",
              "  "
            ]
          },
          "metadata": {},
          "execution_count": 34
        }
      ],
      "source": [
        "pd.set_option('max_colwidth',200)\n",
        "train.head(3)"
      ]
    },
    {
      "cell_type": "markdown",
      "source": [
        "## Text Features Extraction"
      ],
      "metadata": {
        "id": "VeKjQEmkwIcc"
      },
      "id": "VeKjQEmkwIcc"
    },
    {
      "cell_type": "markdown",
      "source": [
        "For the text features including `trans_desc`,  `default_brand`，`default_location`，`coalesced_brand`, vectorize them into sparse matrices based on TF-IDF model"
      ],
      "metadata": {
        "id": "KFDTZIA9wT7S"
      },
      "id": "KFDTZIA9wT7S"
    },
    {
      "cell_type": "code",
      "execution_count": null,
      "id": "73ea8caf",
      "metadata": {
        "colab": {
          "base_uri": "https://localhost:8080/"
        },
        "id": "73ea8caf",
        "outputId": "0421eafd-12cc-4e32-c9dd-b16c23300aeb"
      },
      "outputs": [
        {
          "output_type": "execute_result",
          "data": {
            "text/plain": [
              "<39994x9 sparse matrix of type '<class 'numpy.float64'>'\n",
              "\twith 121679 stored elements in Compressed Sparse Row format>"
            ]
          },
          "metadata": {},
          "execution_count": 35
        }
      ],
      "source": [
        "cut = lambda x:str(x).split(' ')\n",
        "trans_desc_cuts = train['trans_desc'].apply(lambda x: ' '.join(cut(x)))\n",
        "trans_desc_encoder = TfidfVectorizer(max_df=0.99, min_df=0.01)\n",
        "trans_desc_vec = trans_desc_encoder.fit_transform((d for d in trans_desc_cuts))\n",
        "trans_desc_vec"
      ]
    },
    {
      "cell_type": "code",
      "execution_count": null,
      "id": "ab0d844a",
      "metadata": {
        "colab": {
          "base_uri": "https://localhost:8080/"
        },
        "id": "ab0d844a",
        "outputId": "4c6fb5c1-249d-476e-fe56-c8ed9a6749c9"
      },
      "outputs": [
        {
          "output_type": "execute_result",
          "data": {
            "text/plain": [
              "<39994x14 sparse matrix of type '<class 'numpy.float64'>'\n",
              "\twith 9675 stored elements in Compressed Sparse Row format>"
            ]
          },
          "metadata": {},
          "execution_count": 36
        }
      ],
      "source": [
        "default_brand_cuts = train['default_brand'].apply(lambda x: ' '.join(cut(x)))\n",
        "default_brand_encoder = TfidfVectorizer(max_df=0.99, min_df=0.01)\n",
        "default_brand_vec = default_brand_encoder.fit_transform((d for d in default_brand_cuts))\n",
        "default_brand_vec"
      ]
    },
    {
      "cell_type": "code",
      "execution_count": null,
      "id": "9e6805c6",
      "metadata": {
        "colab": {
          "base_uri": "https://localhost:8080/"
        },
        "id": "9e6805c6",
        "outputId": "32f19459-ad27-46ac-90f1-d2a32aa9458f"
      },
      "outputs": [
        {
          "output_type": "execute_result",
          "data": {
            "text/plain": [
              "<39994x32 sparse matrix of type '<class 'numpy.float64'>'\n",
              "\twith 51341 stored elements in Compressed Sparse Row format>"
            ]
          },
          "metadata": {},
          "execution_count": 37
        }
      ],
      "source": [
        "default_location_cuts = train['default_location'].apply(lambda x: ' '.join(cut(x)))\n",
        "default_location_encoder = TfidfVectorizer(max_df=0.99, min_df=0.01)\n",
        "default_location_vec = default_location_encoder.fit_transform((d for d in default_location_cuts))\n",
        "default_location_vec"
      ]
    },
    {
      "cell_type": "code",
      "execution_count": null,
      "id": "c0935215",
      "metadata": {
        "colab": {
          "base_uri": "https://localhost:8080/"
        },
        "id": "c0935215",
        "outputId": "1d3c528c-dcbd-4b12-a0d2-f06cfa8ac7fd"
      },
      "outputs": [
        {
          "output_type": "execute_result",
          "data": {
            "text/plain": [
              "<39994x15 sparse matrix of type '<class 'numpy.float64'>'\n",
              "\twith 13645 stored elements in Compressed Sparse Row format>"
            ]
          },
          "metadata": {},
          "execution_count": 38
        }
      ],
      "source": [
        "coalesced_brand_cuts = train['coalesced_brand'].apply(lambda x: ' '.join(cut(x)))\n",
        "coalesced_brand_encoder = TfidfVectorizer(max_df=0.99, min_df=0.01)\n",
        "coalesced_brand_vec = coalesced_brand_encoder.fit_transform((d for d in coalesced_brand_cuts))\n",
        "coalesced_brand_vec"
      ]
    },
    {
      "cell_type": "code",
      "execution_count": null,
      "id": "4879b6df",
      "metadata": {
        "colab": {
          "base_uri": "https://localhost:8080/"
        },
        "id": "4879b6df",
        "outputId": "a7271f58-b44c-4750-d148-7e5e0f9ebbdd"
      },
      "outputs": [
        {
          "output_type": "execute_result",
          "data": {
            "text/plain": [
              "<39994x70 sparse matrix of type '<class 'numpy.float64'>'\n",
              "\twith 196340 stored elements in COOrdinate format>"
            ]
          },
          "metadata": {},
          "execution_count": 39
        }
      ],
      "source": [
        "# Combine all TF-IDF sparse matrices\n",
        "feature_tfidf = sp.hstack([trans_desc_vec,default_brand_vec,default_location_vec,coalesced_brand_vec])\n",
        "feature_tfidf"
      ]
    },
    {
      "cell_type": "code",
      "execution_count": null,
      "id": "9f02009e",
      "metadata": {
        "id": "9f02009e",
        "outputId": "0fa920b1-d7d7-46b9-9e2e-104ae9845a15",
        "colab": {
          "base_uri": "https://localhost:8080/"
        }
      },
      "outputs": [
        {
          "output_type": "execute_result",
          "data": {
            "text/plain": [
              "(39994, 73)"
            ]
          },
          "metadata": {},
          "execution_count": 40
        }
      ],
      "source": [
        "# Combine all features\n",
        "feature=pd.concat([train[['amt','is_international','payment_category']].reset_index(drop=True), pd.DataFrame(feature_tfidf.toarray()).reset_index(drop=True)],axis=1).reset_index(drop=True)\n",
        "feature.shape"
      ]
    },
    {
      "cell_type": "code",
      "execution_count": null,
      "id": "73967905",
      "metadata": {
        "id": "73967905"
      },
      "outputs": [],
      "source": [
        "# Split the training and validation data set into an 80:20 ratio\n",
        "X_train, X_dev, y_train, y_dev = train_test_split(feature, train['Category_encoded'], test_size=0.2, random_state=1, stratify=train['Category_encoded'],\n",
        "                                                        shuffle=True)"
      ]
    },
    {
      "cell_type": "code",
      "execution_count": null,
      "id": "25fd3e9e",
      "metadata": {
        "id": "25fd3e9e",
        "outputId": "56314fbe-d8e7-4209-8336-a4f49981372f",
        "colab": {
          "base_uri": "https://localhost:8080/"
        }
      },
      "outputs": [
        {
          "output_type": "execute_result",
          "data": {
            "text/plain": [
              "(31995, 73)"
            ]
          },
          "metadata": {},
          "execution_count": 42
        }
      ],
      "source": [
        "X_train.shape"
      ]
    },
    {
      "cell_type": "code",
      "execution_count": null,
      "id": "623de498",
      "metadata": {
        "id": "623de498",
        "outputId": "6b32af12-8609-44db-8de3-43b450a58a32",
        "colab": {
          "base_uri": "https://localhost:8080/"
        }
      },
      "outputs": [
        {
          "output_type": "execute_result",
          "data": {
            "text/plain": [
              "(7999, 73)"
            ]
          },
          "metadata": {},
          "execution_count": 43
        }
      ],
      "source": [
        "X_dev.shape"
      ]
    },
    {
      "cell_type": "markdown",
      "source": [
        "# Model Training & Prediction"
      ],
      "metadata": {
        "id": "P4d_qXZ6yl5l"
      },
      "id": "P4d_qXZ6yl5l"
    },
    {
      "cell_type": "markdown",
      "source": [
        "## 1.  TF-IDF +  Naive Bayes"
      ],
      "metadata": {
        "id": "RovMDYbM2tYQ"
      },
      "id": "RovMDYbM2tYQ"
    },
    {
      "cell_type": "code",
      "execution_count": null,
      "id": "5f816036",
      "metadata": {
        "id": "5f816036",
        "outputId": "91ec73ad-cf8b-4a26-a738-a4dccf3ac024"
      },
      "outputs": [
        {
          "name": "stdout",
          "output_type": "stream",
          "text": [
            "Fitting 5 folds for each of 6 candidates, totalling 30 fits\n"
          ]
        },
        {
          "name": "stderr",
          "output_type": "stream",
          "text": [
            "D:\\soft\\anaconda3\\lib\\site-packages\\sklearn\\utils\\validation.py:1858: FutureWarning: Feature names only support names that are all strings. Got feature names with dtypes: ['int', 'str']. An error will be raised in 1.2.\n",
            "  warnings.warn(\n",
            "D:\\soft\\anaconda3\\lib\\site-packages\\sklearn\\utils\\validation.py:1858: FutureWarning: Feature names only support names that are all strings. Got feature names with dtypes: ['int', 'str']. An error will be raised in 1.2.\n",
            "  warnings.warn(\n",
            "D:\\soft\\anaconda3\\lib\\site-packages\\sklearn\\utils\\validation.py:1858: FutureWarning: Feature names only support names that are all strings. Got feature names with dtypes: ['int', 'str']. An error will be raised in 1.2.\n",
            "  warnings.warn(\n",
            "D:\\soft\\anaconda3\\lib\\site-packages\\sklearn\\utils\\validation.py:1858: FutureWarning: Feature names only support names that are all strings. Got feature names with dtypes: ['int', 'str']. An error will be raised in 1.2.\n",
            "  warnings.warn(\n",
            "D:\\soft\\anaconda3\\lib\\site-packages\\sklearn\\utils\\validation.py:1858: FutureWarning: Feature names only support names that are all strings. Got feature names with dtypes: ['int', 'str']. An error will be raised in 1.2.\n",
            "  warnings.warn(\n",
            "D:\\soft\\anaconda3\\lib\\site-packages\\sklearn\\utils\\validation.py:1858: FutureWarning: Feature names only support names that are all strings. Got feature names with dtypes: ['int', 'str']. An error will be raised in 1.2.\n",
            "  warnings.warn(\n",
            "D:\\soft\\anaconda3\\lib\\site-packages\\sklearn\\utils\\validation.py:1858: FutureWarning: Feature names only support names that are all strings. Got feature names with dtypes: ['int', 'str']. An error will be raised in 1.2.\n",
            "  warnings.warn(\n",
            "D:\\soft\\anaconda3\\lib\\site-packages\\sklearn\\utils\\validation.py:1858: FutureWarning: Feature names only support names that are all strings. Got feature names with dtypes: ['int', 'str']. An error will be raised in 1.2.\n",
            "  warnings.warn(\n",
            "D:\\soft\\anaconda3\\lib\\site-packages\\sklearn\\utils\\validation.py:1858: FutureWarning: Feature names only support names that are all strings. Got feature names with dtypes: ['int', 'str']. An error will be raised in 1.2.\n",
            "  warnings.warn(\n",
            "D:\\soft\\anaconda3\\lib\\site-packages\\sklearn\\utils\\validation.py:1858: FutureWarning: Feature names only support names that are all strings. Got feature names with dtypes: ['int', 'str']. An error will be raised in 1.2.\n",
            "  warnings.warn(\n",
            "D:\\soft\\anaconda3\\lib\\site-packages\\sklearn\\utils\\validation.py:1858: FutureWarning: Feature names only support names that are all strings. Got feature names with dtypes: ['int', 'str']. An error will be raised in 1.2.\n",
            "  warnings.warn(\n",
            "D:\\soft\\anaconda3\\lib\\site-packages\\sklearn\\utils\\validation.py:1858: FutureWarning: Feature names only support names that are all strings. Got feature names with dtypes: ['int', 'str']. An error will be raised in 1.2.\n",
            "  warnings.warn(\n",
            "D:\\soft\\anaconda3\\lib\\site-packages\\sklearn\\utils\\validation.py:1858: FutureWarning: Feature names only support names that are all strings. Got feature names with dtypes: ['int', 'str']. An error will be raised in 1.2.\n",
            "  warnings.warn(\n",
            "D:\\soft\\anaconda3\\lib\\site-packages\\sklearn\\utils\\validation.py:1858: FutureWarning: Feature names only support names that are all strings. Got feature names with dtypes: ['int', 'str']. An error will be raised in 1.2.\n",
            "  warnings.warn(\n",
            "D:\\soft\\anaconda3\\lib\\site-packages\\sklearn\\utils\\validation.py:1858: FutureWarning: Feature names only support names that are all strings. Got feature names with dtypes: ['int', 'str']. An error will be raised in 1.2.\n",
            "  warnings.warn(\n",
            "D:\\soft\\anaconda3\\lib\\site-packages\\sklearn\\utils\\validation.py:1858: FutureWarning: Feature names only support names that are all strings. Got feature names with dtypes: ['int', 'str']. An error will be raised in 1.2.\n",
            "  warnings.warn(\n",
            "D:\\soft\\anaconda3\\lib\\site-packages\\sklearn\\utils\\validation.py:1858: FutureWarning: Feature names only support names that are all strings. Got feature names with dtypes: ['int', 'str']. An error will be raised in 1.2.\n",
            "  warnings.warn(\n",
            "D:\\soft\\anaconda3\\lib\\site-packages\\sklearn\\utils\\validation.py:1858: FutureWarning: Feature names only support names that are all strings. Got feature names with dtypes: ['int', 'str']. An error will be raised in 1.2.\n",
            "  warnings.warn(\n",
            "D:\\soft\\anaconda3\\lib\\site-packages\\sklearn\\utils\\validation.py:1858: FutureWarning: Feature names only support names that are all strings. Got feature names with dtypes: ['int', 'str']. An error will be raised in 1.2.\n",
            "  warnings.warn(\n",
            "D:\\soft\\anaconda3\\lib\\site-packages\\sklearn\\utils\\validation.py:1858: FutureWarning: Feature names only support names that are all strings. Got feature names with dtypes: ['int', 'str']. An error will be raised in 1.2.\n",
            "  warnings.warn(\n",
            "D:\\soft\\anaconda3\\lib\\site-packages\\sklearn\\utils\\validation.py:1858: FutureWarning: Feature names only support names that are all strings. Got feature names with dtypes: ['int', 'str']. An error will be raised in 1.2.\n",
            "  warnings.warn(\n",
            "D:\\soft\\anaconda3\\lib\\site-packages\\sklearn\\utils\\validation.py:1858: FutureWarning: Feature names only support names that are all strings. Got feature names with dtypes: ['int', 'str']. An error will be raised in 1.2.\n",
            "  warnings.warn(\n",
            "D:\\soft\\anaconda3\\lib\\site-packages\\sklearn\\utils\\validation.py:1858: FutureWarning: Feature names only support names that are all strings. Got feature names with dtypes: ['int', 'str']. An error will be raised in 1.2.\n",
            "  warnings.warn(\n",
            "D:\\soft\\anaconda3\\lib\\site-packages\\sklearn\\utils\\validation.py:1858: FutureWarning: Feature names only support names that are all strings. Got feature names with dtypes: ['int', 'str']. An error will be raised in 1.2.\n",
            "  warnings.warn(\n",
            "D:\\soft\\anaconda3\\lib\\site-packages\\sklearn\\utils\\validation.py:1858: FutureWarning: Feature names only support names that are all strings. Got feature names with dtypes: ['int', 'str']. An error will be raised in 1.2.\n",
            "  warnings.warn(\n",
            "D:\\soft\\anaconda3\\lib\\site-packages\\sklearn\\utils\\validation.py:1858: FutureWarning: Feature names only support names that are all strings. Got feature names with dtypes: ['int', 'str']. An error will be raised in 1.2.\n",
            "  warnings.warn(\n",
            "D:\\soft\\anaconda3\\lib\\site-packages\\sklearn\\utils\\validation.py:1858: FutureWarning: Feature names only support names that are all strings. Got feature names with dtypes: ['int', 'str']. An error will be raised in 1.2.\n",
            "  warnings.warn(\n",
            "D:\\soft\\anaconda3\\lib\\site-packages\\sklearn\\utils\\validation.py:1858: FutureWarning: Feature names only support names that are all strings. Got feature names with dtypes: ['int', 'str']. An error will be raised in 1.2.\n",
            "  warnings.warn(\n",
            "D:\\soft\\anaconda3\\lib\\site-packages\\sklearn\\utils\\validation.py:1858: FutureWarning: Feature names only support names that are all strings. Got feature names with dtypes: ['int', 'str']. An error will be raised in 1.2.\n",
            "  warnings.warn(\n",
            "D:\\soft\\anaconda3\\lib\\site-packages\\sklearn\\utils\\validation.py:1858: FutureWarning: Feature names only support names that are all strings. Got feature names with dtypes: ['int', 'str']. An error will be raised in 1.2.\n",
            "  warnings.warn(\n",
            "D:\\soft\\anaconda3\\lib\\site-packages\\sklearn\\utils\\validation.py:1858: FutureWarning: Feature names only support names that are all strings. Got feature names with dtypes: ['int', 'str']. An error will be raised in 1.2.\n",
            "  warnings.warn(\n",
            "D:\\soft\\anaconda3\\lib\\site-packages\\sklearn\\utils\\validation.py:1858: FutureWarning: Feature names only support names that are all strings. Got feature names with dtypes: ['int', 'str']. An error will be raised in 1.2.\n",
            "  warnings.warn(\n",
            "D:\\soft\\anaconda3\\lib\\site-packages\\sklearn\\utils\\validation.py:1858: FutureWarning: Feature names only support names that are all strings. Got feature names with dtypes: ['int', 'str']. An error will be raised in 1.2.\n",
            "  warnings.warn(\n",
            "D:\\soft\\anaconda3\\lib\\site-packages\\sklearn\\utils\\validation.py:1858: FutureWarning: Feature names only support names that are all strings. Got feature names with dtypes: ['int', 'str']. An error will be raised in 1.2.\n",
            "  warnings.warn(\n",
            "D:\\soft\\anaconda3\\lib\\site-packages\\sklearn\\utils\\validation.py:1858: FutureWarning: Feature names only support names that are all strings. Got feature names with dtypes: ['int', 'str']. An error will be raised in 1.2.\n",
            "  warnings.warn(\n",
            "D:\\soft\\anaconda3\\lib\\site-packages\\sklearn\\utils\\validation.py:1858: FutureWarning: Feature names only support names that are all strings. Got feature names with dtypes: ['int', 'str']. An error will be raised in 1.2.\n",
            "  warnings.warn(\n",
            "D:\\soft\\anaconda3\\lib\\site-packages\\sklearn\\utils\\validation.py:1858: FutureWarning: Feature names only support names that are all strings. Got feature names with dtypes: ['int', 'str']. An error will be raised in 1.2.\n",
            "  warnings.warn(\n",
            "D:\\soft\\anaconda3\\lib\\site-packages\\sklearn\\utils\\validation.py:1858: FutureWarning: Feature names only support names that are all strings. Got feature names with dtypes: ['int', 'str']. An error will be raised in 1.2.\n",
            "  warnings.warn(\n",
            "D:\\soft\\anaconda3\\lib\\site-packages\\sklearn\\utils\\validation.py:1858: FutureWarning: Feature names only support names that are all strings. Got feature names with dtypes: ['int', 'str']. An error will be raised in 1.2.\n",
            "  warnings.warn(\n",
            "D:\\soft\\anaconda3\\lib\\site-packages\\sklearn\\utils\\validation.py:1858: FutureWarning: Feature names only support names that are all strings. Got feature names with dtypes: ['int', 'str']. An error will be raised in 1.2.\n",
            "  warnings.warn(\n",
            "D:\\soft\\anaconda3\\lib\\site-packages\\sklearn\\utils\\validation.py:1858: FutureWarning: Feature names only support names that are all strings. Got feature names with dtypes: ['int', 'str']. An error will be raised in 1.2.\n",
            "  warnings.warn(\n",
            "D:\\soft\\anaconda3\\lib\\site-packages\\sklearn\\utils\\validation.py:1858: FutureWarning: Feature names only support names that are all strings. Got feature names with dtypes: ['int', 'str']. An error will be raised in 1.2.\n",
            "  warnings.warn(\n",
            "D:\\soft\\anaconda3\\lib\\site-packages\\sklearn\\utils\\validation.py:1858: FutureWarning: Feature names only support names that are all strings. Got feature names with dtypes: ['int', 'str']. An error will be raised in 1.2.\n",
            "  warnings.warn(\n",
            "D:\\soft\\anaconda3\\lib\\site-packages\\sklearn\\utils\\validation.py:1858: FutureWarning: Feature names only support names that are all strings. Got feature names with dtypes: ['int', 'str']. An error will be raised in 1.2.\n",
            "  warnings.warn(\n",
            "D:\\soft\\anaconda3\\lib\\site-packages\\sklearn\\utils\\validation.py:1858: FutureWarning: Feature names only support names that are all strings. Got feature names with dtypes: ['int', 'str']. An error will be raised in 1.2.\n",
            "  warnings.warn(\n",
            "D:\\soft\\anaconda3\\lib\\site-packages\\sklearn\\utils\\validation.py:1858: FutureWarning: Feature names only support names that are all strings. Got feature names with dtypes: ['int', 'str']. An error will be raised in 1.2.\n",
            "  warnings.warn(\n",
            "D:\\soft\\anaconda3\\lib\\site-packages\\sklearn\\utils\\validation.py:1858: FutureWarning: Feature names only support names that are all strings. Got feature names with dtypes: ['int', 'str']. An error will be raised in 1.2.\n",
            "  warnings.warn(\n",
            "D:\\soft\\anaconda3\\lib\\site-packages\\sklearn\\utils\\validation.py:1858: FutureWarning: Feature names only support names that are all strings. Got feature names with dtypes: ['int', 'str']. An error will be raised in 1.2.\n",
            "  warnings.warn(\n",
            "D:\\soft\\anaconda3\\lib\\site-packages\\sklearn\\utils\\validation.py:1858: FutureWarning: Feature names only support names that are all strings. Got feature names with dtypes: ['int', 'str']. An error will be raised in 1.2.\n",
            "  warnings.warn(\n",
            "D:\\soft\\anaconda3\\lib\\site-packages\\sklearn\\utils\\validation.py:1858: FutureWarning: Feature names only support names that are all strings. Got feature names with dtypes: ['int', 'str']. An error will be raised in 1.2.\n",
            "  warnings.warn(\n"
          ]
        },
        {
          "name": "stderr",
          "output_type": "stream",
          "text": [
            "D:\\soft\\anaconda3\\lib\\site-packages\\sklearn\\utils\\validation.py:1858: FutureWarning: Feature names only support names that are all strings. Got feature names with dtypes: ['int', 'str']. An error will be raised in 1.2.\n",
            "  warnings.warn(\n",
            "D:\\soft\\anaconda3\\lib\\site-packages\\sklearn\\utils\\validation.py:1858: FutureWarning: Feature names only support names that are all strings. Got feature names with dtypes: ['int', 'str']. An error will be raised in 1.2.\n",
            "  warnings.warn(\n",
            "D:\\soft\\anaconda3\\lib\\site-packages\\sklearn\\utils\\validation.py:1858: FutureWarning: Feature names only support names that are all strings. Got feature names with dtypes: ['int', 'str']. An error will be raised in 1.2.\n",
            "  warnings.warn(\n",
            "D:\\soft\\anaconda3\\lib\\site-packages\\sklearn\\utils\\validation.py:1858: FutureWarning: Feature names only support names that are all strings. Got feature names with dtypes: ['int', 'str']. An error will be raised in 1.2.\n",
            "  warnings.warn(\n",
            "D:\\soft\\anaconda3\\lib\\site-packages\\sklearn\\utils\\validation.py:1858: FutureWarning: Feature names only support names that are all strings. Got feature names with dtypes: ['int', 'str']. An error will be raised in 1.2.\n",
            "  warnings.warn(\n",
            "D:\\soft\\anaconda3\\lib\\site-packages\\sklearn\\utils\\validation.py:1858: FutureWarning: Feature names only support names that are all strings. Got feature names with dtypes: ['int', 'str']. An error will be raised in 1.2.\n",
            "  warnings.warn(\n",
            "D:\\soft\\anaconda3\\lib\\site-packages\\sklearn\\utils\\validation.py:1858: FutureWarning: Feature names only support names that are all strings. Got feature names with dtypes: ['int', 'str']. An error will be raised in 1.2.\n",
            "  warnings.warn(\n",
            "D:\\soft\\anaconda3\\lib\\site-packages\\sklearn\\utils\\validation.py:1858: FutureWarning: Feature names only support names that are all strings. Got feature names with dtypes: ['int', 'str']. An error will be raised in 1.2.\n",
            "  warnings.warn(\n",
            "D:\\soft\\anaconda3\\lib\\site-packages\\sklearn\\utils\\validation.py:1858: FutureWarning: Feature names only support names that are all strings. Got feature names with dtypes: ['int', 'str']. An error will be raised in 1.2.\n",
            "  warnings.warn(\n",
            "D:\\soft\\anaconda3\\lib\\site-packages\\sklearn\\utils\\validation.py:1858: FutureWarning: Feature names only support names that are all strings. Got feature names with dtypes: ['int', 'str']. An error will be raised in 1.2.\n",
            "  warnings.warn(\n",
            "D:\\soft\\anaconda3\\lib\\site-packages\\sklearn\\utils\\validation.py:1858: FutureWarning: Feature names only support names that are all strings. Got feature names with dtypes: ['int', 'str']. An error will be raised in 1.2.\n",
            "  warnings.warn(\n"
          ]
        },
        {
          "data": {
            "text/html": [
              "<style>#sk-container-id-3 {color: black;background-color: white;}#sk-container-id-3 pre{padding: 0;}#sk-container-id-3 div.sk-toggleable {background-color: white;}#sk-container-id-3 label.sk-toggleable__label {cursor: pointer;display: block;width: 100%;margin-bottom: 0;padding: 0.3em;box-sizing: border-box;text-align: center;}#sk-container-id-3 label.sk-toggleable__label-arrow:before {content: \"▸\";float: left;margin-right: 0.25em;color: #696969;}#sk-container-id-3 label.sk-toggleable__label-arrow:hover:before {color: black;}#sk-container-id-3 div.sk-estimator:hover label.sk-toggleable__label-arrow:before {color: black;}#sk-container-id-3 div.sk-toggleable__content {max-height: 0;max-width: 0;overflow: hidden;text-align: left;background-color: #f0f8ff;}#sk-container-id-3 div.sk-toggleable__content pre {margin: 0.2em;color: black;border-radius: 0.25em;background-color: #f0f8ff;}#sk-container-id-3 input.sk-toggleable__control:checked~div.sk-toggleable__content {max-height: 200px;max-width: 100%;overflow: auto;}#sk-container-id-3 input.sk-toggleable__control:checked~label.sk-toggleable__label-arrow:before {content: \"▾\";}#sk-container-id-3 div.sk-estimator input.sk-toggleable__control:checked~label.sk-toggleable__label {background-color: #d4ebff;}#sk-container-id-3 div.sk-label input.sk-toggleable__control:checked~label.sk-toggleable__label {background-color: #d4ebff;}#sk-container-id-3 input.sk-hidden--visually {border: 0;clip: rect(1px 1px 1px 1px);clip: rect(1px, 1px, 1px, 1px);height: 1px;margin: -1px;overflow: hidden;padding: 0;position: absolute;width: 1px;}#sk-container-id-3 div.sk-estimator {font-family: monospace;background-color: #f0f8ff;border: 1px dotted black;border-radius: 0.25em;box-sizing: border-box;margin-bottom: 0.5em;}#sk-container-id-3 div.sk-estimator:hover {background-color: #d4ebff;}#sk-container-id-3 div.sk-parallel-item::after {content: \"\";width: 100%;border-bottom: 1px solid gray;flex-grow: 1;}#sk-container-id-3 div.sk-label:hover label.sk-toggleable__label {background-color: #d4ebff;}#sk-container-id-3 div.sk-serial::before {content: \"\";position: absolute;border-left: 1px solid gray;box-sizing: border-box;top: 0;bottom: 0;left: 50%;z-index: 0;}#sk-container-id-3 div.sk-serial {display: flex;flex-direction: column;align-items: center;background-color: white;padding-right: 0.2em;padding-left: 0.2em;position: relative;}#sk-container-id-3 div.sk-item {position: relative;z-index: 1;}#sk-container-id-3 div.sk-parallel {display: flex;align-items: stretch;justify-content: center;background-color: white;position: relative;}#sk-container-id-3 div.sk-item::before, #sk-container-id-3 div.sk-parallel-item::before {content: \"\";position: absolute;border-left: 1px solid gray;box-sizing: border-box;top: 0;bottom: 0;left: 50%;z-index: -1;}#sk-container-id-3 div.sk-parallel-item {display: flex;flex-direction: column;z-index: 1;position: relative;background-color: white;}#sk-container-id-3 div.sk-parallel-item:first-child::after {align-self: flex-end;width: 50%;}#sk-container-id-3 div.sk-parallel-item:last-child::after {align-self: flex-start;width: 50%;}#sk-container-id-3 div.sk-parallel-item:only-child::after {width: 0;}#sk-container-id-3 div.sk-dashed-wrapped {border: 1px dashed gray;margin: 0 0.4em 0.5em 0.4em;box-sizing: border-box;padding-bottom: 0.4em;background-color: white;}#sk-container-id-3 div.sk-label label {font-family: monospace;font-weight: bold;display: inline-block;line-height: 1.2em;}#sk-container-id-3 div.sk-label-container {text-align: center;}#sk-container-id-3 div.sk-container {/* jupyter's `normalize.less` sets `[hidden] { display: none; }` but bootstrap.min.css set `[hidden] { display: none !important; }` so we also need the `!important` here to be able to override the default hidden behavior on the sphinx rendered scikit-learn.org. See: https://github.com/scikit-learn/scikit-learn/issues/21755 */display: inline-block !important;position: relative;}#sk-container-id-3 div.sk-text-repr-fallback {display: none;}</style><div id=\"sk-container-id-3\" class=\"sk-top-container\"><div class=\"sk-text-repr-fallback\"><pre>GridSearchCV(cv=5, estimator=MultinomialNB(),\n",
              "             param_grid={&#x27;alpha&#x27;: [0.001, 0.01, 0.1, 1, 10, 100]},\n",
              "             scoring=&#x27;accuracy&#x27;, verbose=1)</pre><b>In a Jupyter environment, please rerun this cell to show the HTML representation or trust the notebook. <br />On GitHub, the HTML representation is unable to render, please try loading this page with nbviewer.org.</b></div><div class=\"sk-container\" hidden><div class=\"sk-item sk-dashed-wrapped\"><div class=\"sk-label-container\"><div class=\"sk-label sk-toggleable\"><input class=\"sk-toggleable__control sk-hidden--visually\" id=\"sk-estimator-id-5\" type=\"checkbox\" ><label for=\"sk-estimator-id-5\" class=\"sk-toggleable__label sk-toggleable__label-arrow\">GridSearchCV</label><div class=\"sk-toggleable__content\"><pre>GridSearchCV(cv=5, estimator=MultinomialNB(),\n",
              "             param_grid={&#x27;alpha&#x27;: [0.001, 0.01, 0.1, 1, 10, 100]},\n",
              "             scoring=&#x27;accuracy&#x27;, verbose=1)</pre></div></div></div><div class=\"sk-parallel\"><div class=\"sk-parallel-item\"><div class=\"sk-item\"><div class=\"sk-label-container\"><div class=\"sk-label sk-toggleable\"><input class=\"sk-toggleable__control sk-hidden--visually\" id=\"sk-estimator-id-6\" type=\"checkbox\" ><label for=\"sk-estimator-id-6\" class=\"sk-toggleable__label sk-toggleable__label-arrow\">estimator: MultinomialNB</label><div class=\"sk-toggleable__content\"><pre>MultinomialNB()</pre></div></div></div><div class=\"sk-serial\"><div class=\"sk-item\"><div class=\"sk-estimator sk-toggleable\"><input class=\"sk-toggleable__control sk-hidden--visually\" id=\"sk-estimator-id-7\" type=\"checkbox\" ><label for=\"sk-estimator-id-7\" class=\"sk-toggleable__label sk-toggleable__label-arrow\">MultinomialNB</label><div class=\"sk-toggleable__content\"><pre>MultinomialNB()</pre></div></div></div></div></div></div></div></div></div></div>"
            ],
            "text/plain": [
              "GridSearchCV(cv=5, estimator=MultinomialNB(),\n",
              "             param_grid={'alpha': [0.001, 0.01, 0.1, 1, 10, 100]},\n",
              "             scoring='accuracy', verbose=1)"
            ]
          },
          "execution_count": 109,
          "metadata": {},
          "output_type": "execute_result"
        },
        {
          "name": "stdout",
          "output_type": "stream",
          "text": [
            "The best parameters are {'alpha': 0.01} with a score of 0.39\n"
          ]
        }
      ],
      "source": [
        "from sklearn.naive_bayes import MultinomialNB\n",
        "gnb = MultinomialNB()\n",
        "grid = GridSearchCV(MultinomialNB(),\n",
        "                    param_grid={\"alpha\": [0.001, 0.01, 0.1, 1, 10, 100]}, cv=5, verbose=1, scoring='accuracy')\n",
        "grid.fit(X_train, y_train)\n",
        "print(\"The best parameters are %s with a score of %0.2f\" % (grid.best_params_, grid.best_score_))"
      ]
    },
    {
      "cell_type": "code",
      "execution_count": null,
      "id": "5d2f76b8",
      "metadata": {
        "id": "5d2f76b8",
        "outputId": "be2255f8-c5bc-45de-d196-bcf50f193376"
      },
      "outputs": [
        {
          "data": {
            "text/plain": [
              "(31995,)"
            ]
          },
          "execution_count": 104,
          "metadata": {},
          "output_type": "execute_result"
        }
      ],
      "source": [
        "y_train.shape"
      ]
    },
    {
      "cell_type": "markdown",
      "source": [
        "## 2.  TF-IDF +​ XGBoost"
      ],
      "metadata": {
        "id": "pt-GzrhXy6uu"
      },
      "id": "pt-GzrhXy6uu"
    },
    {
      "cell_type": "code",
      "execution_count": null,
      "id": "e4df6848",
      "metadata": {
        "id": "e4df6848"
      },
      "outputs": [],
      "source": [
        "# train the model\n",
        "import xgboost as xgb\n",
        "clf = xgb.XGBClassifier(max_depth=200, n_estimators=400, subsample=1, learning_rate=0.07, reg_lambda=0.1, reg_alpha=0.1, gamma=1)\n",
        "clf.fit(X_train, y_train)\n",
        "\n",
        "predictions = clf.predict(X_train)"
      ]
    },
    {
      "cell_type": "code",
      "execution_count": null,
      "id": "26cb4eb3",
      "metadata": {
        "id": "26cb4eb3"
      },
      "outputs": [],
      "source": [
        "print (\"Training set f1_score :\", np.round(metrics.f1_score(y_train, predictions,average='micro'),5))"
      ]
    },
    {
      "cell_type": "code",
      "execution_count": null,
      "id": "90079d51",
      "metadata": {
        "id": "90079d51"
      },
      "outputs": [],
      "source": [
        "from sklearn.metrics import classification_report, accuracy_score, roc_auc_score, recall_score, f1_score, precision_score\n",
        "def evaluate(model, x_test, y_test):\n",
        "    test_mean_accuracy = model.score(x_test, y_test)\n",
        "    y_scores_prob = model.predict_proba(x_test)\n",
        "    y_scores = model.predict(x_test)\n",
        "    auc = roc_auc_score(y_test, y_scores_prob, multi_class='ovo')\n",
        "    print(f'test mean accuracy:{test_mean_accuracy}')\n",
        "    # print(f'test auc:{auc}')\n",
        "    print('report the summary:')\n",
        "    print(classification_report(y_test, y_scores))\n",
        "    return y_scores, y_scores_prob, auc\n",
        "\n",
        "# test the model\n",
        "# y_scores, y_scores_prob, auc = evaluate(clf, X_dev, y_dev)"
      ]
    },
    {
      "cell_type": "code",
      "execution_count": null,
      "id": "a6bea003",
      "metadata": {
        "id": "a6bea003",
        "outputId": "2ec63b1b-59ce-464c-f744-193098fddbe3"
      },
      "outputs": [
        {
          "data": {
            "text/plain": [
              "(10000, 73)"
            ]
          },
          "execution_count": 78,
          "metadata": {},
          "output_type": "execute_result"
        }
      ],
      "source": [
        "trans_desc_cuts = test['trans_desc'].apply(lambda x: ' '.join(cut(x)))\n",
        "trans_desc_vec = trans_desc_encoder.transform((d for d in trans_desc_cuts))\n",
        "\n",
        "default_brand_cuts = test['default_brand'].apply(lambda x: ' '.join(cut(x)))\n",
        "default_brand_vec = default_brand_encoder.transform((d for d in default_brand_cuts))\n",
        "\n",
        "default_location_cuts = test['default_location'].apply(lambda x: ' '.join(cut(x)))\n",
        "default_location_vec = default_location_encoder.transform((d for d in default_location_cuts))\n",
        "\n",
        "coalesced_brand_cuts = test['coalesced_brand'].apply(lambda x: ' '.join(cut(x)))\n",
        "coalesced_brand_vec = coalesced_brand_encoder.transform((d for d in coalesced_brand_cuts))\n",
        "\n",
        "feature_tfidf_test = sp.hstack([trans_desc_vec,default_brand_vec,default_location_vec,coalesced_brand_vec])\n",
        "feature=pd.concat([test[['amt','is_international','payment_category']].reset_index(drop=True), pd.DataFrame(feature_tfidf_test.toarray()).reset_index(drop=True)],axis=1).reset_index(drop=True)\n",
        "feature_test.shape"
      ]
    },
    {
      "cell_type": "code",
      "execution_count": null,
      "id": "1d78b12f",
      "metadata": {
        "id": "1d78b12f",
        "outputId": "8ff6a628-6d45-47ea-98bb-abca8f6011b2"
      },
      "outputs": [
        {
          "data": {
            "text/plain": [
              "[6, 6, 8, 4, 0]"
            ]
          },
          "execution_count": 83,
          "metadata": {},
          "output_type": "execute_result"
        }
      ],
      "source": [
        "predicts = clf.predict(feature_test).tolist()\n",
        "predicts[:5]"
      ]
    },
    {
      "cell_type": "code",
      "execution_count": null,
      "id": "e09babac",
      "metadata": {
        "id": "e09babac"
      },
      "outputs": [],
      "source": [
        "# decode the predicted labels\n",
        "data_test['Category'] = encoder.inverse_transform(predicts).tolist()"
      ]
    },
    {
      "cell_type": "code",
      "execution_count": null,
      "id": "2df4c6a7",
      "metadata": {
        "id": "2df4c6a7",
        "outputId": "68c541f9-646f-4a64-9e8d-d7bb30cccb9d"
      },
      "outputs": [
        {
          "data": {
            "text/html": [
              "<div>\n",
              "<style scoped>\n",
              "    .dataframe tbody tr th:only-of-type {\n",
              "        vertical-align: middle;\n",
              "    }\n",
              "\n",
              "    .dataframe tbody tr th {\n",
              "        vertical-align: top;\n",
              "    }\n",
              "\n",
              "    .dataframe thead th {\n",
              "        text-align: right;\n",
              "    }\n",
              "</style>\n",
              "<table border=\"1\" class=\"dataframe\">\n",
              "  <thead>\n",
              "    <tr style=\"text-align: right;\">\n",
              "      <th></th>\n",
              "      <th>trans_desc</th>\n",
              "      <th>amt</th>\n",
              "      <th>db_cr_cd</th>\n",
              "      <th>payment_category</th>\n",
              "      <th>is_international</th>\n",
              "      <th>default_brand</th>\n",
              "      <th>default_location</th>\n",
              "      <th>coalesced_brand</th>\n",
              "      <th>Category</th>\n",
              "    </tr>\n",
              "  </thead>\n",
              "  <tbody>\n",
              "    <tr>\n",
              "      <th>0</th>\n",
              "      <td>CHECK CRD PURCHASE 11/11 111111XXXXXX1111 111111111111111 ?MCC=1111</td>\n",
              "      <td>10.35</td>\n",
              "      <td>D</td>\n",
              "      <td>Check Card</td>\n",
              "      <td>False</td>\n",
              "      <td>PACKAGE EXPRESS</td>\n",
              "      <td>LACEY WA</td>\n",
              "      <td>Package Express</td>\n",
              "      <td>Retail Trade</td>\n",
              "    </tr>\n",
              "    <tr>\n",
              "      <th>1</th>\n",
              "      <td>RECUR DEBIT CRD PMT11/11 111111XXXXXX1111 111111111111111 ?MCC=1111</td>\n",
              "      <td>36.00</td>\n",
              "      <td>D</td>\n",
              "      <td>Debit Card</td>\n",
              "      <td>False</td>\n",
              "      <td>YP *FRMLY AT&amp;T AD</td>\n",
              "      <td>111-111-1111 CA</td>\n",
              "      <td>At And T</td>\n",
              "      <td>Retail Trade</td>\n",
              "    </tr>\n",
              "    <tr>\n",
              "      <th>2</th>\n",
              "      <td>CHECK CRD PURCHASE 11/11 111111XXXXXX1111 111111111111111 ?MCC=1111</td>\n",
              "      <td>27.00</td>\n",
              "      <td>D</td>\n",
              "      <td>Check Card</td>\n",
              "      <td>False</td>\n",
              "      <td>NORMAN G JENSEN IN</td>\n",
              "      <td>111-1111111 MN</td>\n",
              "      <td>Norman G Jensen</td>\n",
              "      <td>Trade, Professional and Personal Services</td>\n",
              "    </tr>\n",
              "    <tr>\n",
              "      <th>3</th>\n",
              "      <td>CHECK CRD PUR RTRN 11/11 111111XXXXXX1111 111111111111111 ?MCC=1111</td>\n",
              "      <td>20.00</td>\n",
              "      <td>C</td>\n",
              "      <td>Check Card</td>\n",
              "      <td>False</td>\n",
              "      <td>TWILIO</td>\n",
              "      <td>SAN FARANSICO CA</td>\n",
              "      <td>Twilio</td>\n",
              "      <td>Health and Community Services</td>\n",
              "    </tr>\n",
              "    <tr>\n",
              "      <th>4</th>\n",
              "      <td>CHECK CRD PURCHASE 11/11 111111XXXXXX1111 111111111111111 ?MCC=1111</td>\n",
              "      <td>325.78</td>\n",
              "      <td>D</td>\n",
              "      <td>Check Card</td>\n",
              "      <td>False</td>\n",
              "      <td>AT&amp;T D11K 1111</td>\n",
              "      <td>FORT WORTH TX</td>\n",
              "      <td>At And T</td>\n",
              "      <td>Communication Services</td>\n",
              "    </tr>\n",
              "    <tr>\n",
              "      <th>5</th>\n",
              "      <td>CHECK CRD PURCHASE 11/11 111111XXXXXX1111 111111111111111 ?MCC=1111</td>\n",
              "      <td>25.00</td>\n",
              "      <td>D</td>\n",
              "      <td>Check Card</td>\n",
              "      <td>False</td>\n",
              "      <td>LIBERTY POSTAL BUS</td>\n",
              "      <td>THE COLONY TX</td>\n",
              "      <td>Liberty Postal Express</td>\n",
              "      <td>Health and Community Services</td>\n",
              "    </tr>\n",
              "    <tr>\n",
              "      <th>6</th>\n",
              "      <td>CHECK CRD PURCHASE 11/11 111111XXXXXX1111 111111111111111 ?MCC=1111 11</td>\n",
              "      <td>41.90</td>\n",
              "      <td>D</td>\n",
              "      <td>Check Card</td>\n",
              "      <td>False</td>\n",
              "      <td>COMMSPEED L.L.C.</td>\n",
              "      <td>111-111-1111 AZ</td>\n",
              "      <td>Commspeed Internet Services</td>\n",
              "      <td>Entertainment</td>\n",
              "    </tr>\n",
              "    <tr>\n",
              "      <th>7</th>\n",
              "      <td>CHECK CRD PURCHASE 11/11 111111XXXXXX1111 111111111111111 ?MCC=1111 11</td>\n",
              "      <td>56.87</td>\n",
              "      <td>D</td>\n",
              "      <td>Check Card</td>\n",
              "      <td>False</td>\n",
              "      <td>TELCEL HERMOSILLO V</td>\n",
              "      <td>HERMOSILLO MX</td>\n",
              "      <td>TELCEL HERMOSILLO V</td>\n",
              "      <td>Retail Trade</td>\n",
              "    </tr>\n",
              "    <tr>\n",
              "      <th>8</th>\n",
              "      <td>RECUR DEBIT CRD PMT11/11 111111XXXXXX1111 111111111111111 ?MCC=1111 11</td>\n",
              "      <td>60.04</td>\n",
              "      <td>D</td>\n",
              "      <td>Debit Card</td>\n",
              "      <td>False</td>\n",
              "      <td>ATT*BUS PHONE PMT</td>\n",
              "      <td>111-111-1111 TX</td>\n",
              "      <td>At And T</td>\n",
              "      <td>Trade, Professional and Personal Services</td>\n",
              "    </tr>\n",
              "    <tr>\n",
              "      <th>9</th>\n",
              "      <td>CHECK CRD PURCHASE 11/11 111111XXXXXX1111 111111111111111 ?MCC=1111 11</td>\n",
              "      <td>7.35</td>\n",
              "      <td>D</td>\n",
              "      <td>Check Card</td>\n",
              "      <td>False</td>\n",
              "      <td>USPS CPU 1</td>\n",
              "      <td>PHOENIX AZ</td>\n",
              "      <td>Usps Cpu</td>\n",
              "      <td>Retail Trade</td>\n",
              "    </tr>\n",
              "  </tbody>\n",
              "</table>\n",
              "</div>"
            ],
            "text/plain": [
              "                                                               trans_desc  \\\n",
              "0     CHECK CRD PURCHASE 11/11 111111XXXXXX1111 111111111111111 ?MCC=1111   \n",
              "1     RECUR DEBIT CRD PMT11/11 111111XXXXXX1111 111111111111111 ?MCC=1111   \n",
              "2     CHECK CRD PURCHASE 11/11 111111XXXXXX1111 111111111111111 ?MCC=1111   \n",
              "3     CHECK CRD PUR RTRN 11/11 111111XXXXXX1111 111111111111111 ?MCC=1111   \n",
              "4     CHECK CRD PURCHASE 11/11 111111XXXXXX1111 111111111111111 ?MCC=1111   \n",
              "5     CHECK CRD PURCHASE 11/11 111111XXXXXX1111 111111111111111 ?MCC=1111   \n",
              "6  CHECK CRD PURCHASE 11/11 111111XXXXXX1111 111111111111111 ?MCC=1111 11   \n",
              "7  CHECK CRD PURCHASE 11/11 111111XXXXXX1111 111111111111111 ?MCC=1111 11   \n",
              "8  RECUR DEBIT CRD PMT11/11 111111XXXXXX1111 111111111111111 ?MCC=1111 11   \n",
              "9  CHECK CRD PURCHASE 11/11 111111XXXXXX1111 111111111111111 ?MCC=1111 11   \n",
              "\n",
              "      amt db_cr_cd payment_category  is_international        default_brand  \\\n",
              "0   10.35        D       Check Card             False      PACKAGE EXPRESS   \n",
              "1   36.00        D       Debit Card             False    YP *FRMLY AT&T AD   \n",
              "2   27.00        D       Check Card             False   NORMAN G JENSEN IN   \n",
              "3   20.00        C       Check Card             False               TWILIO   \n",
              "4  325.78        D       Check Card             False       AT&T D11K 1111   \n",
              "5   25.00        D       Check Card             False   LIBERTY POSTAL BUS   \n",
              "6   41.90        D       Check Card             False     COMMSPEED L.L.C.   \n",
              "7   56.87        D       Check Card             False  TELCEL HERMOSILLO V   \n",
              "8   60.04        D       Debit Card             False    ATT*BUS PHONE PMT   \n",
              "9    7.35        D       Check Card             False           USPS CPU 1   \n",
              "\n",
              "   default_location              coalesced_brand  \\\n",
              "0          LACEY WA              Package Express   \n",
              "1   111-111-1111 CA                     At And T   \n",
              "2    111-1111111 MN              Norman G Jensen   \n",
              "3  SAN FARANSICO CA                       Twilio   \n",
              "4     FORT WORTH TX                     At And T   \n",
              "5     THE COLONY TX       Liberty Postal Express   \n",
              "6   111-111-1111 AZ  Commspeed Internet Services   \n",
              "7     HERMOSILLO MX          TELCEL HERMOSILLO V   \n",
              "8   111-111-1111 TX                     At And T   \n",
              "9        PHOENIX AZ                     Usps Cpu   \n",
              "\n",
              "                                    Category  \n",
              "0                               Retail Trade  \n",
              "1                               Retail Trade  \n",
              "2  Trade, Professional and Personal Services  \n",
              "3              Health and Community Services  \n",
              "4                     Communication Services  \n",
              "5              Health and Community Services  \n",
              "6                              Entertainment  \n",
              "7                               Retail Trade  \n",
              "8  Trade, Professional and Personal Services  \n",
              "9                               Retail Trade  "
            ]
          },
          "execution_count": 91,
          "metadata": {},
          "output_type": "execute_result"
        }
      ],
      "source": [
        "data_test.head(10)"
      ]
    },
    {
      "cell_type": "code",
      "execution_count": null,
      "id": "b6d1c818",
      "metadata": {
        "id": "b6d1c818"
      },
      "outputs": [],
      "source": [
        "data_test.to_excel('./Test+Data+Set+New_Category.xlsx','w')"
      ]
    },
    {
      "cell_type": "markdown",
      "metadata": {
        "id": "278aec29"
      },
      "source": [
        "## 3.  TF-IDF + MLP Model"
      ],
      "id": "278aec29"
    },
    {
      "cell_type": "code",
      "execution_count": null,
      "metadata": {
        "id": "kgElQu9NMDlp"
      },
      "outputs": [],
      "source": [
        "import torch\n",
        "from transformers import BertModel, BertTokenizer"
      ],
      "id": "kgElQu9NMDlp"
    },
    {
      "cell_type": "code",
      "execution_count": null,
      "metadata": {
        "id": "7703c5c1"
      },
      "outputs": [],
      "source": [
        "# train"
      ],
      "id": "7703c5c1"
    },
    {
      "cell_type": "code",
      "execution_count": null,
      "metadata": {
        "colab": {
          "base_uri": "https://localhost:8080/"
        },
        "id": "8dd39afd",
        "outputId": "26a9e852-b010-444f-ca13-0e7a94469656"
      },
      "outputs": [
        {
          "output_type": "stream",
          "name": "stderr",
          "text": [
            "/usr/local/lib/python3.7/dist-packages/ipykernel_launcher.py:2: SettingWithCopyWarning: \n",
            "A value is trying to be set on a copy of a slice from a DataFrame.\n",
            "Try using .loc[row_indexer,col_indexer] = value instead\n",
            "\n",
            "See the caveats in the documentation: https://pandas.pydata.org/pandas-docs/stable/user_guide/indexing.html#returning-a-view-versus-a-copy\n",
            "  \n"
          ]
        }
      ],
      "source": [
        "# Combine text features for encoding with bert\n",
        "train['features_text'] = train['trans_desc'].map(str) + ' ' +train['default_brand'].map(str) +' '+train['default_location'].map(str)+' '+train['coalesced_brand'].map(str).tolist()"
      ],
      "id": "8dd39afd"
    },
    {
      "cell_type": "code",
      "execution_count": null,
      "metadata": {
        "id": "e376731b"
      },
      "outputs": [],
      "source": [
        "test['features_text'] = test['trans_desc'].map(str) + ' ' +test['default_brand'].map(str) +' '+test['default_location'].map(str)+' '+test['coalesced_brand'].map(str).tolist()"
      ],
      "id": "e376731b"
    },
    {
      "cell_type": "code",
      "source": [
        "from tqdm import tqdm\n",
        "\n",
        "def text2bertvec(text_list):\n",
        "    # bert_path = f'{root}/bert-base-uncased'\n",
        "    device = 'cuda:0' if torch.cuda.is_available() else 'cpu'\n",
        "    tokenizer = BertTokenizer.from_pretrained('bert-base-uncased')\n",
        "    bert = BertModel.from_pretrained('bert-base-uncased').eval().to(device)\n",
        "\n",
        "    pad_size = 32\n",
        "    batch_size = 16\n",
        "    bert_embs = []\n",
        "    for start_idx in tqdm(range(0, len(text_list), batch_size)):\n",
        "        end_idx = start_idx + batch_size\n",
        "        contents = text_list[start_idx: end_idx]\n",
        "        with torch.no_grad():\n",
        "            tokens = tokenizer(contents, padding='max_length', max_length=pad_size, truncation=True)\n",
        "            token_ids = torch.LongTensor(tokens['input_ids']).to(device)\n",
        "            mask = torch.LongTensor(tokens['attention_mask']).to(device)\n",
        "            out = bert(input_ids=token_ids, attention_mask=mask, output_hidden_states=True)\n",
        "            pooled = out['pooler_output']\n",
        "\n",
        "        bert_embs.append(pooled)\n",
        "\n",
        "    bert_embs = torch.cat(bert_embs, dim=0)\n",
        "    return bert_embs.cpu().numpy()"
      ],
      "metadata": {
        "id": "hJxnxj0JmTAJ"
      },
      "execution_count": null,
      "outputs": [],
      "id": "hJxnxj0JmTAJ"
    },
    {
      "cell_type": "code",
      "source": [
        "train.shape"
      ],
      "metadata": {
        "colab": {
          "base_uri": "https://localhost:8080/"
        },
        "id": "REqqPfAnrT_o",
        "outputId": "68d89c45-d222-4bc9-e71d-918950ae39c0"
      },
      "execution_count": null,
      "outputs": [
        {
          "output_type": "execute_result",
          "data": {
            "text/plain": [
              "(39682, 10)"
            ]
          },
          "metadata": {},
          "execution_count": 118
        }
      ],
      "id": "REqqPfAnrT_o"
    },
    {
      "cell_type": "code",
      "source": [
        "train_text_list = train['features_text'].str.lower().tolist()\n",
        "train_text_vec = text2bertvec(train_text_list)"
      ],
      "metadata": {
        "colab": {
          "base_uri": "https://localhost:8080/"
        },
        "id": "eOGMSXcHnHG5",
        "outputId": "5e79cde5-cbdf-4eaa-beb3-33ba9cf4727b"
      },
      "execution_count": null,
      "outputs": [
        {
          "output_type": "stream",
          "name": "stderr",
          "text": [
            "Some weights of the model checkpoint at bert-base-uncased were not used when initializing BertModel: ['cls.predictions.transform.LayerNorm.bias', 'cls.predictions.transform.LayerNorm.weight', 'cls.seq_relationship.weight', 'cls.seq_relationship.bias', 'cls.predictions.bias', 'cls.predictions.transform.dense.bias', 'cls.predictions.transform.dense.weight', 'cls.predictions.decoder.weight']\n",
            "- This IS expected if you are initializing BertModel from the checkpoint of a model trained on another task or with another architecture (e.g. initializing a BertForSequenceClassification model from a BertForPreTraining model).\n",
            "- This IS NOT expected if you are initializing BertModel from the checkpoint of a model that you expect to be exactly identical (initializing a BertForSequenceClassification model from a BertForSequenceClassification model).\n",
            "100%|██████████| 2481/2481 [01:44<00:00, 23.79it/s]\n"
          ]
        }
      ],
      "id": "eOGMSXcHnHG5"
    },
    {
      "cell_type": "code",
      "source": [
        "test_text_list = test['features_text'].str.lower().tolist()\n",
        "test_text_vec = text2bertvec(test_text_list) "
      ],
      "metadata": {
        "colab": {
          "base_uri": "https://localhost:8080/"
        },
        "id": "E5BSywTYqukf",
        "outputId": "f1fd130f-03aa-48f6-88e4-eeb532204eab"
      },
      "execution_count": null,
      "outputs": [
        {
          "output_type": "stream",
          "name": "stderr",
          "text": [
            "Some weights of the model checkpoint at bert-base-uncased were not used when initializing BertModel: ['cls.predictions.transform.LayerNorm.bias', 'cls.predictions.transform.LayerNorm.weight', 'cls.seq_relationship.weight', 'cls.seq_relationship.bias', 'cls.predictions.bias', 'cls.predictions.transform.dense.bias', 'cls.predictions.transform.dense.weight', 'cls.predictions.decoder.weight']\n",
            "- This IS expected if you are initializing BertModel from the checkpoint of a model trained on another task or with another architecture (e.g. initializing a BertForSequenceClassification model from a BertForPreTraining model).\n",
            "- This IS NOT expected if you are initializing BertModel from the checkpoint of a model that you expect to be exactly identical (initializing a BertForSequenceClassification model from a BertForSequenceClassification model).\n",
            "100%|██████████| 625/625 [00:20<00:00, 30.68it/s]\n"
          ]
        }
      ],
      "id": "E5BSywTYqukf"
    },
    {
      "cell_type": "code",
      "source": [
        "from sklearn.neural_network import MLPClassifier\n",
        "clf = MLPClassifier(random_state=1, max_iter=300)\n",
        "clf.fit(train_features.values, train['Category_encoded'].values)\n",
        "predictions = clf.predict(train_features.values)\n",
        "\n",
        "print (\"Training set f1_score :\", np.round(metrics.f1_score(train['Category_encoded'].values, predictions,average='micro'),5))"
      ],
      "metadata": {
        "colab": {
          "base_uri": "https://localhost:8080/"
        },
        "id": "rOzYU8IZxhdv",
        "outputId": "c2d296b6-3d03-40ab-ea94-5838b6a440fa"
      },
      "execution_count": null,
      "outputs": [
        {
          "output_type": "execute_result",
          "data": {
            "text/plain": [
              "MLPClassifier(max_iter=300, random_state=1)"
            ]
          },
          "metadata": {},
          "execution_count": 122
        },
        {
          "output_type": "stream",
          "name": "stdout",
          "text": [
            "Training set f1_score : 0.49705\n"
          ]
        }
      ],
      "id": "rOzYU8IZxhdv"
    },
    {
      "cell_type": "markdown",
      "source": [
        "## 4. BERT + MLP Model"
      ],
      "metadata": {
        "id": "RafZHC0HMVmB"
      },
      "id": "RafZHC0HMVmB"
    },
    {
      "cell_type": "code",
      "source": [
        "from sklearn.neural_network import MLPClassifier\n",
        "clf_plus = MLPClassifier(random_state=1, max_iter=300)\n",
        "clf_plus.fit(np.hstack([train_features.values, train_text_vec]), train['Category_encoded'].values)"
      ],
      "metadata": {
        "colab": {
          "base_uri": "https://localhost:8080/"
        },
        "id": "K7gaOdUFv9Ox",
        "outputId": "e6581be0-db09-4016-b7ff-20fe25e7b74b"
      },
      "execution_count": null,
      "outputs": [
        {
          "output_type": "execute_result",
          "data": {
            "text/plain": [
              "MLPClassifier(max_iter=300, random_state=1)"
            ]
          },
          "metadata": {},
          "execution_count": 124
        }
      ],
      "id": "K7gaOdUFv9Ox"
    },
    {
      "cell_type": "code",
      "source": [
        "predictions = clf_plus.predict(np.hstack([train_features.values, train_text_vec]))"
      ],
      "metadata": {
        "id": "gc5u3oRwwA6h"
      },
      "execution_count": null,
      "outputs": [],
      "id": "gc5u3oRwwA6h"
    },
    {
      "cell_type": "code",
      "source": [
        "print (\"Training set f1_score :\", np.round(metrics.f1_score(train['Category_encoded'].values, predictions,average='micro'),5))"
      ],
      "metadata": {
        "colab": {
          "base_uri": "https://localhost:8080/"
        },
        "id": "gozH9ICZwPv1",
        "outputId": "56ca68f9-094d-4147-b5f4-2821926d15f4"
      },
      "execution_count": null,
      "outputs": [
        {
          "output_type": "stream",
          "name": "stdout",
          "text": [
            "Training set f1_score : 0.57545\n"
          ]
        }
      ],
      "id": "gozH9ICZwPv1"
    },
    {
      "cell_type": "code",
      "source": [
        "test_predictions = clf_plus.predict(np.hstack([test_features.values, test_text_vec]))"
      ],
      "metadata": {
        "id": "agIh4Opf6e5o"
      },
      "execution_count": null,
      "outputs": [],
      "id": "agIh4Opf6e5o"
    },
    {
      "cell_type": "code",
      "source": [
        "data_test['prediction'] = test_predictions"
      ],
      "metadata": {
        "id": "VJUzsxoq-Sul"
      },
      "execution_count": null,
      "outputs": [],
      "id": "VJUzsxoq-Sul"
    },
    {
      "cell_type": "code",
      "source": [
        "data_test.to_excel(f\"{root}/prediction.xlsx\")"
      ],
      "metadata": {
        "id": "lnNDsoly-dp3"
      },
      "execution_count": null,
      "outputs": [],
      "id": "lnNDsoly-dp3"
    }
  ],
  "metadata": {
    "kernelspec": {
      "display_name": "Python 3 (ipykernel)",
      "language": "python",
      "name": "python3"
    },
    "language_info": {
      "codemirror_mode": {
        "name": "ipython",
        "version": 3
      },
      "file_extension": ".py",
      "mimetype": "text/x-python",
      "name": "python",
      "nbconvert_exporter": "python",
      "pygments_lexer": "ipython3",
      "version": "3.9.12"
    },
    "colab": {
      "name": "CAC-2022-Lingyu Niu.ipynb",
      "provenance": [],
      "collapsed_sections": [],
      "toc_visible": true
    }
  },
  "nbformat": 4,
  "nbformat_minor": 5
}
